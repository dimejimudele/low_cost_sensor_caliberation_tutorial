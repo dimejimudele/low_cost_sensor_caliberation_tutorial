{
 "cells": [
  {
   "cell_type": "code",
   "execution_count": 1,
   "id": "0d1860f2",
   "metadata": {},
   "outputs": [
    {
     "data": {
      "application/javascript": [
       "\n",
       "            setTimeout(function() {\n",
       "                var nbb_cell_id = 1;\n",
       "                var nbb_unformatted_code = \"%load_ext nb_black\";\n",
       "                var nbb_formatted_code = \"%load_ext nb_black\";\n",
       "                var nbb_cells = Jupyter.notebook.get_cells();\n",
       "                for (var i = 0; i < nbb_cells.length; ++i) {\n",
       "                    if (nbb_cells[i].input_prompt_number == nbb_cell_id) {\n",
       "                        if (nbb_cells[i].get_text() == nbb_unformatted_code) {\n",
       "                             nbb_cells[i].set_text(nbb_formatted_code);\n",
       "                        }\n",
       "                        break;\n",
       "                    }\n",
       "                }\n",
       "            }, 500);\n",
       "            "
      ],
      "text/plain": [
       "<IPython.core.display.Javascript object>"
      ]
     },
     "metadata": {},
     "output_type": "display_data"
    }
   ],
   "source": [
    "%load_ext nb_black"
   ]
  },
  {
   "cell_type": "markdown",
   "id": "a335acb9",
   "metadata": {},
   "source": [
    "Welcome to this lab session 3 on **Time series modeling for air pollution monitoring with a focus on the\n",
    "calibration of low-cost sensors.**\n",
    "\n",
    "This lab session is based on the data and methods provided in the study by [Ellen M. Considine et al](https://www.sciencedirect.com/science/article/pii/S0269749120365222).\n"
   ]
  },
  {
   "cell_type": "markdown",
   "id": "3a8b8f6d",
   "metadata": {},
   "source": [
    "In the notebook, we will focus on using a regression models (linear model and random forest) to correct the readings of low-cost (CS) sensors."
   ]
  },
  {
   "cell_type": "markdown",
   "id": "ab3c7c61",
   "metadata": {},
   "source": [
    "We will start by presenting the use of a linear model for this purpose and we will explore different combinations of predictor variables in our model and compare the results. The idea here is to simulate a case of invastigating the best model and the features with which we get this model. \n",
    "\n",
    "In addition to a linear model, in our reference literature, a random forest model was also used. The follow-up task you will get in this session is to apply a random forest model and observe the results."
   ]
  },
  {
   "cell_type": "markdown",
   "id": "72539408",
   "metadata": {},
   "source": [
    "# First, lets import the libraries we will be using"
   ]
  },
  {
   "cell_type": "code",
   "execution_count": 62,
   "id": "fdafe95c",
   "metadata": {},
   "outputs": [
    {
     "data": {
      "application/javascript": [
       "\n",
       "            setTimeout(function() {\n",
       "                var nbb_cell_id = 62;\n",
       "                var nbb_unformatted_code = \"import math\\nfrom typing import List, Optional\\n\\nimport pandas as pd\\n\\nimport numpy as np\\nimport matplotlib.pyplot as plt\\nimport seaborn as sns\\n\\nfrom sklearn.linear_model import LinearRegression\\nfrom sklearn.ensemble import RandomForestRegressor\\nfrom sklearn.metrics import mean_squared_error\";\n",
       "                var nbb_formatted_code = \"import math\\nfrom typing import List, Optional\\n\\nimport pandas as pd\\n\\nimport numpy as np\\nimport matplotlib.pyplot as plt\\nimport seaborn as sns\\n\\nfrom sklearn.linear_model import LinearRegression\\nfrom sklearn.ensemble import RandomForestRegressor\\nfrom sklearn.metrics import mean_squared_error\";\n",
       "                var nbb_cells = Jupyter.notebook.get_cells();\n",
       "                for (var i = 0; i < nbb_cells.length; ++i) {\n",
       "                    if (nbb_cells[i].input_prompt_number == nbb_cell_id) {\n",
       "                        if (nbb_cells[i].get_text() == nbb_unformatted_code) {\n",
       "                             nbb_cells[i].set_text(nbb_formatted_code);\n",
       "                        }\n",
       "                        break;\n",
       "                    }\n",
       "                }\n",
       "            }, 500);\n",
       "            "
      ],
      "text/plain": [
       "<IPython.core.display.Javascript object>"
      ]
     },
     "metadata": {},
     "output_type": "display_data"
    }
   ],
   "source": [
    "import math\n",
    "from typing import List, Optional\n",
    "\n",
    "import pandas as pd\n",
    "\n",
    "import numpy as np\n",
    "import matplotlib.pyplot as plt\n",
    "\n",
    "from sklearn.linear_model import LinearRegression\n",
    "from sklearn.ensemble import RandomForestRegressor\n",
    "from sklearn.metrics import mean_squared_error"
   ]
  },
  {
   "cell_type": "code",
   "execution_count": 63,
   "id": "690367d3",
   "metadata": {},
   "outputs": [
    {
     "data": {
      "application/javascript": [
       "\n",
       "            setTimeout(function() {\n",
       "                var nbb_cell_id = 63;\n",
       "                var nbb_unformatted_code = \"import warnings\\n\\nwarnings.filterwarnings(\\\"ignore\\\")\";\n",
       "                var nbb_formatted_code = \"import warnings\\n\\nwarnings.filterwarnings(\\\"ignore\\\")\";\n",
       "                var nbb_cells = Jupyter.notebook.get_cells();\n",
       "                for (var i = 0; i < nbb_cells.length; ++i) {\n",
       "                    if (nbb_cells[i].input_prompt_number == nbb_cell_id) {\n",
       "                        if (nbb_cells[i].get_text() == nbb_unformatted_code) {\n",
       "                             nbb_cells[i].set_text(nbb_formatted_code);\n",
       "                        }\n",
       "                        break;\n",
       "                    }\n",
       "                }\n",
       "            }, 500);\n",
       "            "
      ],
      "text/plain": [
       "<IPython.core.display.Javascript object>"
      ]
     },
     "metadata": {},
     "output_type": "display_data"
    }
   ],
   "source": [
    "import warnings\n",
    "\n",
    "warnings.filterwarnings(\"ignore\")"
   ]
  },
  {
   "cell_type": "markdown",
   "id": "c0dca605",
   "metadata": {},
   "source": [
    "# Load the data"
   ]
  },
  {
   "cell_type": "code",
   "execution_count": 4,
   "id": "13994576",
   "metadata": {},
   "outputs": [
    {
     "data": {
      "application/javascript": [
       "\n",
       "            setTimeout(function() {\n",
       "                var nbb_cell_id = 4;\n",
       "                var nbb_unformatted_code = \"data_root = \\\"./data/\\\"\\ntraining_data_path = data_root + \\\"cleaned_training.csv\\\"\\ntest_data_path = data_root + \\\"cleaned_test.csv\\\"\";\n",
       "                var nbb_formatted_code = \"data_root = \\\"./data/\\\"\\ntraining_data_path = data_root + \\\"cleaned_training.csv\\\"\\ntest_data_path = data_root + \\\"cleaned_test.csv\\\"\";\n",
       "                var nbb_cells = Jupyter.notebook.get_cells();\n",
       "                for (var i = 0; i < nbb_cells.length; ++i) {\n",
       "                    if (nbb_cells[i].input_prompt_number == nbb_cell_id) {\n",
       "                        if (nbb_cells[i].get_text() == nbb_unformatted_code) {\n",
       "                             nbb_cells[i].set_text(nbb_formatted_code);\n",
       "                        }\n",
       "                        break;\n",
       "                    }\n",
       "                }\n",
       "            }, 500);\n",
       "            "
      ],
      "text/plain": [
       "<IPython.core.display.Javascript object>"
      ]
     },
     "metadata": {},
     "output_type": "display_data"
    }
   ],
   "source": [
    "data_root = \"./data/\"\n",
    "training_data_path = data_root + \"cleaned_training.csv\"\n",
    "test_data_path = data_root + \"cleaned_test.csv\""
   ]
  },
  {
   "cell_type": "code",
   "execution_count": 5,
   "id": "eda7e360",
   "metadata": {},
   "outputs": [
    {
     "data": {
      "application/javascript": [
       "\n",
       "            setTimeout(function() {\n",
       "                var nbb_cell_id = 5;\n",
       "                var nbb_unformatted_code = \"training_data = pd.read_csv(training_data_path)\\ntest_data = pd.read_csv(test_data_path)\";\n",
       "                var nbb_formatted_code = \"training_data = pd.read_csv(training_data_path)\\ntest_data = pd.read_csv(test_data_path)\";\n",
       "                var nbb_cells = Jupyter.notebook.get_cells();\n",
       "                for (var i = 0; i < nbb_cells.length; ++i) {\n",
       "                    if (nbb_cells[i].input_prompt_number == nbb_cell_id) {\n",
       "                        if (nbb_cells[i].get_text() == nbb_unformatted_code) {\n",
       "                             nbb_cells[i].set_text(nbb_formatted_code);\n",
       "                        }\n",
       "                        break;\n",
       "                    }\n",
       "                }\n",
       "            }, 500);\n",
       "            "
      ],
      "text/plain": [
       "<IPython.core.display.Javascript object>"
      ]
     },
     "metadata": {},
     "output_type": "display_data"
    }
   ],
   "source": [
    "training_data = pd.read_csv(training_data_path)\n",
    "test_data = pd.read_csv(test_data_path)"
   ]
  },
  {
   "cell_type": "code",
   "execution_count": 6,
   "id": "3fd5e442",
   "metadata": {},
   "outputs": [
    {
     "data": {
      "text/html": [
       "<div>\n",
       "<style scoped>\n",
       "    .dataframe tbody tr th:only-of-type {\n",
       "        vertical-align: middle;\n",
       "    }\n",
       "\n",
       "    .dataframe tbody tr th {\n",
       "        vertical-align: top;\n",
       "    }\n",
       "\n",
       "    .dataframe thead th {\n",
       "        text-align: right;\n",
       "    }\n",
       "</style>\n",
       "<table border=\"1\" class=\"dataframe\">\n",
       "  <thead>\n",
       "    <tr style=\"text-align: right;\">\n",
       "      <th></th>\n",
       "      <th>airnow_sensor</th>\n",
       "      <th>longitude</th>\n",
       "      <th>latitude</th>\n",
       "      <th>a_road_500</th>\n",
       "      <th>pm_cs</th>\n",
       "      <th>temp</th>\n",
       "      <th>humidity</th>\n",
       "      <th>pm_airnow</th>\n",
       "      <th>date_time</th>\n",
       "      <th>cs_sensor</th>\n",
       "      <th>time</th>\n",
       "      <th>month</th>\n",
       "      <th>weekend</th>\n",
       "      <th>sin_time</th>\n",
       "      <th>cos_time</th>\n",
       "      <th>sin_month</th>\n",
       "      <th>cos_month</th>\n",
       "    </tr>\n",
       "  </thead>\n",
       "  <tbody>\n",
       "    <tr>\n",
       "      <th>0</th>\n",
       "      <td>NJH</td>\n",
       "      <td>-104.939925</td>\n",
       "      <td>39.738578</td>\n",
       "      <td>1.995</td>\n",
       "      <td>33.6167</td>\n",
       "      <td>60.038</td>\n",
       "      <td>65.0850</td>\n",
       "      <td>22.10</td>\n",
       "      <td>2018-08-20 01:00:00</td>\n",
       "      <td>NJH</td>\n",
       "      <td>1</td>\n",
       "      <td>8</td>\n",
       "      <td>0</td>\n",
       "      <td>0.220297</td>\n",
       "      <td>0.141451</td>\n",
       "      <td>0.518027</td>\n",
       "      <td>-0.076184</td>\n",
       "    </tr>\n",
       "    <tr>\n",
       "      <th>1</th>\n",
       "      <td>NJH</td>\n",
       "      <td>-104.939925</td>\n",
       "      <td>39.738578</td>\n",
       "      <td>1.995</td>\n",
       "      <td>38.2333</td>\n",
       "      <td>58.517</td>\n",
       "      <td>67.1150</td>\n",
       "      <td>27.10</td>\n",
       "      <td>2018-08-20 02:00:00</td>\n",
       "      <td>NJH</td>\n",
       "      <td>2</td>\n",
       "      <td>8</td>\n",
       "      <td>0</td>\n",
       "      <td>0.238054</td>\n",
       "      <td>-0.108947</td>\n",
       "      <td>0.518027</td>\n",
       "      <td>-0.076184</td>\n",
       "    </tr>\n",
       "    <tr>\n",
       "      <th>2</th>\n",
       "      <td>NJH</td>\n",
       "      <td>-104.939925</td>\n",
       "      <td>39.738578</td>\n",
       "      <td>1.995</td>\n",
       "      <td>43.3500</td>\n",
       "      <td>57.383</td>\n",
       "      <td>71.1717</td>\n",
       "      <td>28.85</td>\n",
       "      <td>2018-08-20 03:00:00</td>\n",
       "      <td>NJH</td>\n",
       "      <td>3</td>\n",
       "      <td>8</td>\n",
       "      <td>0</td>\n",
       "      <td>0.036945</td>\n",
       "      <td>-0.259179</td>\n",
       "      <td>0.518027</td>\n",
       "      <td>-0.076184</td>\n",
       "    </tr>\n",
       "    <tr>\n",
       "      <th>3</th>\n",
       "      <td>NJH</td>\n",
       "      <td>-104.939925</td>\n",
       "      <td>39.738578</td>\n",
       "      <td>1.995</td>\n",
       "      <td>48.7000</td>\n",
       "      <td>56.546</td>\n",
       "      <td>74.7317</td>\n",
       "      <td>34.60</td>\n",
       "      <td>2018-08-20 04:00:00</td>\n",
       "      <td>NJH</td>\n",
       "      <td>4</td>\n",
       "      <td>8</td>\n",
       "      <td>0</td>\n",
       "      <td>-0.198130</td>\n",
       "      <td>-0.171123</td>\n",
       "      <td>0.518027</td>\n",
       "      <td>-0.076184</td>\n",
       "    </tr>\n",
       "    <tr>\n",
       "      <th>4</th>\n",
       "      <td>NJH</td>\n",
       "      <td>-104.939925</td>\n",
       "      <td>39.738578</td>\n",
       "      <td>1.995</td>\n",
       "      <td>39.2500</td>\n",
       "      <td>55.682</td>\n",
       "      <td>79.2033</td>\n",
       "      <td>31.50</td>\n",
       "      <td>2018-08-20 05:00:00</td>\n",
       "      <td>NJH</td>\n",
       "      <td>5</td>\n",
       "      <td>8</td>\n",
       "      <td>0</td>\n",
       "      <td>-0.251046</td>\n",
       "      <td>0.074263</td>\n",
       "      <td>0.518027</td>\n",
       "      <td>-0.076184</td>\n",
       "    </tr>\n",
       "  </tbody>\n",
       "</table>\n",
       "</div>"
      ],
      "text/plain": [
       "  airnow_sensor   longitude   latitude  a_road_500    pm_cs    temp  humidity  \\\n",
       "0           NJH -104.939925  39.738578       1.995  33.6167  60.038   65.0850   \n",
       "1           NJH -104.939925  39.738578       1.995  38.2333  58.517   67.1150   \n",
       "2           NJH -104.939925  39.738578       1.995  43.3500  57.383   71.1717   \n",
       "3           NJH -104.939925  39.738578       1.995  48.7000  56.546   74.7317   \n",
       "4           NJH -104.939925  39.738578       1.995  39.2500  55.682   79.2033   \n",
       "\n",
       "   pm_airnow            date_time cs_sensor  time  month  weekend  sin_time  \\\n",
       "0      22.10  2018-08-20 01:00:00       NJH     1      8        0  0.220297   \n",
       "1      27.10  2018-08-20 02:00:00       NJH     2      8        0  0.238054   \n",
       "2      28.85  2018-08-20 03:00:00       NJH     3      8        0  0.036945   \n",
       "3      34.60  2018-08-20 04:00:00       NJH     4      8        0 -0.198130   \n",
       "4      31.50  2018-08-20 05:00:00       NJH     5      8        0 -0.251046   \n",
       "\n",
       "   cos_time  sin_month  cos_month  \n",
       "0  0.141451   0.518027  -0.076184  \n",
       "1 -0.108947   0.518027  -0.076184  \n",
       "2 -0.259179   0.518027  -0.076184  \n",
       "3 -0.171123   0.518027  -0.076184  \n",
       "4  0.074263   0.518027  -0.076184  "
      ]
     },
     "execution_count": 6,
     "metadata": {},
     "output_type": "execute_result"
    },
    {
     "data": {
      "application/javascript": [
       "\n",
       "            setTimeout(function() {\n",
       "                var nbb_cell_id = 6;\n",
       "                var nbb_unformatted_code = \"training_data.head()\";\n",
       "                var nbb_formatted_code = \"training_data.head()\";\n",
       "                var nbb_cells = Jupyter.notebook.get_cells();\n",
       "                for (var i = 0; i < nbb_cells.length; ++i) {\n",
       "                    if (nbb_cells[i].input_prompt_number == nbb_cell_id) {\n",
       "                        if (nbb_cells[i].get_text() == nbb_unformatted_code) {\n",
       "                             nbb_cells[i].set_text(nbb_formatted_code);\n",
       "                        }\n",
       "                        break;\n",
       "                    }\n",
       "                }\n",
       "            }, 500);\n",
       "            "
      ],
      "text/plain": [
       "<IPython.core.display.Javascript object>"
      ]
     },
     "metadata": {},
     "output_type": "display_data"
    }
   ],
   "source": [
    "training_data.head()"
   ]
  },
  {
   "cell_type": "markdown",
   "id": "cec22f9a",
   "metadata": {},
   "source": [
    "# Utility functions"
   ]
  },
  {
   "cell_type": "code",
   "execution_count": 66,
   "id": "5016780d",
   "metadata": {},
   "outputs": [
    {
     "data": {
      "application/javascript": [
       "\n",
       "            setTimeout(function() {\n",
       "                var nbb_cell_id = 66;\n",
       "                var nbb_unformatted_code = \"# More evaluation metrics can be added to the function\\ndef evaluate_model(y, y_hat):\\n    evaluation = {\\\"RMSE\\\": round(mean_squared_error(y, y_hat, squared=False), 2)}\\n    return evaluation\\n\\n\\n# To disaggregate the error metrics to the different locations\\ndef get_disaggregated_metrics(data: \\\"dataframe\\\", y_hat: Optional[List] = None):\\n\\n    \\\"\\\"\\\"\\n    Disaggregate evaluation metrics into locations\\n    \\\"\\\"\\\"\\n    results = {}\\n\\n    for sensor in data[\\\"cs_sensor\\\"].unique():\\n        data_sensor_idxs = data[data[\\\"cs_sensor\\\"] == sensor].index\\n        true_data = data[[\\\"pm_airnow\\\"]][data.index.isin(data_sensor_idxs)]\\n        pred_data = (\\n            data[[\\\"pm_cs\\\"]][data.index.isin(data_sensor_idxs)]\\n            if y_hat is None\\n            else y_hat[data_sensor_idxs]\\n        )\\n\\n        eval_metrics = evaluate_model(true_data, pred_data)\\n        results[sensor] = eval_metrics\\n\\n    return {\\\"RMSE\\\": results}\\n\\n\\ndef run_training_eval(\\n    features: dict,\\n    train: \\\"dataframe\\\" = training_data,\\n    test: \\\"dataframe\\\" = test_data,\\n    model: \\\"sklearn model\\\" = LinearRegression(),\\n):\\n\\n    \\\"\\\"\\\"\\n    Run training and evaluation on the data\\n\\n    Purpose: fast experiment iteration\\n    \\\"\\\"\\\"\\n    y_train = train[[\\\"pm_airnow\\\"]]\\n    X_train = training_data[features]\\n\\n    y_test = test[[\\\"pm_airnow\\\"]]\\n    X_test = test[features]\\n\\n    model.fit(X_train, y_train)\\n    y_hat_test = model.predict(X_test)\\n    y_hat_train = model.predict(X_train)  # predicted value\\n\\n    train_eval = evaluate_model(y_train, y_hat_train)\\n    test_eval = evaluate_model(y_test, y_hat_test)\\n\\n    return {\\n        \\\"train_eval\\\": train_eval,\\n        \\\"test_eval\\\": test_eval,\\n        \\\"model\\\": model,\\n        \\\"y_hat_train\\\": y_hat_train,\\n        \\\"y_hat_test\\\": y_hat_test,\\n    }\";\n",
       "                var nbb_formatted_code = \"# More evaluation metrics can be added to the function\\ndef evaluate_model(y, y_hat):\\n    evaluation = {\\\"RMSE\\\": round(mean_squared_error(y, y_hat, squared=False), 2)}\\n    return evaluation\\n\\n\\n# To disaggregate the error metrics to the different locations\\ndef get_disaggregated_metrics(data: \\\"dataframe\\\", y_hat: Optional[List] = None):\\n\\n    \\\"\\\"\\\"\\n    Disaggregate evaluation metrics into locations\\n    \\\"\\\"\\\"\\n    results = {}\\n\\n    for sensor in data[\\\"cs_sensor\\\"].unique():\\n        data_sensor_idxs = data[data[\\\"cs_sensor\\\"] == sensor].index\\n        true_data = data[[\\\"pm_airnow\\\"]][data.index.isin(data_sensor_idxs)]\\n        pred_data = (\\n            data[[\\\"pm_cs\\\"]][data.index.isin(data_sensor_idxs)]\\n            if y_hat is None\\n            else y_hat[data_sensor_idxs]\\n        )\\n\\n        eval_metrics = evaluate_model(true_data, pred_data)\\n        results[sensor] = eval_metrics\\n\\n    return {\\\"RMSE\\\": results}\\n\\n\\ndef run_training_eval(\\n    features: dict,\\n    train: \\\"dataframe\\\" = training_data,\\n    test: \\\"dataframe\\\" = test_data,\\n    model: \\\"sklearn model\\\" = LinearRegression(),\\n):\\n\\n    \\\"\\\"\\\"\\n    Run training and evaluation on the data\\n\\n    Purpose: fast experiment iteration\\n    \\\"\\\"\\\"\\n    y_train = train[[\\\"pm_airnow\\\"]]\\n    X_train = training_data[features]\\n\\n    y_test = test[[\\\"pm_airnow\\\"]]\\n    X_test = test[features]\\n\\n    model.fit(X_train, y_train)\\n    y_hat_test = model.predict(X_test)\\n    y_hat_train = model.predict(X_train)  # predicted value\\n\\n    train_eval = evaluate_model(y_train, y_hat_train)\\n    test_eval = evaluate_model(y_test, y_hat_test)\\n\\n    return {\\n        \\\"train_eval\\\": train_eval,\\n        \\\"test_eval\\\": test_eval,\\n        \\\"model\\\": model,\\n        \\\"y_hat_train\\\": y_hat_train,\\n        \\\"y_hat_test\\\": y_hat_test,\\n    }\";\n",
       "                var nbb_cells = Jupyter.notebook.get_cells();\n",
       "                for (var i = 0; i < nbb_cells.length; ++i) {\n",
       "                    if (nbb_cells[i].input_prompt_number == nbb_cell_id) {\n",
       "                        if (nbb_cells[i].get_text() == nbb_unformatted_code) {\n",
       "                             nbb_cells[i].set_text(nbb_formatted_code);\n",
       "                        }\n",
       "                        break;\n",
       "                    }\n",
       "                }\n",
       "            }, 500);\n",
       "            "
      ],
      "text/plain": [
       "<IPython.core.display.Javascript object>"
      ]
     },
     "metadata": {},
     "output_type": "display_data"
    }
   ],
   "source": [
    "# More evaluation metrics can be added to the function\n",
    "def evaluate_model(y, y_hat):\n",
    "    evaluation = {\"RMSE\": round(mean_squared_error(y, y_hat, squared=False), 2)}\n",
    "    return evaluation\n",
    "\n",
    "\n",
    "# To disaggregate the error metrics to the different locations\n",
    "def get_disaggregated_metrics(data: \"dataframe\", y_hat: Optional[List] = None):\n",
    "\n",
    "    \"\"\"\n",
    "    Disaggregate evaluation metrics into locations\n",
    "    \"\"\"\n",
    "    results = {}\n",
    "\n",
    "    for sensor in data[\"cs_sensor\"].unique():\n",
    "        data_sensor_idxs = data[data[\"cs_sensor\"] == sensor].index\n",
    "        true_data = data[[\"pm_airnow\"]][data.index.isin(data_sensor_idxs)]\n",
    "        pred_data = (\n",
    "            data[[\"pm_cs\"]][data.index.isin(data_sensor_idxs)]\n",
    "            if y_hat is None\n",
    "            else y_hat[data_sensor_idxs]\n",
    "        )\n",
    "\n",
    "        eval_metrics = evaluate_model(true_data, pred_data)\n",
    "        results[sensor] = eval_metrics\n",
    "\n",
    "    return {\"RMSE\": results}\n",
    "\n",
    "\n",
    "def run_training_eval(\n",
    "    features: dict,\n",
    "    train: \"dataframe\" = training_data,\n",
    "    test: \"dataframe\" = test_data,\n",
    "    estimator: \"sklearn model\" = LinearRegression(),\n",
    "):\n",
    "\n",
    "    \"\"\"\n",
    "    Run training and evaluation on the data\n",
    "\n",
    "    Purpose: fast experiment iteration\n",
    "    \"\"\"\n",
    "    y_train = train[[\"pm_airnow\"]]\n",
    "    X_train = training_data[features]\n",
    "\n",
    "    y_test = test[[\"pm_airnow\"]]\n",
    "    X_test = test[features]\n",
    "    \n",
    "    model = estimator\n",
    "    model.fit(X_train, y_train)\n",
    "    y_hat_test = model.predict(X_test)\n",
    "    y_hat_train = model.predict(X_train)  # predicted value\n",
    "\n",
    "    train_eval = evaluate_model(y_train, y_hat_train)\n",
    "    test_eval = evaluate_model(y_test, y_hat_test)\n",
    "\n",
    "    return {\n",
    "        \"train_eval\": train_eval,\n",
    "        \"test_eval\": test_eval,\n",
    "        \"model\": model,\n",
    "        \"y_hat_train\": y_hat_train,\n",
    "        \"y_hat_test\": y_hat_test,\n",
    "    }"
   ]
  },
  {
   "cell_type": "markdown",
   "id": "da7ff2f9",
   "metadata": {},
   "source": [
    "# How do we know we have a useful model? We need a baseline"
   ]
  },
  {
   "cell_type": "markdown",
   "id": "255418de",
   "metadata": {},
   "source": [
    "Before we proceed into deriving correction models, we need to decide how we intend to evaluate our models. \n",
    "\n",
    "Our base study applied the coefficient of determination ($R^2$) and root-mean squared error (RMSE). \n",
    "\n",
    "RMSE shows us the mean distance between the predicted and actual values.\n",
    "\n",
    "For this notebook, we will be using RMSE measure which has been defined as part of our utility functions. Lower RMSE values indicate more accurate models."
   ]
  },
  {
   "cell_type": "markdown",
   "id": "b48d0d54",
   "metadata": {},
   "source": [
    "We will obtain our baseline RMSE by computing the training and test RMSE between `pm_airnow` and `pm_cs`. Any model that will be useful whatsoever should do significantly better (i.e lower) than this baseline."
   ]
  },
  {
   "cell_type": "code",
   "execution_count": 86,
   "id": "f12d6dcd",
   "metadata": {},
   "outputs": [
    {
     "data": {
      "application/javascript": [
       "\n",
       "            setTimeout(function() {\n",
       "                var nbb_cell_id = 86;\n",
       "                var nbb_unformatted_code = \"baseline_train_rmse = evaluate_model(training_data[\\\"pm_airnow\\\"], training_data[\\\"pm_cs\\\"])\\nbaseline_test_rmse = evaluate_model(test_data[\\\"pm_airnow\\\"], test_data[\\\"pm_cs\\\"])\";\n",
       "                var nbb_formatted_code = \"baseline_train_rmse = evaluate_model(training_data[\\\"pm_airnow\\\"], training_data[\\\"pm_cs\\\"])\\nbaseline_test_rmse = evaluate_model(test_data[\\\"pm_airnow\\\"], test_data[\\\"pm_cs\\\"])\";\n",
       "                var nbb_cells = Jupyter.notebook.get_cells();\n",
       "                for (var i = 0; i < nbb_cells.length; ++i) {\n",
       "                    if (nbb_cells[i].input_prompt_number == nbb_cell_id) {\n",
       "                        if (nbb_cells[i].get_text() == nbb_unformatted_code) {\n",
       "                             nbb_cells[i].set_text(nbb_formatted_code);\n",
       "                        }\n",
       "                        break;\n",
       "                    }\n",
       "                }\n",
       "            }, 500);\n",
       "            "
      ],
      "text/plain": [
       "<IPython.core.display.Javascript object>"
      ]
     },
     "metadata": {},
     "output_type": "display_data"
    }
   ],
   "source": [
    "baseline_train_rmse = evaluate_model(training_data[\"pm_airnow\"], training_data[\"pm_cs\"])\n",
    "baseline_test_rmse = evaluate_model(test_data[\"pm_airnow\"], test_data[\"pm_cs\"])"
   ]
  },
  {
   "cell_type": "code",
   "execution_count": 87,
   "id": "dae17ba5",
   "metadata": {},
   "outputs": [
    {
     "name": "stdout",
     "output_type": "stream",
     "text": [
      "Baseline training evaluation is: {'RMSE': 5.51}\n",
      "Baseline test evaluation is: {'RMSE': 7.08}\n"
     ]
    },
    {
     "data": {
      "application/javascript": [
       "\n",
       "            setTimeout(function() {\n",
       "                var nbb_cell_id = 87;\n",
       "                var nbb_unformatted_code = \"print(f\\\"Baseline training evaluation is: {baseline_train_rmse}\\\")\\nprint(f\\\"Baseline test evaluation is: {baseline_test_rmse}\\\")\";\n",
       "                var nbb_formatted_code = \"print(f\\\"Baseline training evaluation is: {baseline_train_rmse}\\\")\\nprint(f\\\"Baseline test evaluation is: {baseline_test_rmse}\\\")\";\n",
       "                var nbb_cells = Jupyter.notebook.get_cells();\n",
       "                for (var i = 0; i < nbb_cells.length; ++i) {\n",
       "                    if (nbb_cells[i].input_prompt_number == nbb_cell_id) {\n",
       "                        if (nbb_cells[i].get_text() == nbb_unformatted_code) {\n",
       "                             nbb_cells[i].set_text(nbb_formatted_code);\n",
       "                        }\n",
       "                        break;\n",
       "                    }\n",
       "                }\n",
       "            }, 500);\n",
       "            "
      ],
      "text/plain": [
       "<IPython.core.display.Javascript object>"
      ]
     },
     "metadata": {},
     "output_type": "display_data"
    }
   ],
   "source": [
    "print(f\"Baseline training evaluation is: {baseline_train_rmse}\")\n",
    "print(f\"Baseline test evaluation is: {baseline_test_rmse}\")"
   ]
  },
  {
   "cell_type": "markdown",
   "id": "6b5a04f8",
   "metadata": {},
   "source": [
    "It is clear to us now that any model that learns something from our data should produce less than `5.51` and `7.08`RMSE over the training and test set, respectively. Please note that RMSE is on the scale of our data, meaning it is measured in $µg/m^3$."
   ]
  },
  {
   "cell_type": "markdown",
   "id": "c324642f",
   "metadata": {},
   "source": [
    "# Can we disaggregate these errors to the different sensors/locations?\n",
    "\n",
    "Starting from the baseline"
   ]
  },
  {
   "cell_type": "code",
   "execution_count": 88,
   "id": "85a7005c",
   "metadata": {},
   "outputs": [
    {
     "data": {
      "application/javascript": [
       "\n",
       "            setTimeout(function() {\n",
       "                var nbb_cell_id = 88;\n",
       "                var nbb_unformatted_code = \"baseline_disagg_train_metrics = get_disaggregated_metrics(training_data)\";\n",
       "                var nbb_formatted_code = \"baseline_disagg_train_metrics = get_disaggregated_metrics(training_data)\";\n",
       "                var nbb_cells = Jupyter.notebook.get_cells();\n",
       "                for (var i = 0; i < nbb_cells.length; ++i) {\n",
       "                    if (nbb_cells[i].input_prompt_number == nbb_cell_id) {\n",
       "                        if (nbb_cells[i].get_text() == nbb_unformatted_code) {\n",
       "                             nbb_cells[i].set_text(nbb_formatted_code);\n",
       "                        }\n",
       "                        break;\n",
       "                    }\n",
       "                }\n",
       "            }, 500);\n",
       "            "
      ],
      "text/plain": [
       "<IPython.core.display.Javascript object>"
      ]
     },
     "metadata": {},
     "output_type": "display_data"
    }
   ],
   "source": [
    "baseline_disagg_train_metrics = get_disaggregated_metrics(training_data)"
   ]
  },
  {
   "cell_type": "code",
   "execution_count": 89,
   "id": "348adb58",
   "metadata": {},
   "outputs": [
    {
     "name": "stdout",
     "output_type": "stream",
     "text": [
      "Disaggregated RMSE score\n"
     ]
    },
    {
     "data": {
      "text/plain": [
       "{'NJH': {'RMSE': 4.36},\n",
       " 'i25_glo_1': {'RMSE': 6.67},\n",
       " 'i25_glo_2': {'RMSE': 4.55},\n",
       " 'i25_glo_3': {'RMSE': 5.41},\n",
       " 'la_casa': {'RMSE': 6.06}}"
      ]
     },
     "execution_count": 89,
     "metadata": {},
     "output_type": "execute_result"
    },
    {
     "data": {
      "application/javascript": [
       "\n",
       "            setTimeout(function() {\n",
       "                var nbb_cell_id = 89;\n",
       "                var nbb_unformatted_code = \"print(\\\"Disaggregated RMSE score\\\")\\nbaseline_disagg_train_metrics[\\\"RMSE\\\"]\";\n",
       "                var nbb_formatted_code = \"print(\\\"Disaggregated RMSE score\\\")\\nbaseline_disagg_train_metrics[\\\"RMSE\\\"]\";\n",
       "                var nbb_cells = Jupyter.notebook.get_cells();\n",
       "                for (var i = 0; i < nbb_cells.length; ++i) {\n",
       "                    if (nbb_cells[i].input_prompt_number == nbb_cell_id) {\n",
       "                        if (nbb_cells[i].get_text() == nbb_unformatted_code) {\n",
       "                             nbb_cells[i].set_text(nbb_formatted_code);\n",
       "                        }\n",
       "                        break;\n",
       "                    }\n",
       "                }\n",
       "            }, 500);\n",
       "            "
      ],
      "text/plain": [
       "<IPython.core.display.Javascript object>"
      ]
     },
     "metadata": {},
     "output_type": "display_data"
    }
   ],
   "source": [
    "print(\"Disaggregated RMSE score\")\n",
    "baseline_disagg_train_metrics[\"RMSE\"]"
   ]
  },
  {
   "cell_type": "code",
   "execution_count": 90,
   "id": "2dc92e27",
   "metadata": {},
   "outputs": [
    {
     "data": {
      "application/javascript": [
       "\n",
       "            setTimeout(function() {\n",
       "                var nbb_cell_id = 90;\n",
       "                var nbb_unformatted_code = \"baseline_disagg_test_metrics = get_disaggregated_metrics(test_data)\";\n",
       "                var nbb_formatted_code = \"baseline_disagg_test_metrics = get_disaggregated_metrics(test_data)\";\n",
       "                var nbb_cells = Jupyter.notebook.get_cells();\n",
       "                for (var i = 0; i < nbb_cells.length; ++i) {\n",
       "                    if (nbb_cells[i].input_prompt_number == nbb_cell_id) {\n",
       "                        if (nbb_cells[i].get_text() == nbb_unformatted_code) {\n",
       "                             nbb_cells[i].set_text(nbb_formatted_code);\n",
       "                        }\n",
       "                        break;\n",
       "                    }\n",
       "                }\n",
       "            }, 500);\n",
       "            "
      ],
      "text/plain": [
       "<IPython.core.display.Javascript object>"
      ]
     },
     "metadata": {},
     "output_type": "display_data"
    }
   ],
   "source": [
    "baseline_disagg_test_metrics = get_disaggregated_metrics(test_data)"
   ]
  },
  {
   "cell_type": "code",
   "execution_count": 91,
   "id": "8854b8c2",
   "metadata": {},
   "outputs": [
    {
     "name": "stdout",
     "output_type": "stream",
     "text": [
      "Disaggregated test RMSE\n"
     ]
    },
    {
     "data": {
      "text/plain": [
       "{'CAMP': {'RMSE': 2.35}, 'i25_denver': {'RMSE': 8.04}}"
      ]
     },
     "execution_count": 91,
     "metadata": {},
     "output_type": "execute_result"
    },
    {
     "data": {
      "application/javascript": [
       "\n",
       "            setTimeout(function() {\n",
       "                var nbb_cell_id = 91;\n",
       "                var nbb_unformatted_code = \"print(\\\"Disaggregated test RMSE\\\")\\nbaseline_disagg_test_metrics[\\\"RMSE\\\"]\";\n",
       "                var nbb_formatted_code = \"print(\\\"Disaggregated test RMSE\\\")\\nbaseline_disagg_test_metrics[\\\"RMSE\\\"]\";\n",
       "                var nbb_cells = Jupyter.notebook.get_cells();\n",
       "                for (var i = 0; i < nbb_cells.length; ++i) {\n",
       "                    if (nbb_cells[i].input_prompt_number == nbb_cell_id) {\n",
       "                        if (nbb_cells[i].get_text() == nbb_unformatted_code) {\n",
       "                             nbb_cells[i].set_text(nbb_formatted_code);\n",
       "                        }\n",
       "                        break;\n",
       "                    }\n",
       "                }\n",
       "            }, 500);\n",
       "            "
      ],
      "text/plain": [
       "<IPython.core.display.Javascript object>"
      ]
     },
     "metadata": {},
     "output_type": "display_data"
    }
   ],
   "source": [
    "print(\"Disaggregated test RMSE\")\n",
    "baseline_disagg_test_metrics[\"RMSE\"]"
   ]
  },
  {
   "cell_type": "markdown",
   "id": "63ecc1e6",
   "metadata": {},
   "source": [
    "Again, any model that will be generally useful should do less than these errors in each of these locations (training and test)"
   ]
  },
  {
   "cell_type": "markdown",
   "id": "b8af7768",
   "metadata": {},
   "source": [
    "# Obtaining our models"
   ]
  },
  {
   "cell_type": "markdown",
   "id": "fd39d200",
   "metadata": {},
   "source": [
    "**model_1**: CS PM2.5 <br>\n",
    "**model_2**: CS PM2.5, temperature, humidity <br>\n",
    "**model_3**: CS PM2.5, temprature, humidity, road length <br>\n",
    "**model_4**: CS PM2.5, temprature, humidity, road length, hour, month <br>\n",
    "**model_5**: CS PM2.5, temprature, humidity, road length, hour, mont, weekend <br>"
   ]
  },
  {
   "cell_type": "code",
   "execution_count": 92,
   "id": "bdb2c9ee",
   "metadata": {},
   "outputs": [
    {
     "data": {
      "application/javascript": [
       "\n",
       "            setTimeout(function() {\n",
       "                var nbb_cell_id = 92;\n",
       "                var nbb_unformatted_code = \"model_features = {\\n    \\\"model_1\\\": [\\\"pm_cs\\\"],\\n    \\\"model_2\\\": [\\\"pm_cs\\\", \\\"temp\\\", \\\"humidity\\\"],\\n    \\\"model_3\\\": [\\\"pm_cs\\\", \\\"temp\\\", \\\"humidity\\\", \\\"a_road_500\\\"],\\n    \\\"model_4\\\": [\\n        \\\"pm_cs\\\",\\n        \\\"temp\\\",\\n        \\\"humidity\\\",\\n        \\\"a_road_500\\\",\\n        \\\"sin_time\\\",\\n        \\\"cos_time\\\",\\n        \\\"sin_month\\\",\\n        \\\"cos_month\\\",\\n    ],\\n    \\\"model_5\\\": [\\n        \\\"pm_cs\\\",\\n        \\\"temp\\\",\\n        \\\"humidity\\\",\\n        \\\"a_road_500\\\",\\n        \\\"sin_time\\\",\\n        \\\"cos_time\\\",\\n        \\\"sin_month\\\",\\n        \\\"cos_month\\\",\\n        \\\"weekend\\\",\\n    ],\\n}\";\n",
       "                var nbb_formatted_code = \"model_features = {\\n    \\\"model_1\\\": [\\\"pm_cs\\\"],\\n    \\\"model_2\\\": [\\\"pm_cs\\\", \\\"temp\\\", \\\"humidity\\\"],\\n    \\\"model_3\\\": [\\\"pm_cs\\\", \\\"temp\\\", \\\"humidity\\\", \\\"a_road_500\\\"],\\n    \\\"model_4\\\": [\\n        \\\"pm_cs\\\",\\n        \\\"temp\\\",\\n        \\\"humidity\\\",\\n        \\\"a_road_500\\\",\\n        \\\"sin_time\\\",\\n        \\\"cos_time\\\",\\n        \\\"sin_month\\\",\\n        \\\"cos_month\\\",\\n    ],\\n    \\\"model_5\\\": [\\n        \\\"pm_cs\\\",\\n        \\\"temp\\\",\\n        \\\"humidity\\\",\\n        \\\"a_road_500\\\",\\n        \\\"sin_time\\\",\\n        \\\"cos_time\\\",\\n        \\\"sin_month\\\",\\n        \\\"cos_month\\\",\\n        \\\"weekend\\\",\\n    ],\\n}\";\n",
       "                var nbb_cells = Jupyter.notebook.get_cells();\n",
       "                for (var i = 0; i < nbb_cells.length; ++i) {\n",
       "                    if (nbb_cells[i].input_prompt_number == nbb_cell_id) {\n",
       "                        if (nbb_cells[i].get_text() == nbb_unformatted_code) {\n",
       "                             nbb_cells[i].set_text(nbb_formatted_code);\n",
       "                        }\n",
       "                        break;\n",
       "                    }\n",
       "                }\n",
       "            }, 500);\n",
       "            "
      ],
      "text/plain": [
       "<IPython.core.display.Javascript object>"
      ]
     },
     "metadata": {},
     "output_type": "display_data"
    }
   ],
   "source": [
    "model_features = {\n",
    "    \"model_1\": [\"pm_cs\"],\n",
    "    \"model_2\": [\"pm_cs\", \"temp\", \"humidity\"],\n",
    "    \"model_3\": [\"pm_cs\", \"temp\", \"humidity\", \"a_road_500\"],\n",
    "    \"model_4\": [\n",
    "        \"pm_cs\",\n",
    "        \"temp\",\n",
    "        \"humidity\",\n",
    "        \"a_road_500\",\n",
    "        \"sin_time\",\n",
    "        \"cos_time\",\n",
    "        \"sin_month\",\n",
    "        \"cos_month\",\n",
    "    ],\n",
    "    \"model_5\": [\n",
    "        \"pm_cs\",\n",
    "        \"temp\",\n",
    "        \"humidity\",\n",
    "        \"a_road_500\",\n",
    "        \"sin_time\",\n",
    "        \"cos_time\",\n",
    "        \"sin_month\",\n",
    "        \"cos_month\",\n",
    "        \"weekend\",\n",
    "    ],\n",
    "}"
   ]
  },
  {
   "cell_type": "markdown",
   "id": "a34b58db",
   "metadata": {},
   "source": [
    "###### Let us run our first example using only one feature `pm_cs` "
   ]
  },
  {
   "cell_type": "markdown",
   "id": "4b75f8d4",
   "metadata": {},
   "source": [
    "We need to do the following:\n",
    "- Choose the features that we will be using to fit our model\n",
    "- Extract `x_train, x_test, y_train, y_test`, as features and reponse variables for  training and test.\n",
    "- Fit the model\n",
    "- Predict\n",
    "- Evaluate: RMSE and scatter plot"
   ]
  },
  {
   "cell_type": "code",
   "execution_count": 93,
   "id": "3804cf0e",
   "metadata": {},
   "outputs": [
    {
     "data": {
      "application/javascript": [
       "\n",
       "            setTimeout(function() {\n",
       "                var nbb_cell_id = 93;\n",
       "                var nbb_unformatted_code = \"features = model_features[\\\"model_1\\\"]\\n\\ny_train = training_data[[\\\"pm_airnow\\\"]]\\nX_train = training_data[features]\\n\\ny_test = test_data[[\\\"pm_airnow\\\"]]\\nX_test = test_data[features]\";\n",
       "                var nbb_formatted_code = \"features = model_features[\\\"model_1\\\"]\\n\\ny_train = training_data[[\\\"pm_airnow\\\"]]\\nX_train = training_data[features]\\n\\ny_test = test_data[[\\\"pm_airnow\\\"]]\\nX_test = test_data[features]\";\n",
       "                var nbb_cells = Jupyter.notebook.get_cells();\n",
       "                for (var i = 0; i < nbb_cells.length; ++i) {\n",
       "                    if (nbb_cells[i].input_prompt_number == nbb_cell_id) {\n",
       "                        if (nbb_cells[i].get_text() == nbb_unformatted_code) {\n",
       "                             nbb_cells[i].set_text(nbb_formatted_code);\n",
       "                        }\n",
       "                        break;\n",
       "                    }\n",
       "                }\n",
       "            }, 500);\n",
       "            "
      ],
      "text/plain": [
       "<IPython.core.display.Javascript object>"
      ]
     },
     "metadata": {},
     "output_type": "display_data"
    }
   ],
   "source": [
    "features = model_features[\"model_1\"]\n",
    "\n",
    "y_train = training_data[[\"pm_airnow\"]]\n",
    "X_train = training_data[features]\n",
    "\n",
    "y_test = test_data[[\"pm_airnow\"]]\n",
    "X_test = test_data[features]"
   ]
  },
  {
   "cell_type": "code",
   "execution_count": 94,
   "id": "25a57d74",
   "metadata": {},
   "outputs": [
    {
     "data": {
      "text/plain": [
       "LinearRegression()"
      ]
     },
     "execution_count": 94,
     "metadata": {},
     "output_type": "execute_result"
    },
    {
     "data": {
      "application/javascript": [
       "\n",
       "            setTimeout(function() {\n",
       "                var nbb_cell_id = 94;\n",
       "                var nbb_unformatted_code = \"model = LinearRegression()\\nmodel.fit(X_train, y_train)\";\n",
       "                var nbb_formatted_code = \"model = LinearRegression()\\nmodel.fit(X_train, y_train)\";\n",
       "                var nbb_cells = Jupyter.notebook.get_cells();\n",
       "                for (var i = 0; i < nbb_cells.length; ++i) {\n",
       "                    if (nbb_cells[i].input_prompt_number == nbb_cell_id) {\n",
       "                        if (nbb_cells[i].get_text() == nbb_unformatted_code) {\n",
       "                             nbb_cells[i].set_text(nbb_formatted_code);\n",
       "                        }\n",
       "                        break;\n",
       "                    }\n",
       "                }\n",
       "            }, 500);\n",
       "            "
      ],
      "text/plain": [
       "<IPython.core.display.Javascript object>"
      ]
     },
     "metadata": {},
     "output_type": "display_data"
    }
   ],
   "source": [
    "model = LinearRegression()\n",
    "model.fit(X_train, y_train)"
   ]
  },
  {
   "cell_type": "code",
   "execution_count": 95,
   "id": "d03f24f1",
   "metadata": {},
   "outputs": [
    {
     "data": {
      "application/javascript": [
       "\n",
       "            setTimeout(function() {\n",
       "                var nbb_cell_id = 95;\n",
       "                var nbb_unformatted_code = \"# Obtain the predicted value as y_hat\\ny_hat_test = model.predict(X_test)\\ny_hat_train = model.predict(X_train)  # predicted value\";\n",
       "                var nbb_formatted_code = \"# Obtain the predicted value as y_hat\\ny_hat_test = model.predict(X_test)\\ny_hat_train = model.predict(X_train)  # predicted value\";\n",
       "                var nbb_cells = Jupyter.notebook.get_cells();\n",
       "                for (var i = 0; i < nbb_cells.length; ++i) {\n",
       "                    if (nbb_cells[i].input_prompt_number == nbb_cell_id) {\n",
       "                        if (nbb_cells[i].get_text() == nbb_unformatted_code) {\n",
       "                             nbb_cells[i].set_text(nbb_formatted_code);\n",
       "                        }\n",
       "                        break;\n",
       "                    }\n",
       "                }\n",
       "            }, 500);\n",
       "            "
      ],
      "text/plain": [
       "<IPython.core.display.Javascript object>"
      ]
     },
     "metadata": {},
     "output_type": "display_data"
    }
   ],
   "source": [
    "# Obtain the predicted value as y_hat\n",
    "y_hat_test = model.predict(X_test)\n",
    "y_hat_train = model.predict(X_train)  # predicted value"
   ]
  },
  {
   "cell_type": "code",
   "execution_count": 96,
   "id": "f91bb529",
   "metadata": {},
   "outputs": [
    {
     "data": {
      "image/png": "[encoded data removed]",
      "text/plain": [
       "<Figure size 432x288 with 1 Axes>"
      ]
     },
     "metadata": {
      "needs_background": "light"
     },
     "output_type": "display_data"
    },
    {
     "data": {
      "application/javascript": [
       "\n",
       "            setTimeout(function() {\n",
       "                var nbb_cell_id = 96;\n",
       "                var nbb_unformatted_code = \"plt.scatter(y_test, y_hat_test, label=\\\"Corrected\\\", alpha=0.3)\\nplt.scatter(y_test, test_data[[\\\"pm_cs\\\"]], label=\\\"Not corrected\\\", alpha=0.3)\\nplt.xlabel(\\\"Airnow\\\")\\nplt.ylabel(\\\"CS\\\")\\nplt.title(\\\"Test data evaluation plot\\\")\\nplt.legend()\\nplt.show()\";\n",
       "                var nbb_formatted_code = \"plt.scatter(y_test, y_hat_test, label=\\\"Corrected\\\", alpha=0.3)\\nplt.scatter(y_test, test_data[[\\\"pm_cs\\\"]], label=\\\"Not corrected\\\", alpha=0.3)\\nplt.xlabel(\\\"Airnow\\\")\\nplt.ylabel(\\\"CS\\\")\\nplt.title(\\\"Test data evaluation plot\\\")\\nplt.legend()\\nplt.show()\";\n",
       "                var nbb_cells = Jupyter.notebook.get_cells();\n",
       "                for (var i = 0; i < nbb_cells.length; ++i) {\n",
       "                    if (nbb_cells[i].input_prompt_number == nbb_cell_id) {\n",
       "                        if (nbb_cells[i].get_text() == nbb_unformatted_code) {\n",
       "                             nbb_cells[i].set_text(nbb_formatted_code);\n",
       "                        }\n",
       "                        break;\n",
       "                    }\n",
       "                }\n",
       "            }, 500);\n",
       "            "
      ],
      "text/plain": [
       "<IPython.core.display.Javascript object>"
      ]
     },
     "metadata": {},
     "output_type": "display_data"
    }
   ],
   "source": [
    "plt.scatter(y_test, y_hat_test, label=\"Corrected\", alpha=0.3)\n",
    "plt.scatter(y_test, test_data[[\"pm_cs\"]], label=\"Not corrected\", alpha=0.3)\n",
    "plt.xlabel(\"Airnow\")\n",
    "plt.ylabel(\"CS\")\n",
    "plt.title(\"Test data evaluation plot\")\n",
    "plt.legend()\n",
    "plt.show()"
   ]
  },
  {
   "cell_type": "markdown",
   "id": "9072d1b5",
   "metadata": {},
   "source": [
    "**We should only have only one model coefficient here, so we can't actually compare features. This step will be useful once we start scaling into more features**"
   ]
  },
  {
   "cell_type": "markdown",
   "id": "9e524ea9",
   "metadata": {},
   "source": [
    "**Now, let us evaluate and compare to baseline**"
   ]
  },
  {
   "cell_type": "code",
   "execution_count": 97,
   "id": "a2adf060",
   "metadata": {},
   "outputs": [
    {
     "data": {
      "application/javascript": [
       "\n",
       "            setTimeout(function() {\n",
       "                var nbb_cell_id = 97;\n",
       "                var nbb_unformatted_code = \"model_train_rmse = evaluate_model(y_train, y_hat_train)\\nmodel_test_rmse = evaluate_model(y_test, y_hat_test)\";\n",
       "                var nbb_formatted_code = \"model_train_rmse = evaluate_model(y_train, y_hat_train)\\nmodel_test_rmse = evaluate_model(y_test, y_hat_test)\";\n",
       "                var nbb_cells = Jupyter.notebook.get_cells();\n",
       "                for (var i = 0; i < nbb_cells.length; ++i) {\n",
       "                    if (nbb_cells[i].input_prompt_number == nbb_cell_id) {\n",
       "                        if (nbb_cells[i].get_text() == nbb_unformatted_code) {\n",
       "                             nbb_cells[i].set_text(nbb_formatted_code);\n",
       "                        }\n",
       "                        break;\n",
       "                    }\n",
       "                }\n",
       "            }, 500);\n",
       "            "
      ],
      "text/plain": [
       "<IPython.core.display.Javascript object>"
      ]
     },
     "metadata": {},
     "output_type": "display_data"
    }
   ],
   "source": [
    "model_train_rmse = evaluate_model(y_train, y_hat_train)\n",
    "model_test_rmse = evaluate_model(y_test, y_hat_test)"
   ]
  },
  {
   "cell_type": "code",
   "execution_count": 98,
   "id": "0cd47e3f",
   "metadata": {},
   "outputs": [
    {
     "name": "stdout",
     "output_type": "stream",
     "text": [
      "Resulting training evaluation is: {'RMSE': 3.34} compared to baseline which is: {'RMSE': 5.51}\n"
     ]
    },
    {
     "data": {
      "application/javascript": [
       "\n",
       "            setTimeout(function() {\n",
       "                var nbb_cell_id = 98;\n",
       "                var nbb_unformatted_code = \"print(\\n    f\\\"Resulting training evaluation is: {model_train_rmse} compared to baseline which is: {baseline_train_rmse}\\\"\\n)\";\n",
       "                var nbb_formatted_code = \"print(\\n    f\\\"Resulting training evaluation is: {model_train_rmse} compared to baseline which is: {baseline_train_rmse}\\\"\\n)\";\n",
       "                var nbb_cells = Jupyter.notebook.get_cells();\n",
       "                for (var i = 0; i < nbb_cells.length; ++i) {\n",
       "                    if (nbb_cells[i].input_prompt_number == nbb_cell_id) {\n",
       "                        if (nbb_cells[i].get_text() == nbb_unformatted_code) {\n",
       "                             nbb_cells[i].set_text(nbb_formatted_code);\n",
       "                        }\n",
       "                        break;\n",
       "                    }\n",
       "                }\n",
       "            }, 500);\n",
       "            "
      ],
      "text/plain": [
       "<IPython.core.display.Javascript object>"
      ]
     },
     "metadata": {},
     "output_type": "display_data"
    }
   ],
   "source": [
    "print(\n",
    "    f\"Resulting training evaluation is: {model_train_rmse} compared to baseline which is: {baseline_train_rmse}\"\n",
    ")"
   ]
  },
  {
   "cell_type": "code",
   "execution_count": 99,
   "id": "63cf9020",
   "metadata": {},
   "outputs": [
    {
     "name": "stdout",
     "output_type": "stream",
     "text": [
      "Resulting test evaluation is: {'RMSE': 3.97} compared to baseline which is: {'RMSE': 7.08}\n"
     ]
    },
    {
     "data": {
      "application/javascript": [
       "\n",
       "            setTimeout(function() {\n",
       "                var nbb_cell_id = 99;\n",
       "                var nbb_unformatted_code = \"print(\\n    f\\\"Resulting test evaluation is: {model_test_rmse} compared to baseline which is: {baseline_test_rmse}\\\"\\n)\";\n",
       "                var nbb_formatted_code = \"print(\\n    f\\\"Resulting test evaluation is: {model_test_rmse} compared to baseline which is: {baseline_test_rmse}\\\"\\n)\";\n",
       "                var nbb_cells = Jupyter.notebook.get_cells();\n",
       "                for (var i = 0; i < nbb_cells.length; ++i) {\n",
       "                    if (nbb_cells[i].input_prompt_number == nbb_cell_id) {\n",
       "                        if (nbb_cells[i].get_text() == nbb_unformatted_code) {\n",
       "                             nbb_cells[i].set_text(nbb_formatted_code);\n",
       "                        }\n",
       "                        break;\n",
       "                    }\n",
       "                }\n",
       "            }, 500);\n",
       "            "
      ],
      "text/plain": [
       "<IPython.core.display.Javascript object>"
      ]
     },
     "metadata": {},
     "output_type": "display_data"
    }
   ],
   "source": [
    "print(\n",
    "    f\"Resulting test evaluation is: {model_test_rmse} compared to baseline which is: {baseline_test_rmse}\"\n",
    ")"
   ]
  },
  {
   "cell_type": "markdown",
   "id": "dd329044",
   "metadata": {},
   "source": [
    "Our model reduces our error both in training and test compared to the baseline we obtained initially. This shows that we have already made meaningful progress using a linear model. It is a good start.\n",
    "\n",
    "Now, let us observe the errors for each location (disaggregated)."
   ]
  },
  {
   "cell_type": "code",
   "execution_count": 100,
   "id": "7c31340b",
   "metadata": {},
   "outputs": [
    {
     "data": {
      "application/javascript": [
       "\n",
       "            setTimeout(function() {\n",
       "                var nbb_cell_id = 100;\n",
       "                var nbb_unformatted_code = \"model_disagg_train_metrics = get_disaggregated_metrics(training_data, y_hat_train)\\nmodel_disagg_test_metrics = get_disaggregated_metrics(test_data, y_hat_test)\";\n",
       "                var nbb_formatted_code = \"model_disagg_train_metrics = get_disaggregated_metrics(training_data, y_hat_train)\\nmodel_disagg_test_metrics = get_disaggregated_metrics(test_data, y_hat_test)\";\n",
       "                var nbb_cells = Jupyter.notebook.get_cells();\n",
       "                for (var i = 0; i < nbb_cells.length; ++i) {\n",
       "                    if (nbb_cells[i].input_prompt_number == nbb_cell_id) {\n",
       "                        if (nbb_cells[i].get_text() == nbb_unformatted_code) {\n",
       "                             nbb_cells[i].set_text(nbb_formatted_code);\n",
       "                        }\n",
       "                        break;\n",
       "                    }\n",
       "                }\n",
       "            }, 500);\n",
       "            "
      ],
      "text/plain": [
       "<IPython.core.display.Javascript object>"
      ]
     },
     "metadata": {},
     "output_type": "display_data"
    }
   ],
   "source": [
    "model_disagg_train_metrics = get_disaggregated_metrics(training_data, y_hat_train)\n",
    "model_disagg_test_metrics = get_disaggregated_metrics(test_data, y_hat_test)"
   ]
  },
  {
   "cell_type": "code",
   "execution_count": 101,
   "id": "c8f09c73",
   "metadata": {},
   "outputs": [
    {
     "name": "stdout",
     "output_type": "stream",
     "text": [
      "Model training RMSE\n"
     ]
    },
    {
     "data": {
      "text/plain": [
       "{'NJH': {'RMSE': 2.28},\n",
       " 'i25_glo_1': {'RMSE': 3.97},\n",
       " 'i25_glo_2': {'RMSE': 3.57},\n",
       " 'i25_glo_3': {'RMSE': 3.65},\n",
       " 'la_casa': {'RMSE': 2.86}}"
      ]
     },
     "execution_count": 101,
     "metadata": {},
     "output_type": "execute_result"
    },
    {
     "data": {
      "application/javascript": [
       "\n",
       "            setTimeout(function() {\n",
       "                var nbb_cell_id = 101;\n",
       "                var nbb_unformatted_code = \"print(\\\"Model training RMSE\\\")\\nmodel_disagg_train_metrics[\\\"RMSE\\\"]\";\n",
       "                var nbb_formatted_code = \"print(\\\"Model training RMSE\\\")\\nmodel_disagg_train_metrics[\\\"RMSE\\\"]\";\n",
       "                var nbb_cells = Jupyter.notebook.get_cells();\n",
       "                for (var i = 0; i < nbb_cells.length; ++i) {\n",
       "                    if (nbb_cells[i].input_prompt_number == nbb_cell_id) {\n",
       "                        if (nbb_cells[i].get_text() == nbb_unformatted_code) {\n",
       "                             nbb_cells[i].set_text(nbb_formatted_code);\n",
       "                        }\n",
       "                        break;\n",
       "                    }\n",
       "                }\n",
       "            }, 500);\n",
       "            "
      ],
      "text/plain": [
       "<IPython.core.display.Javascript object>"
      ]
     },
     "metadata": {},
     "output_type": "display_data"
    }
   ],
   "source": [
    "print(\"Model training RMSE\")\n",
    "model_disagg_train_metrics[\"RMSE\"]"
   ]
  },
  {
   "cell_type": "code",
   "execution_count": 102,
   "id": "292e84b1",
   "metadata": {},
   "outputs": [
    {
     "name": "stdout",
     "output_type": "stream",
     "text": [
      "Model test RMSE\n"
     ]
    },
    {
     "data": {
      "text/plain": [
       "{'CAMP': {'RMSE': 1.64}, 'i25_denver': {'RMSE': 4.47}}"
      ]
     },
     "execution_count": 102,
     "metadata": {},
     "output_type": "execute_result"
    },
    {
     "data": {
      "application/javascript": [
       "\n",
       "            setTimeout(function() {\n",
       "                var nbb_cell_id = 102;\n",
       "                var nbb_unformatted_code = \"print(\\\"Model test RMSE\\\")\\nmodel_disagg_test_metrics[\\\"RMSE\\\"]\";\n",
       "                var nbb_formatted_code = \"print(\\\"Model test RMSE\\\")\\nmodel_disagg_test_metrics[\\\"RMSE\\\"]\";\n",
       "                var nbb_cells = Jupyter.notebook.get_cells();\n",
       "                for (var i = 0; i < nbb_cells.length; ++i) {\n",
       "                    if (nbb_cells[i].input_prompt_number == nbb_cell_id) {\n",
       "                        if (nbb_cells[i].get_text() == nbb_unformatted_code) {\n",
       "                             nbb_cells[i].set_text(nbb_formatted_code);\n",
       "                        }\n",
       "                        break;\n",
       "                    }\n",
       "                }\n",
       "            }, 500);\n",
       "            "
      ],
      "text/plain": [
       "<IPython.core.display.Javascript object>"
      ]
     },
     "metadata": {},
     "output_type": "display_data"
    }
   ],
   "source": [
    "print(\"Model test RMSE\")\n",
    "model_disagg_test_metrics[\"RMSE\"]"
   ]
  },
  {
   "cell_type": "markdown",
   "id": "5d4ae119",
   "metadata": {},
   "source": [
    "Our model reduces our RMSE error with respect to the baseline; we are correcting the low-cost sensor readings with about 50% reduction in error in `i25_denver` and 30% in `CAMP`. Data from these locations have not been seen by our model. There is some progress, right? See table below.\n",
    "\n",
    "  | Location| Baseline RMSE| Linear model 1 RMSE|\n",
    "  |---|---|---|\n",
    "   |**Train**|---|---|\n",
    "  |NJH | 4.36| 2.28|\n",
    "  |i25_glo_1|6.67|3.97|\n",
    "  |i25_glo_2|4.55|3.57|\n",
    "  |i25_glo_3|5.41|3.65|\n",
    "  |la_casa|6.06|2.86|\n",
    "   |**Train**|---|---|\n",
    "  |CAMP|2.35|1.64|\n",
    "  |i25_denver|8.04|4.47|\n",
    "  "
   ]
  },
  {
   "cell_type": "markdown",
   "id": "7ec918bd",
   "metadata": {},
   "source": [
    "# EXERCISE"
   ]
  },
  {
   "cell_type": "markdown",
   "id": "00d07a77",
   "metadata": {},
   "source": [
    "We need to repeat this process above for other feature sets defined in `model_features`.\n",
    "\n",
    "For faster iterations, you can use `run_training_eval` function to iterate over features. Take not that the `run_training_eval` function also takes an `èstimator` argument which defaults to `LinearRegressor()`. You can change the value passed to this argument to `RandomForestRegressor` (which has alrready been imported into this notebook). This way, you can try they random forest model.  \n",
    "\n",
    "Start with exploring all the possible features defined in `model_features` for `LinearRegressor()` before proceeding to `RandomForestRegressor`.\n",
    "\n",
    "Find out what your best model is and deepen your exploration of this model using things like scatter plots for camparing corrected and not corrected `pm_cs`values. You model output is the corrected `pm_cs`value.\n",
    "\n",
    "You can also find the feature importances by using `.feature_importances_`on your trained model. If you apply `run_training_eval`to fit your model, you will find the trained model in by using the `model`on the output dictionary.\n",
    "\n",
    "You can then proceed to check for disaggregated errors for your best model."
   ]
  },
  {
   "cell_type": "code",
   "execution_count": 28,
   "id": "c5d4e838",
   "metadata": {},
   "outputs": [
    {
     "name": "stdout",
     "output_type": "stream",
     "text": [
      "Linear model\n",
      "Results for model_1\n",
      "========================\n",
      "{'Train': {'RMSE': 3.34}}\n",
      "{'Test': {'RMSE': 3.97}}\n",
      "Results for model_2\n",
      "========================\n",
      "{'Train': {'RMSE': 3.27}}\n",
      "{'Test': {'RMSE': 4.33}}\n",
      "Results for model_3\n",
      "========================\n",
      "{'Train': {'RMSE': 3.14}}\n",
      "{'Test': {'RMSE': 9.21}}\n",
      "Results for model_4\n",
      "========================\n",
      "{'Train': {'RMSE': 3.12}}\n",
      "{'Test': {'RMSE': 9.01}}\n",
      "Results for model_5\n",
      "========================\n",
      "{'Train': {'RMSE': 3.1}}\n",
      "{'Test': {'RMSE': 8.99}}\n"
     ]
    },
    {
     "data": {
      "application/javascript": [
       "\n",
       "            setTimeout(function() {\n",
       "                var nbb_cell_id = 28;\n",
       "                var nbb_unformatted_code = \"print(\\\"Linear model\\\")\\nfor features in model_features:\\n    results = run_training_eval(model_features[features])\\n    print(f\\\"Results for {features}\\\")\\n    print(\\\"========================\\\")\\n    print({\\\"Train\\\": results[\\\"train_eval\\\"]})\\n    print({\\\"Test\\\": results[\\\"test_eval\\\"]})\";\n",
       "                var nbb_formatted_code = \"print(\\\"Linear model\\\")\\nfor features in model_features:\\n    results = run_training_eval(model_features[features])\\n    print(f\\\"Results for {features}\\\")\\n    print(\\\"========================\\\")\\n    print({\\\"Train\\\": results[\\\"train_eval\\\"]})\\n    print({\\\"Test\\\": results[\\\"test_eval\\\"]})\";\n",
       "                var nbb_cells = Jupyter.notebook.get_cells();\n",
       "                for (var i = 0; i < nbb_cells.length; ++i) {\n",
       "                    if (nbb_cells[i].input_prompt_number == nbb_cell_id) {\n",
       "                        if (nbb_cells[i].get_text() == nbb_unformatted_code) {\n",
       "                             nbb_cells[i].set_text(nbb_formatted_code);\n",
       "                        }\n",
       "                        break;\n",
       "                    }\n",
       "                }\n",
       "            }, 500);\n",
       "            "
      ],
      "text/plain": [
       "<IPython.core.display.Javascript object>"
      ]
     },
     "metadata": {},
     "output_type": "display_data"
    }
   ],
   "source": [
    "print(\"Linear model\")\n",
    "for features in model_features:\n",
    "    results = run_training_eval(model_features[features])\n",
    "    print(f\"Results for {features}\")\n",
    "    print(\"========================\")\n",
    "    print({\"Train\": results[\"train_eval\"]})\n",
    "    print({\"Test\": results[\"test_eval\"]})"
   ]
  },
  {
   "cell_type": "code",
   "execution_count": 29,
   "id": "f3c758e8",
   "metadata": {},
   "outputs": [
    {
     "data": {
      "application/javascript": [
       "\n",
       "            setTimeout(function() {\n",
       "                var nbb_cell_id = 29;\n",
       "                var nbb_unformatted_code = \"from sklearn.ensemble import RandomForestRegressor, GradientBoostingRegressor\";\n",
       "                var nbb_formatted_code = \"from sklearn.ensemble import RandomForestRegressor, GradientBoostingRegressor\";\n",
       "                var nbb_cells = Jupyter.notebook.get_cells();\n",
       "                for (var i = 0; i < nbb_cells.length; ++i) {\n",
       "                    if (nbb_cells[i].input_prompt_number == nbb_cell_id) {\n",
       "                        if (nbb_cells[i].get_text() == nbb_unformatted_code) {\n",
       "                             nbb_cells[i].set_text(nbb_formatted_code);\n",
       "                        }\n",
       "                        break;\n",
       "                    }\n",
       "                }\n",
       "            }, 500);\n",
       "            "
      ],
      "text/plain": [
       "<IPython.core.display.Javascript object>"
      ]
     },
     "metadata": {},
     "output_type": "display_data"
    }
   ],
   "source": [
    "from sklearn.ensemble import RandomForestRegressor"
   ]
  },
  {
   "cell_type": "code",
   "execution_count": 30,
   "id": "93570e53",
   "metadata": {},
   "outputs": [
    {
     "name": "stdout",
     "output_type": "stream",
     "text": [
      "Random Forest\n",
      "Results for model_1\n",
      "========================\n",
      "{'Train': {'RMSE': 1.61}}\n",
      "{'Test': {'RMSE': 4.51}}\n",
      "Results for model_2\n",
      "========================\n",
      "{'Train': {'RMSE': 1.14}}\n",
      "{'Test': {'RMSE': 4.24}}\n",
      "Results for model_3\n",
      "========================\n",
      "{'Train': {'RMSE': 1.02}}\n",
      "{'Test': {'RMSE': 3.51}}\n",
      "Results for model_4\n",
      "========================\n",
      "{'Train': {'RMSE': 0.85}}\n",
      "{'Test': {'RMSE': 3.46}}\n",
      "Results for model_5\n",
      "========================\n",
      "{'Train': {'RMSE': 0.82}}\n",
      "{'Test': {'RMSE': 3.5}}\n"
     ]
    },
    {
     "data": {
      "application/javascript": [
       "\n",
       "            setTimeout(function() {\n",
       "                var nbb_cell_id = 30;\n",
       "                var nbb_unformatted_code = \"print(\\\"Random Forest\\\")\\n\\nfor features in model_features:\\n    results = run_training_eval(model_features[features], model=RandomForestRegressor())\\n    print(f\\\"Results for {features}\\\")\\n    print(\\\"========================\\\")\\n    print({\\\"Train\\\": results[\\\"train_eval\\\"]})\\n    print({\\\"Test\\\": results[\\\"test_eval\\\"]})\";\n",
       "                var nbb_formatted_code = \"print(\\\"Random Forest\\\")\\n\\nfor features in model_features:\\n    results = run_training_eval(model_features[features], model=RandomForestRegressor())\\n    print(f\\\"Results for {features}\\\")\\n    print(\\\"========================\\\")\\n    print({\\\"Train\\\": results[\\\"train_eval\\\"]})\\n    print({\\\"Test\\\": results[\\\"test_eval\\\"]})\";\n",
       "                var nbb_cells = Jupyter.notebook.get_cells();\n",
       "                for (var i = 0; i < nbb_cells.length; ++i) {\n",
       "                    if (nbb_cells[i].input_prompt_number == nbb_cell_id) {\n",
       "                        if (nbb_cells[i].get_text() == nbb_unformatted_code) {\n",
       "                             nbb_cells[i].set_text(nbb_formatted_code);\n",
       "                        }\n",
       "                        break;\n",
       "                    }\n",
       "                }\n",
       "            }, 500);\n",
       "            "
      ],
      "text/plain": [
       "<IPython.core.display.Javascript object>"
      ]
     },
     "metadata": {},
     "output_type": "display_data"
    }
   ],
   "source": [
    "print(\"Random Forest\")\n",
    "\n",
    "for features in model_features:\n",
    "    results = run_training_eval(model_features[features], model=RandomForestRegressor())\n",
    "    print(f\"Results for {features}\")\n",
    "    print(\"========================\")\n",
    "    print({\"Train\": results[\"train_eval\"]})\n",
    "    print({\"Test\": results[\"test_eval\"]})"
   ]
  },
  {
   "cell_type": "markdown",
   "id": "7b9c2370",
   "metadata": {},
   "source": [
    "The best model obtained is from based on random forest using `[\"pm_cs\", \"temp\", \"humidity\", \"a_road_500\", \"sin_time\" \"cos_time\", \"sin_month\", \"cos_month\"]`, i.e `model_4`\n",
    "\n",
    "The result for our best model is:\n",
    "\n",
    "`train RMSE= 0.85` <br>\n",
    "`test RMSE= 3.46`"
   ]
  },
  {
   "cell_type": "markdown",
   "id": "01af5841",
   "metadata": {},
   "source": [
    "###### Now, let us deepen our best model"
   ]
  },
  {
   "cell_type": "code",
   "execution_count": 31,
   "id": "0fbde71d",
   "metadata": {},
   "outputs": [
    {
     "data": {
      "application/javascript": [
       "\n",
       "            setTimeout(function() {\n",
       "                var nbb_cell_id = 31;\n",
       "                var nbb_unformatted_code = \"results_best_model = run_training_eval(\\n    model_features[\\\"model_4\\\"], model=RandomForestRegressor()\\n)\";\n",
       "                var nbb_formatted_code = \"results_best_model = run_training_eval(\\n    model_features[\\\"model_4\\\"], model=RandomForestRegressor()\\n)\";\n",
       "                var nbb_cells = Jupyter.notebook.get_cells();\n",
       "                for (var i = 0; i < nbb_cells.length; ++i) {\n",
       "                    if (nbb_cells[i].input_prompt_number == nbb_cell_id) {\n",
       "                        if (nbb_cells[i].get_text() == nbb_unformatted_code) {\n",
       "                             nbb_cells[i].set_text(nbb_formatted_code);\n",
       "                        }\n",
       "                        break;\n",
       "                    }\n",
       "                }\n",
       "            }, 500);\n",
       "            "
      ],
      "text/plain": [
       "<IPython.core.display.Javascript object>"
      ]
     },
     "metadata": {},
     "output_type": "display_data"
    }
   ],
   "source": [
    "results_best_model = run_training_eval(\n",
    "    model_features[\"model_4\"], model=RandomForestRegressor()\n",
    ")"
   ]
  },
  {
   "cell_type": "code",
   "execution_count": 33,
   "id": "f5e27ea4",
   "metadata": {},
   "outputs": [
    {
     "data": {
      "image/png": "[encoded data removed]",
      "text/plain": [
       "<Figure size 432x288 with 1 Axes>"
      ]
     },
     "metadata": {
      "needs_background": "light"
     },
     "output_type": "display_data"
    },
    {
     "data": {
      "application/javascript": [
       "\n",
       "            setTimeout(function() {\n",
       "                var nbb_cell_id = 33;\n",
       "                var nbb_unformatted_code = \"plt.scatter(\\n    test_data[\\\"pm_airnow\\\"],\\n    results_best_model[\\\"y_hat_test\\\"],\\n    alpha=0.4,\\n    label=\\\"Corrected\\\",\\n)\\nplt.scatter(\\n    test_data[\\\"pm_airnow\\\"], test_data[\\\"pm_cs\\\"], alpha=0.4, label=\\\"Not corrected\\\"\\n)\\nplt.ylabel(\\\"AirNow\\\")\\nplt.xlabel(\\\"CS\\\")\\nplt.title(\\\"Test prediction from best model\\\")\\nplt.legend()\\nplt.show()\";\n",
       "                var nbb_formatted_code = \"plt.scatter(\\n    test_data[\\\"pm_airnow\\\"],\\n    results_best_model[\\\"y_hat_test\\\"],\\n    alpha=0.4,\\n    label=\\\"Corrected\\\",\\n)\\nplt.scatter(\\n    test_data[\\\"pm_airnow\\\"], test_data[\\\"pm_cs\\\"], alpha=0.4, label=\\\"Not corrected\\\"\\n)\\nplt.ylabel(\\\"AirNow\\\")\\nplt.xlabel(\\\"CS\\\")\\nplt.title(\\\"Test prediction from best model\\\")\\nplt.legend()\\nplt.show()\";\n",
       "                var nbb_cells = Jupyter.notebook.get_cells();\n",
       "                for (var i = 0; i < nbb_cells.length; ++i) {\n",
       "                    if (nbb_cells[i].input_prompt_number == nbb_cell_id) {\n",
       "                        if (nbb_cells[i].get_text() == nbb_unformatted_code) {\n",
       "                             nbb_cells[i].set_text(nbb_formatted_code);\n",
       "                        }\n",
       "                        break;\n",
       "                    }\n",
       "                }\n",
       "            }, 500);\n",
       "            "
      ],
      "text/plain": [
       "<IPython.core.display.Javascript object>"
      ]
     },
     "metadata": {},
     "output_type": "display_data"
    }
   ],
   "source": [
    "plt.scatter(\n",
    "    test_data[\"pm_airnow\"],\n",
    "    results_best_model[\"y_hat_test\"],\n",
    "    alpha=0.4,\n",
    "    label=\"Corrected\",\n",
    ")\n",
    "plt.scatter(\n",
    "    test_data[\"pm_airnow\"], test_data[\"pm_cs\"], alpha=0.4, label=\"Not corrected\"\n",
    ")\n",
    "plt.ylabel(\"AirNow\")\n",
    "plt.xlabel(\"CS\")\n",
    "plt.title(\"Test prediction from best model\")\n",
    "plt.legend()\n",
    "plt.show()"
   ]
  },
  {
   "cell_type": "markdown",
   "id": "01024bd9",
   "metadata": {},
   "source": [
    "###### Now, we should check the feature importances"
   ]
  },
  {
   "cell_type": "code",
   "execution_count": 41,
   "id": "a3a291dd",
   "metadata": {},
   "outputs": [
    {
     "data": {
      "application/javascript": [
       "\n",
       "            setTimeout(function() {\n",
       "                var nbb_cell_id = 41;\n",
       "                var nbb_unformatted_code = \"feature_importances = results_best_model[\\\"model\\\"].feature_importances_\";\n",
       "                var nbb_formatted_code = \"feature_importances = results_best_model[\\\"model\\\"].feature_importances_\";\n",
       "                var nbb_cells = Jupyter.notebook.get_cells();\n",
       "                for (var i = 0; i < nbb_cells.length; ++i) {\n",
       "                    if (nbb_cells[i].input_prompt_number == nbb_cell_id) {\n",
       "                        if (nbb_cells[i].get_text() == nbb_unformatted_code) {\n",
       "                             nbb_cells[i].set_text(nbb_formatted_code);\n",
       "                        }\n",
       "                        break;\n",
       "                    }\n",
       "                }\n",
       "            }, 500);\n",
       "            "
      ],
      "text/plain": [
       "<IPython.core.display.Javascript object>"
      ]
     },
     "metadata": {},
     "output_type": "display_data"
    }
   ],
   "source": [
    "feature_importances = results_best_model[\"model\"].feature_importances_"
   ]
  },
  {
   "cell_type": "code",
   "execution_count": 42,
   "id": "abb55fd4",
   "metadata": {},
   "outputs": [
    {
     "data": {
      "image/png": "[encoded data removed]",
      "text/plain": [
       "<Figure size 648x288 with 1 Axes>"
      ]
     },
     "metadata": {
      "needs_background": "light"
     },
     "output_type": "display_data"
    },
    {
     "data": {
      "application/javascript": [
       "\n",
       "            setTimeout(function() {\n",
       "                var nbb_cell_id = 42;\n",
       "                var nbb_unformatted_code = \"fig = plt.figure(figsize=(9, 4))\\nplt.bar(model_features[\\\"model_4\\\"], feature_importances)\\nplt.show()\";\n",
       "                var nbb_formatted_code = \"fig = plt.figure(figsize=(9, 4))\\nplt.bar(model_features[\\\"model_4\\\"], feature_importances)\\nplt.show()\";\n",
       "                var nbb_cells = Jupyter.notebook.get_cells();\n",
       "                for (var i = 0; i < nbb_cells.length; ++i) {\n",
       "                    if (nbb_cells[i].input_prompt_number == nbb_cell_id) {\n",
       "                        if (nbb_cells[i].get_text() == nbb_unformatted_code) {\n",
       "                             nbb_cells[i].set_text(nbb_formatted_code);\n",
       "                        }\n",
       "                        break;\n",
       "                    }\n",
       "                }\n",
       "            }, 500);\n",
       "            "
      ],
      "text/plain": [
       "<IPython.core.display.Javascript object>"
      ]
     },
     "metadata": {},
     "output_type": "display_data"
    }
   ],
   "source": [
    "fig = plt.figure(figsize=(9, 4))\n",
    "plt.bar(model_features[\"model_4\"], feature_importances)\n",
    "plt.show()"
   ]
  },
  {
   "cell_type": "markdown",
   "id": "72bbbdbe",
   "metadata": {},
   "source": [
    "The most important feature for our random forest correction model is the `PM 2.5`readings from the low-cost sensor"
   ]
  },
  {
   "cell_type": "markdown",
   "id": "4f815cb6",
   "metadata": {},
   "source": [
    "**Disaggregating the errors into the different locations**"
   ]
  },
  {
   "cell_type": "code",
   "execution_count": 83,
   "id": "a91d5138",
   "metadata": {},
   "outputs": [
    {
     "data": {
      "application/javascript": [
       "\n",
       "            setTimeout(function() {\n",
       "                var nbb_cell_id = 83;\n",
       "                var nbb_unformatted_code = \"best_disagg_test_metric = get_disaggregated_metrics(\\n    test_data, results_best_model[\\\"y_hat_test\\\"]\\n)\\nbest_disagg_train_metric = get_disaggregated_metrics(\\n    training_data, results_best_model[\\\"y_hat_train\\\"]\\n)\";\n",
       "                var nbb_formatted_code = \"best_disagg_test_metric = get_disaggregated_metrics(\\n    test_data, results_best_model[\\\"y_hat_test\\\"]\\n)\\nbest_disagg_train_metric = get_disaggregated_metrics(\\n    training_data, results_best_model[\\\"y_hat_train\\\"]\\n)\";\n",
       "                var nbb_cells = Jupyter.notebook.get_cells();\n",
       "                for (var i = 0; i < nbb_cells.length; ++i) {\n",
       "                    if (nbb_cells[i].input_prompt_number == nbb_cell_id) {\n",
       "                        if (nbb_cells[i].get_text() == nbb_unformatted_code) {\n",
       "                             nbb_cells[i].set_text(nbb_formatted_code);\n",
       "                        }\n",
       "                        break;\n",
       "                    }\n",
       "                }\n",
       "            }, 500);\n",
       "            "
      ],
      "text/plain": [
       "<IPython.core.display.Javascript object>"
      ]
     },
     "metadata": {},
     "output_type": "display_data"
    }
   ],
   "source": [
    "best_disagg_test_metric = get_disaggregated_metrics(\n",
    "    test_data, results_best_model[\"y_hat_test\"]\n",
    ")\n",
    "best_disagg_train_metric = get_disaggregated_metrics(\n",
    "    training_data, results_best_model[\"y_hat_train\"]\n",
    ")"
   ]
  },
  {
   "cell_type": "code",
   "execution_count": 84,
   "id": "d52522fe",
   "metadata": {},
   "outputs": [
    {
     "name": "stdout",
     "output_type": "stream",
     "text": [
      "best model\n",
      "{'CAMP': {'RMSE': 1.85}, 'i25_denver': {'RMSE': 3.85}}\n",
      "baseline\n",
      "{'CAMP': {'RMSE': 2.35}, 'i25_denver': {'RMSE': 8.04}}\n"
     ]
    },
    {
     "data": {
      "application/javascript": [
       "\n",
       "            setTimeout(function() {\n",
       "                var nbb_cell_id = 84;\n",
       "                var nbb_unformatted_code = \"print(\\\"best model\\\")\\nprint(best_disagg_test_metric[\\\"RMSE\\\"])\\nprint(\\\"baseline\\\")\\nprint(baseline_disagg_test_metrics[\\\"RMSE\\\"])\";\n",
       "                var nbb_formatted_code = \"print(\\\"best model\\\")\\nprint(best_disagg_test_metric[\\\"RMSE\\\"])\\nprint(\\\"baseline\\\")\\nprint(baseline_disagg_test_metrics[\\\"RMSE\\\"])\";\n",
       "                var nbb_cells = Jupyter.notebook.get_cells();\n",
       "                for (var i = 0; i < nbb_cells.length; ++i) {\n",
       "                    if (nbb_cells[i].input_prompt_number == nbb_cell_id) {\n",
       "                        if (nbb_cells[i].get_text() == nbb_unformatted_code) {\n",
       "                             nbb_cells[i].set_text(nbb_formatted_code);\n",
       "                        }\n",
       "                        break;\n",
       "                    }\n",
       "                }\n",
       "            }, 500);\n",
       "            "
      ],
      "text/plain": [
       "<IPython.core.display.Javascript object>"
      ]
     },
     "metadata": {},
     "output_type": "display_data"
    }
   ],
   "source": [
    "print(\"best model\")\n",
    "print(best_disagg_test_metric[\"RMSE\"])\n",
    "print(\"baseline\")\n",
    "print(baseline_disagg_test_metrics[\"RMSE\"])"
   ]
  },
  {
   "cell_type": "markdown",
   "id": "348dbf03",
   "metadata": {},
   "source": [
    "Compare to our baseline for test data as shown below:"
   ]
  },
  {
   "cell_type": "code",
   "execution_count": 85,
   "id": "63521e34",
   "metadata": {},
   "outputs": [
    {
     "name": "stdout",
     "output_type": "stream",
     "text": [
      "best model\n",
      "{'NJH': {'RMSE': 0.63}, 'i25_glo_1': {'RMSE': 1.01}, 'i25_glo_2': {'RMSE': 0.93}, 'i25_glo_3': {'RMSE': 0.86}, 'la_casa': {'RMSE': 0.68}}\n",
      "baseline\n",
      "{'NJH': {'RMSE': 4.36}, 'i25_glo_1': {'RMSE': 6.67}, 'i25_glo_2': {'RMSE': 4.55}, 'i25_glo_3': {'RMSE': 5.41}, 'la_casa': {'RMSE': 6.06}}\n"
     ]
    },
    {
     "data": {
      "application/javascript": [
       "\n",
       "            setTimeout(function() {\n",
       "                var nbb_cell_id = 85;\n",
       "                var nbb_unformatted_code = \"print(\\\"best model\\\")\\nprint(best_disagg_train_metric[\\\"RMSE\\\"])\\nprint(\\\"baseline\\\")\\nprint(baseline_disagg_train_metrics[\\\"RMSE\\\"])\";\n",
       "                var nbb_formatted_code = \"print(\\\"best model\\\")\\nprint(best_disagg_train_metric[\\\"RMSE\\\"])\\nprint(\\\"baseline\\\")\\nprint(baseline_disagg_train_metrics[\\\"RMSE\\\"])\";\n",
       "                var nbb_cells = Jupyter.notebook.get_cells();\n",
       "                for (var i = 0; i < nbb_cells.length; ++i) {\n",
       "                    if (nbb_cells[i].input_prompt_number == nbb_cell_id) {\n",
       "                        if (nbb_cells[i].get_text() == nbb_unformatted_code) {\n",
       "                             nbb_cells[i].set_text(nbb_formatted_code);\n",
       "                        }\n",
       "                        break;\n",
       "                    }\n",
       "                }\n",
       "            }, 500);\n",
       "            "
      ],
      "text/plain": [
       "<IPython.core.display.Javascript object>"
      ]
     },
     "metadata": {},
     "output_type": "display_data"
    }
   ],
   "source": [
    "print(\"best model\")\n",
    "print(best_disagg_train_metric[\"RMSE\"])\n",
    "print(\"baseline\")\n",
    "print(baseline_disagg_train_metrics[\"RMSE\"])"
   ]
  },
  {
   "cell_type": "markdown",
   "id": "9c5cc5a3",
   "metadata": {},
   "source": [
    "We have lower errors in NJH and CAMP which are locations with lowers IQRs. They are both farther from the expressway than the other locations. "
   ]
  },
  {
   "cell_type": "markdown",
   "id": "9f4c09cf",
   "metadata": {},
   "source": [
    "Best result compared to baseline:\n",
    "\n",
    "| Location| Baseline RMSE| Random forest RMSE|\n",
    "  |---|---|---|\n",
    "  |**Train**|---|---|\n",
    "  |NJH | 4.36| 0.63|\n",
    "  |i25_glo_1|6.67|1.01|\n",
    "  |i25_glo_2|4.55|0.93|\n",
    "  |i25_glo_3|5.41|0.86|\n",
    "  |la_casa|6.06|0.68|\n",
    "  |**Test**|---|---|\n",
    "  |CAMP|2.35|1.64|\n",
    "  |i25_denver|8.04|4.47|\n",
    "  "
   ]
  },
  {
   "cell_type": "markdown",
   "id": "62445ac2",
   "metadata": {},
   "source": [
    "Remember that the training results are obtained from data and locations that have already been seen by the model. Hence we have results that are over-optimistic for those locations. The model we have so far, however, shows usefulness in that it reduces error on test data (which are locations that have not been seen by our our model).\n",
    "\n",
    "How do we objectively evaluate the performance of our model in locations that are in the training data?\n",
    "For this, we will apply LOOO cross validation in the next notebook."
   ]
  },
  {
   "cell_type": "code",
   "execution_count": null,
   "id": "77639be2",
   "metadata": {},
   "outputs": [],
   "source": []
  }
 ],
 "metadata": {
  "kernelspec": {
   "display_name": "Python 3",
   "language": "python",
   "name": "python3"
  },
  "language_info": {
   "codemirror_mode": {
    "name": "ipython",
    "version": 3
   },
   "file_extension": ".py",
   "mimetype": "text/x-python",
   "name": "python",
   "nbconvert_exporter": "python",
   "pygments_lexer": "ipython3",
   "version": "3.8.5"
  }
 },
 "nbformat": 4,
 "nbformat_minor": 5
}

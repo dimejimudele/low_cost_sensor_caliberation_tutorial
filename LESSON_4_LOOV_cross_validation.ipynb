{
 "cells": [
  {
   "cell_type": "code",
   "execution_count": 1,
   "id": "2a3878c7",
   "metadata": {},
   "outputs": [
    {
     "data": {
      "application/javascript": [
       "\n",
       "            setTimeout(function() {\n",
       "                var nbb_cell_id = 1;\n",
       "                var nbb_unformatted_code = \"%load_ext nb_black\";\n",
       "                var nbb_formatted_code = \"%load_ext nb_black\";\n",
       "                var nbb_cells = Jupyter.notebook.get_cells();\n",
       "                for (var i = 0; i < nbb_cells.length; ++i) {\n",
       "                    if (nbb_cells[i].input_prompt_number == nbb_cell_id) {\n",
       "                        if (nbb_cells[i].get_text() == nbb_unformatted_code) {\n",
       "                             nbb_cells[i].set_text(nbb_formatted_code);\n",
       "                        }\n",
       "                        break;\n",
       "                    }\n",
       "                }\n",
       "            }, 500);\n",
       "            "
      ],
      "text/plain": [
       "<IPython.core.display.Javascript object>"
      ]
     },
     "metadata": {},
     "output_type": "display_data"
    }
   ],
   "source": [
    "%load_ext nb_black"
   ]
  },
  {
   "cell_type": "markdown",
   "id": "5dcd0487",
   "metadata": {},
   "source": [
    "Welcome to this lab session 4 on **Time series modeling for air pollution monitoring with a focus on the\n",
    "calibration of low-cost sensors.**\n",
    "\n",
    "This lab session is based on the data and methods provided in the study by [Ellen M. Considine et al](https://www.sciencedirect.com/science/article/pii/S0269749120365222).\n"
   ]
  },
  {
   "cell_type": "markdown",
   "id": "c4cf3194",
   "metadata": {},
   "source": [
    "In the notebook, we will focus on improving our modeling pipeline by considering cross validation."
   ]
  },
  {
   "cell_type": "markdown",
   "id": "8d91d267",
   "metadata": {},
   "source": [
    "The question we intend to answer here is: How can we improve the experiment pipeline presented in LESSON 3 notebook.\n",
    "\n",
    "To this aim, we present leave-one-location-out cross validation. This cross validation helps us to understand how well our model generalises into new locations corresponding to the same time coverage of our training data.\n",
    "\n",
    "The idea is to split our training data into training and validation by location.\n",
    "\n",
    "**Step-by-step process**\n",
    "\n",
    "- Iterate over the monitor locations\n",
    "- For each location,\n",
    "    - Select data for that location as validation data and deselect these data from training.\n",
    "    - Fit your model on the resulting training data and predict over the validation location.\n",
    "    - Check the model error on validation data"
   ]
  },
  {
   "cell_type": "markdown",
   "id": "78169c17",
   "metadata": {},
   "source": [
    "# First, lets import the libraries we will be using"
   ]
  },
  {
   "cell_type": "code",
   "execution_count": 1,
   "id": "241f76f5",
   "metadata": {},
   "outputs": [],
   "source": [
    "import math\n",
    "\n",
    "from tqdm.auto import tqdm\n",
    "\n",
    "import pandas as pd\n",
    "import numpy as np\n",
    "import matplotlib.pyplot as plt\n",
    "\n",
    "from sklearn.ensemble import RandomForestRegressor\n",
    "from sklearn.metrics import mean_squared_error"
   ]
  },
  {
   "cell_type": "code",
   "execution_count": 2,
   "id": "adb503e5",
   "metadata": {},
   "outputs": [],
   "source": [
    "import warnings\n",
    "\n",
    "warnings.filterwarnings(\"ignore\")"
   ]
  },
  {
   "cell_type": "markdown",
   "id": "09c2f029",
   "metadata": {},
   "source": [
    "# Load the data"
   ]
  },
  {
   "cell_type": "code",
   "execution_count": 3,
   "id": "e5b525c7",
   "metadata": {},
   "outputs": [],
   "source": [
    "data_root = \"./data/\"\n",
    "training_data_path = data_root + \"cleaned_training.csv\"\n",
    "test_data_path = data_root + \"cleaned_test.csv\""
   ]
  },
  {
   "cell_type": "code",
   "execution_count": 4,
   "id": "b1fb5782",
   "metadata": {},
   "outputs": [],
   "source": [
    "training_data = pd.read_csv(training_data_path)\n",
    "test_data = pd.read_csv(test_data_path)"
   ]
  },
  {
   "cell_type": "code",
   "execution_count": 5,
   "id": "dfa8eeb4",
   "metadata": {},
   "outputs": [
    {
     "data": {
      "text/html": [
       "<div>\n",
       "<style scoped>\n",
       "    .dataframe tbody tr th:only-of-type {\n",
       "        vertical-align: middle;\n",
       "    }\n",
       "\n",
       "    .dataframe tbody tr th {\n",
       "        vertical-align: top;\n",
       "    }\n",
       "\n",
       "    .dataframe thead th {\n",
       "        text-align: right;\n",
       "    }\n",
       "</style>\n",
       "<table border=\"1\" class=\"dataframe\">\n",
       "  <thead>\n",
       "    <tr style=\"text-align: right;\">\n",
       "      <th></th>\n",
       "      <th>airnow_sensor</th>\n",
       "      <th>longitude</th>\n",
       "      <th>latitude</th>\n",
       "      <th>a_road_500</th>\n",
       "      <th>pm_cs</th>\n",
       "      <th>temp</th>\n",
       "      <th>humidity</th>\n",
       "      <th>pm_airnow</th>\n",
       "      <th>date_time</th>\n",
       "      <th>cs_sensor</th>\n",
       "      <th>time</th>\n",
       "      <th>month</th>\n",
       "      <th>weekend</th>\n",
       "      <th>sin_time</th>\n",
       "      <th>cos_time</th>\n",
       "      <th>sin_month</th>\n",
       "      <th>cos_month</th>\n",
       "    </tr>\n",
       "  </thead>\n",
       "  <tbody>\n",
       "    <tr>\n",
       "      <th>0</th>\n",
       "      <td>NJH</td>\n",
       "      <td>-104.939925</td>\n",
       "      <td>39.738578</td>\n",
       "      <td>1.995</td>\n",
       "      <td>33.6167</td>\n",
       "      <td>60.038</td>\n",
       "      <td>65.0850</td>\n",
       "      <td>22.10</td>\n",
       "      <td>2018-08-20 01:00:00</td>\n",
       "      <td>NJH</td>\n",
       "      <td>1</td>\n",
       "      <td>8</td>\n",
       "      <td>0</td>\n",
       "      <td>0.220297</td>\n",
       "      <td>0.141451</td>\n",
       "      <td>0.518027</td>\n",
       "      <td>-0.076184</td>\n",
       "    </tr>\n",
       "    <tr>\n",
       "      <th>1</th>\n",
       "      <td>NJH</td>\n",
       "      <td>-104.939925</td>\n",
       "      <td>39.738578</td>\n",
       "      <td>1.995</td>\n",
       "      <td>38.2333</td>\n",
       "      <td>58.517</td>\n",
       "      <td>67.1150</td>\n",
       "      <td>27.10</td>\n",
       "      <td>2018-08-20 02:00:00</td>\n",
       "      <td>NJH</td>\n",
       "      <td>2</td>\n",
       "      <td>8</td>\n",
       "      <td>0</td>\n",
       "      <td>0.238054</td>\n",
       "      <td>-0.108947</td>\n",
       "      <td>0.518027</td>\n",
       "      <td>-0.076184</td>\n",
       "    </tr>\n",
       "    <tr>\n",
       "      <th>2</th>\n",
       "      <td>NJH</td>\n",
       "      <td>-104.939925</td>\n",
       "      <td>39.738578</td>\n",
       "      <td>1.995</td>\n",
       "      <td>43.3500</td>\n",
       "      <td>57.383</td>\n",
       "      <td>71.1717</td>\n",
       "      <td>28.85</td>\n",
       "      <td>2018-08-20 03:00:00</td>\n",
       "      <td>NJH</td>\n",
       "      <td>3</td>\n",
       "      <td>8</td>\n",
       "      <td>0</td>\n",
       "      <td>0.036945</td>\n",
       "      <td>-0.259179</td>\n",
       "      <td>0.518027</td>\n",
       "      <td>-0.076184</td>\n",
       "    </tr>\n",
       "    <tr>\n",
       "      <th>3</th>\n",
       "      <td>NJH</td>\n",
       "      <td>-104.939925</td>\n",
       "      <td>39.738578</td>\n",
       "      <td>1.995</td>\n",
       "      <td>48.7000</td>\n",
       "      <td>56.546</td>\n",
       "      <td>74.7317</td>\n",
       "      <td>34.60</td>\n",
       "      <td>2018-08-20 04:00:00</td>\n",
       "      <td>NJH</td>\n",
       "      <td>4</td>\n",
       "      <td>8</td>\n",
       "      <td>0</td>\n",
       "      <td>-0.198130</td>\n",
       "      <td>-0.171123</td>\n",
       "      <td>0.518027</td>\n",
       "      <td>-0.076184</td>\n",
       "    </tr>\n",
       "    <tr>\n",
       "      <th>4</th>\n",
       "      <td>NJH</td>\n",
       "      <td>-104.939925</td>\n",
       "      <td>39.738578</td>\n",
       "      <td>1.995</td>\n",
       "      <td>39.2500</td>\n",
       "      <td>55.682</td>\n",
       "      <td>79.2033</td>\n",
       "      <td>31.50</td>\n",
       "      <td>2018-08-20 05:00:00</td>\n",
       "      <td>NJH</td>\n",
       "      <td>5</td>\n",
       "      <td>8</td>\n",
       "      <td>0</td>\n",
       "      <td>-0.251046</td>\n",
       "      <td>0.074263</td>\n",
       "      <td>0.518027</td>\n",
       "      <td>-0.076184</td>\n",
       "    </tr>\n",
       "  </tbody>\n",
       "</table>\n",
       "</div>"
      ],
      "text/plain": [
       "  airnow_sensor   longitude   latitude  a_road_500    pm_cs    temp  humidity  \\\n",
       "0           NJH -104.939925  39.738578       1.995  33.6167  60.038   65.0850   \n",
       "1           NJH -104.939925  39.738578       1.995  38.2333  58.517   67.1150   \n",
       "2           NJH -104.939925  39.738578       1.995  43.3500  57.383   71.1717   \n",
       "3           NJH -104.939925  39.738578       1.995  48.7000  56.546   74.7317   \n",
       "4           NJH -104.939925  39.738578       1.995  39.2500  55.682   79.2033   \n",
       "\n",
       "   pm_airnow            date_time cs_sensor  time  month  weekend  sin_time  \\\n",
       "0      22.10  2018-08-20 01:00:00       NJH     1      8        0  0.220297   \n",
       "1      27.10  2018-08-20 02:00:00       NJH     2      8        0  0.238054   \n",
       "2      28.85  2018-08-20 03:00:00       NJH     3      8        0  0.036945   \n",
       "3      34.60  2018-08-20 04:00:00       NJH     4      8        0 -0.198130   \n",
       "4      31.50  2018-08-20 05:00:00       NJH     5      8        0 -0.251046   \n",
       "\n",
       "   cos_time  sin_month  cos_month  \n",
       "0  0.141451   0.518027  -0.076184  \n",
       "1 -0.108947   0.518027  -0.076184  \n",
       "2 -0.259179   0.518027  -0.076184  \n",
       "3 -0.171123   0.518027  -0.076184  \n",
       "4  0.074263   0.518027  -0.076184  "
      ]
     },
     "execution_count": 5,
     "metadata": {},
     "output_type": "execute_result"
    }
   ],
   "source": [
    "training_data.head()"
   ]
  },
  {
   "cell_type": "markdown",
   "id": "3cde1da2",
   "metadata": {},
   "source": [
    "# Utility functions"
   ]
  },
  {
   "cell_type": "code",
   "execution_count": 6,
   "id": "d9f416e3",
   "metadata": {},
   "outputs": [],
   "source": [
    "# More evaluation metrics can be added to the function\n",
    "def evaluate_model(y, y_hat):\n",
    "    return {\"RMSE\": round(mean_squared_error(y, y_hat, squared=False), 2)}\n"
   ]
  },
  {
   "cell_type": "markdown",
   "id": "e83f47c3",
   "metadata": {},
   "source": [
    "Now, we need to get Validation data"
   ]
  },
  {
   "cell_type": "code",
   "execution_count": 7,
   "id": "b45a9a74",
   "metadata": {},
   "outputs": [],
   "source": [
    "features = [\n",
    "    \"pm_cs\",\n",
    "    \"temp\",\n",
    "    \"humidity\",\n",
    "    \"a_road_500\",\n",
    "    \"sin_time\",\n",
    "    \"cos_time\",\n",
    "    \"sin_month\",\n",
    "    \"cos_month\",\n",
    "]\n",
    "\n",
    "# This is tagged model_4 in our last notebook"
   ]
  },
  {
   "cell_type": "code",
   "execution_count": 8,
   "id": "3dec9090",
   "metadata": {},
   "outputs": [
    {
     "data": {
      "application/vnd.jupyter.widget-view+json": {
       "model_id": "0e7e237b6e11474bbdd47bfb7a431e52",
       "version_major": 2,
       "version_minor": 0
      },
      "text/plain": [
       "HBox(children=(HTML(value=''), FloatProgress(value=0.0, max=5.0), HTML(value='')))"
      ]
     },
     "metadata": {},
     "output_type": "display_data"
    },
    {
     "name": "stdout",
     "output_type": "stream",
     "text": [
      "\n"
     ]
    }
   ],
   "source": [
    "lolo_validation_errors = {}\n",
    "locations = training_data[\"cs_sensor\"].unique()\n",
    "\n",
    "for leave_sensor in tqdm(locations, total=len(locations)):\n",
    "\n",
    "    train = training_data[training_data[\"cs_sensor\"] != leave_sensor]\n",
    "    validation = training_data[training_data[\"cs_sensor\"] == leave_sensor]\n",
    "\n",
    "    model = RandomForestRegressor()\n",
    "\n",
    "    x_train, y_train = train[features], train[\"pm_airnow\"]\n",
    "    x_val, y_val = validation[features], validation[\"pm_airnow\"]\n",
    "\n",
    "    model.fit(x_train, y_train)\n",
    "\n",
    "    y_hat_val = model.predict(x_val)\n",
    "\n",
    "    error = evaluate_model(y_val, y_hat_val)\n",
    "    lolo_validation_errors[leave_sensor] = error[\"RMSE\"]"
   ]
  },
  {
   "cell_type": "markdown",
   "id": "cfad6828",
   "metadata": {},
   "source": [
    "The location names below shows signify the location that have been left out of training but used only to obtain validation error.\n",
    "\n",
    "| Location| Baseline RMSE| CV Random forest RMSE|\n",
    "  |---|---|---|\n",
    "  |**Train**|---|---|\n",
    "  |NJH | 4.36| 2.26|\n",
    "  |i25_glo_1|6.67|3.13|\n",
    "  |i25_glo_2|4.55|2.72|\n",
    "  |i25_glo_3|5.41|2.37|\n",
    "  |la_casa|6.06|2.4|\n",
    "\n",
    "  "
   ]
  },
  {
   "cell_type": "markdown",
   "id": "1649df0c",
   "metadata": {},
   "source": [
    "Leaving I-25 Globeville data out increases our validation error because by removing this monitor location, we exclude samples from three CS sensors in the data. Relative to the full side of our data, this is a lot of samples."
   ]
  },
  {
   "cell_type": "markdown",
   "id": "d00e8aa6",
   "metadata": {},
   "source": [
    "Ideally, if applying LOLO cross validation, you want to apply it to the model evaluation and selection step in our previous notebook."
   ]
  },
  {
   "cell_type": "markdown",
   "id": "62b11527",
   "metadata": {},
   "source": [
    "We can represent our training performance in terms of the mean and standard deviation of all the cross validation errors as shown below."
   ]
  },
  {
   "cell_type": "code",
   "execution_count": 9,
   "id": "8f79f13b",
   "metadata": {},
   "outputs": [
    {
     "name": "stdout",
     "output_type": "stream",
     "text": [
      "error mean:  2.58\n",
      "error std:  0.32\n"
     ]
    }
   ],
   "source": [
    "print(\"error mean: \", round(np.mean(list(lolo_validation_errors.values())), 2))\n",
    "print(\"error std: \", round(np.std(list(lolo_validation_errors.values())), 2))"
   ]
  },
  {
   "cell_type": "markdown",
   "id": "920272f8",
   "metadata": {},
   "source": [
    "This tells us that our training RMSE of `0.85` when we use all the locations in training is too optimistic, especially for the case of generalizing to new locations over the same time period of our training data."
   ]
  },
  {
   "cell_type": "markdown",
   "id": "1480b51d",
   "metadata": {},
   "source": [
    "A simple way to combine these cross validated models for test/inference would be to average their outputs\n",
    "\n",
    "\n",
    "$final prediction = (prediction_1 + prediction_2 + prediction_3 + ... + prediction_n) / n$"
   ]
  },
  {
   "cell_type": "code",
   "execution_count": null,
   "id": "233c37b1",
   "metadata": {},
   "outputs": [],
   "source": []
  }
 ],
 "metadata": {
  "kernelspec": {
   "display_name": "Python 3",
   "language": "python",
   "name": "python3"
  },
  "language_info": {
   "codemirror_mode": {
    "name": "ipython",
    "version": 3
   },
   "file_extension": ".py",
   "mimetype": "text/x-python",
   "name": "python",
   "nbconvert_exporter": "python",
   "pygments_lexer": "ipython3",
   "version": "3.8.5"
  }
 },
 "nbformat": 4,
 "nbformat_minor": 5
}

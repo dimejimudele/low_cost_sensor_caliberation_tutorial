{
 "cells": [
  {
   "cell_type": "code",
   "execution_count": null,
   "id": "87113407",
   "metadata": {},
   "outputs": [],
   "source": [
    "%load_ext nb_black"
   ]
  },
  {
   "cell_type": "markdown",
   "id": "2f6c6eaa",
   "metadata": {},
   "source": [
    "Welcome to this lab session 2 on Time series modeling for air pollution monitoring with a focus on the\n",
    "calibration of low-cost sensors.\n",
    "\n",
    "This lab session is based on the data and methods provided in the study by [Ellen M. Considine et al](https://www.sciencedirect.com/science/article/pii/S0269749120365222)."
   ]
  },
  {
   "cell_type": "markdown",
   "id": "cddddc1e",
   "metadata": {},
   "source": [
    "In this notebook we perform exploratory data analysis on our cleaned data from session 1."
   ]
  },
  {
   "cell_type": "markdown",
   "id": "36b4fa83",
   "metadata": {},
   "source": [
    "In statistics, exploratory data analysis is an approach of analyzing data sets to summarize their main characteristics, often using statistical graphics and other data visualization methods. - [Wikipedia](https://en.wikipedia.org/wiki/Exploratory_data_analysis)"
   ]
  },
  {
   "cell_type": "markdown",
   "id": "35da3324",
   "metadata": {},
   "source": [
    "We will be asking ourselves the following questions:\n",
    "    \n",
    "- What is the geospatial context of the locations of our sensors (and the data they collect)?\n",
    "- What is the length of arterial roads with 500 meter radius from each of the monitor locations?\n",
    "- What are the summary statistics of the airnow and CS PM2.5, and what can we observe from these statistics?\n",
    "- Using scatter plots and histograms to deepen our understanding of the possible disparities between airnow and CS readings. Here, we want to observe if there is a linear relationship between these readings.\n",
    "- What happens on weekends? Is there a significant difference?\n",
    "- Correlation matrix and scatter matrix between variables"
   ]
  },
  {
   "cell_type": "code",
   "execution_count": null,
   "id": "dc35159c",
   "metadata": {},
   "outputs": [],
   "source": [
    "import pandas as pd\n",
    "import matplotlib.pyplot as plt\n",
    "import seaborn as sns\n",
    "import math\n",
    "\n",
    "import geopandas\n",
    "import contextily as cx"
   ]
  },
  {
   "cell_type": "markdown",
   "id": "76e966aa",
   "metadata": {},
   "source": [
    "# Load the training data from disk\n",
    "\n",
    "The data is stored in a `.csv`file (with column names as keys to access the different time series variables). Pandas dataframes give use the possibility to manilpulate these kinds of files"
   ]
  },
  {
   "cell_type": "code",
   "execution_count": null,
   "id": "0dd81caf",
   "metadata": {},
   "outputs": [],
   "source": [
    "data_root = \"./data/\"\n",
    "training_data_path = data_root + \"cleaned_training.csv\"\n",
    "test_data_path = data_root + \"cleaned_test.csv\"\n",
    "\n",
    "training_data = pd.read_csv(training_data_path)\n",
    "test_data = pd.read_csv(test_data_path)\n",
    "\n",
    "full_data = pd.concat([training_data, test_data], axis=0)"
   ]
  },
  {
   "cell_type": "code",
   "execution_count": null,
   "id": "76a4fba5",
   "metadata": {},
   "outputs": [],
   "source": [
    "full_data.dtypes"
   ]
  },
  {
   "cell_type": "code",
   "execution_count": null,
   "id": "2edfed9f",
   "metadata": {},
   "outputs": [],
   "source": [
    "full_data.head()"
   ]
  },
  {
   "cell_type": "markdown",
   "id": "5866e1e4",
   "metadata": {},
   "source": [
    "Any NaN values?"
   ]
  },
  {
   "cell_type": "code",
   "execution_count": null,
   "id": "993edb6f",
   "metadata": {},
   "outputs": [],
   "source": [
    "full_data.isna().sum()"
   ]
  },
  {
   "cell_type": "code",
   "execution_count": null,
   "id": "262dd33d",
   "metadata": {},
   "outputs": [],
   "source": [
    "full_data[\"date_time\"] = pd.to_datetime(full_data[\"date_time\"])"
   ]
  },
  {
   "cell_type": "markdown",
   "id": "d01b8df0",
   "metadata": {},
   "source": [
    "Now, we want to split our dataframe by sensor because we will be using these different sections of our data multiple times in this notebook."
   ]
  },
  {
   "cell_type": "markdown",
   "id": "701b5292",
   "metadata": {},
   "source": [
    "# 1. Plot latitude and langitude of each sensing location with basemap to provide context."
   ]
  },
  {
   "cell_type": "markdown",
   "id": "c3ddc5e2",
   "metadata": {},
   "source": [
    "Here we will use a `groupby` function in pandas. It is used to group large amounts of data by descrete values contained in columns of the data."
   ]
  },
  {
   "cell_type": "markdown",
   "id": "7aed575c",
   "metadata": {},
   "source": [
    "The `pandas.groupby.nth()` function is used to get the value corresponding the nth row for each group. To get the first value in a group, pass 0 as an argument to the `nth()` method. "
   ]
  },
  {
   "cell_type": "code",
   "execution_count": null,
   "id": "18e911c5",
   "metadata": {},
   "outputs": [],
   "source": [
    "locations = (\n",
    "    full_data[[\"airnow_sensor\", \"longitude\", \"latitude\"]]\n",
    "    .groupby(by=\"airnow_sensor\")\n",
    "    .nth(0)\n",
    "    .reset_index()\n",
    ")"
   ]
  },
  {
   "cell_type": "code",
   "execution_count": null,
   "id": "2a9834fa",
   "metadata": {},
   "outputs": [],
   "source": [
    "locations"
   ]
  },
  {
   "cell_type": "markdown",
   "id": "a1b014cc",
   "metadata": {},
   "source": [
    "The `contextily` package is used to retrieve web map tiles from a number of sources (OpenStreetMap, Stamen). We can use this package to add basemap to enhance `geopandas.GeoDataFrame`plots."
   ]
  },
  {
   "cell_type": "code",
   "execution_count": null,
   "id": "31d1755b",
   "metadata": {},
   "outputs": [],
   "source": [
    "geo_df = geopandas.GeoDataFrame(\n",
    "    locations,\n",
    "    geometry=geopandas.points_from_xy(locations.longitude, locations.latitude),\n",
    ")\n",
    "\n",
    "geo_df = geo_df.set_crs(\"epsg:4326\")"
   ]
  },
  {
   "cell_type": "code",
   "execution_count": null,
   "id": "f34933ba",
   "metadata": {},
   "outputs": [],
   "source": [
    "geo_df"
   ]
  },
  {
   "cell_type": "code",
   "execution_count": null,
   "id": "224bef90",
   "metadata": {},
   "outputs": [],
   "source": [
    "geo_df.dtypes"
   ]
  },
  {
   "cell_type": "code",
   "execution_count": null,
   "id": "4f4731e5",
   "metadata": {
    "scrolled": false
   },
   "outputs": [],
   "source": [
    "ax = geo_df.plot(\n",
    "    figsize=(10, 10),\n",
    "    alpha=1,\n",
    "    edgecolor=\"b\",\n",
    "    legend=True,\n",
    "    markersize=500,\n",
    "    legend_kwds={\"labels\": geo_df[\"airnow_sensor\"]},\n",
    ")\n",
    "\n",
    "for x, y, label in zip(geo_df.geometry.x, geo_df.geometry.y, geo_df[\"airnow_sensor\"]):\n",
    "    ax.annotate(\n",
    "        label,\n",
    "        xy=(x, y),\n",
    "        xytext=(3, 3),\n",
    "        textcoords=\"offset points\",\n",
    "        fontsize=25,\n",
    "        color=\"r\",\n",
    "    )\n",
    "plt.title(\"Locations of the AirNow (FEM) sensors used as reference in this study\")\n",
    "cx.add_basemap(ax, crs=geo_df.crs)"
   ]
  },
  {
   "cell_type": "markdown",
   "id": "24a57cde",
   "metadata": {},
   "source": [
    "- The National Jewish Hospital (NJH) is farther away from the highway than the rest of the monitor locations. CAMP is also reltively far from large roads. This should have potential impact on how much and the variability of the PM2.5 atmospheric content sensed in these locations."
   ]
  },
  {
   "cell_type": "markdown",
   "id": "e4e22702",
   "metadata": {},
   "source": [
    "# 2. Exploring road length variables\n",
    "\n",
    "Here we want to explore the lengths of arterial (Large) roads within 500m buffer surrounding each monitor location. We do this using a bar plot/chart.\n",
    "\n",
    "A bar chart or bar graph is a chart or graph that presents categorical data with rectangular bars with heights or lengths proportional to the values that they represent. - [Wikipedia](https://en.wikipedia.org/wiki/Bar_chart)"
   ]
  },
  {
   "cell_type": "code",
   "execution_count": null,
   "id": "e1f51582",
   "metadata": {},
   "outputs": [],
   "source": [
    "full_data_roads = (\n",
    "    full_data.groupby(by=\"airnow_sensor\")\n",
    "    .nth(0)\n",
    "    .reset_index()[[\"airnow_sensor\", \"a_road_500\"]]\n",
    ")"
   ]
  },
  {
   "cell_type": "code",
   "execution_count": null,
   "id": "fd65b6f9",
   "metadata": {},
   "outputs": [],
   "source": [
    "full_data_roads"
   ]
  },
  {
   "cell_type": "markdown",
   "id": "a6a5f64b",
   "metadata": {},
   "source": [
    "### Exercise 1: Obtain a bar plot of the road length for each monitor location using the given dataframe\n",
    "\n",
    "Can you observe for \n",
    "\n",
    "**Follow up: What can you observe for from the plot?**\n",
    "\n",
    "**Follow up: What can you observe (differently) for training and test set from the plot?**\n",
    "\n",
    "Training: NJH, i25_glo, la_casa <br>\n",
    "Test: CAMP, i25_denver\n",
    "\n",
    "**Follow up: If you observed anything, how can we verify what you have observed?**"
   ]
  },
  {
   "cell_type": "code",
   "execution_count": null,
   "id": "05e8956e",
   "metadata": {},
   "outputs": [],
   "source": [
    "plt.bar(full_data_roads[\"airnow_sensor\"], full_data_roads[\"a_road_500\"])\n",
    "plt.show()"
   ]
  },
  {
   "cell_type": "markdown",
   "id": "2e432b91",
   "metadata": {},
   "source": [
    "# 3. Summary statistics of our data"
   ]
  },
  {
   "cell_type": "markdown",
   "id": "8d9995e2",
   "metadata": {},
   "source": [
    "First, we obtain the summary statistics our \"true\" data, i.e the data from our monitor sensors (named `pm_airnow`) in our dataframe."
   ]
  },
  {
   "cell_type": "markdown",
   "id": "06473432",
   "metadata": {},
   "source": [
    "###### Training"
   ]
  },
  {
   "cell_type": "code",
   "execution_count": null,
   "id": "b129d0f3",
   "metadata": {},
   "outputs": [],
   "source": [
    "training_data.groupby(\"cs_sensor\")[[\"pm_airnow\"]].describe()"
   ]
  },
  {
   "cell_type": "markdown",
   "id": "59973146",
   "metadata": {},
   "source": [
    "###### Test"
   ]
  },
  {
   "cell_type": "code",
   "execution_count": null,
   "id": "32c96e59",
   "metadata": {},
   "outputs": [],
   "source": [
    "test_data.groupby(\"cs_sensor\")[[\"pm_airnow\"]].describe()"
   ]
  },
  {
   "cell_type": "markdown",
   "id": "7213f3f4",
   "metadata": {},
   "source": [
    "**Observations**\n",
    "\n",
    "- NJH in training and CAMP in test data show relatively lower median values<br>\n",
    "- The IQR for both NJH and CAMP are also lower than the rest.\n"
   ]
  },
  {
   "cell_type": "markdown",
   "id": "30780e1f",
   "metadata": {},
   "source": [
    "### Summary statistics of the CS (low-cost) sensor data?\n",
    "\n",
    "Remember, the column named `cs_sensor`provides the CS sensor tag for each data row and column named `pm_cs` contains the CA sensor data"
   ]
  },
  {
   "cell_type": "markdown",
   "id": "bac1f937",
   "metadata": {},
   "source": [
    "###### Training"
   ]
  },
  {
   "cell_type": "code",
   "execution_count": null,
   "id": "d706660e",
   "metadata": {},
   "outputs": [],
   "source": [
    "training_data.groupby(\"cs_sensor\")[[\"pm_cs\"]].describe()"
   ]
  },
  {
   "cell_type": "markdown",
   "id": "569a5b65",
   "metadata": {},
   "source": [
    "Box plots show the median, quartiles ($Q_1$, $Q_2$, $Q_3$, $Q_4$), interquartile range (IQR), minimum, maximum, and outlier points.\n",
    "\n",
    "Low outlier points are defined as points below: $Q_1 − (1.5* IQR)$ <br>\n",
    "High outlier points are defined as points above: $Q_3 + (1.5* IQR)$\n",
    "\n",
    "$50\\%$ of the lies between $Q_1$ and $Q_3$."
   ]
  },
  {
   "cell_type": "code",
   "execution_count": null,
   "id": "4baab5b4",
   "metadata": {},
   "outputs": [],
   "source": [
    "training_data[[\"cs_sensor\", \"pm_cs\"]].groupby(\"cs_sensor\")[[\"pm_cs\"]].boxplot(\n",
    "    subplots=False, figsize=(10, 7)\n",
    ")\n",
    "plt.show()"
   ]
  },
  {
   "cell_type": "markdown",
   "id": "5db116a0",
   "metadata": {},
   "source": [
    "###### Test"
   ]
  },
  {
   "cell_type": "code",
   "execution_count": null,
   "id": "153cd85e",
   "metadata": {},
   "outputs": [],
   "source": [
    "test_data.groupby(\"cs_sensor\")[[\"pm_cs\"]].describe()"
   ]
  },
  {
   "cell_type": "code",
   "execution_count": null,
   "id": "5f055632",
   "metadata": {},
   "outputs": [],
   "source": [
    "test_data[[\"cs_sensor\", \"pm_cs\"]].groupby(\"cs_sensor\")[[\"pm_cs\"]].boxplot(\n",
    "    subplots=False, figsize=(10, 7)\n",
    ")\n",
    "plt.show()"
   ]
  },
  {
   "cell_type": "markdown",
   "id": "a1fd6ef9",
   "metadata": {},
   "source": [
    "- Take note of the IQR for CAMP and NJH. The IQR in these locations are lower than in the other locations. CAMP and NJH are farther away from the express way (see map)."
   ]
  },
  {
   "cell_type": "markdown",
   "id": "540c328e",
   "metadata": {},
   "source": [
    "# 4.  Scatterplot comparing AirNow and CS PM2.5 "
   ]
  },
  {
   "cell_type": "markdown",
   "id": "9960ea32",
   "metadata": {},
   "source": [
    "A scatterplot shows the relationship between two quantitative variables measure in the same unit/space"
   ]
  },
  {
   "cell_type": "code",
   "execution_count": null,
   "id": "5d30c463",
   "metadata": {},
   "outputs": [],
   "source": [
    "plt.scatter(full_data[\"pm_airnow\"], full_data[\"pm_cs\"])\n",
    "plt.ylabel(\"PM2.5 - CS)\", size=15)\n",
    "plt.xlabel(\"PM2.5 - AirNow\", size=15)\n",
    "plt.title(\"Comparing AirNow  and CS sensor \\n readings\", size=15)\n",
    "plt.axis(\"square\")\n",
    "plt.show()"
   ]
  },
  {
   "cell_type": "code",
   "execution_count": null,
   "id": "4c02d8f4",
   "metadata": {},
   "outputs": [],
   "source": [
    "ax = sns.regplot(\n",
    "    x=full_data[\"pm_airnow\"],\n",
    "    y=full_data[\"pm_cs\"],\n",
    "    color=\"green\",\n",
    "    line_kws={\"color\": \"black\"},\n",
    ")\n",
    "\n",
    "ax.set(xlabel=\"PM2.5 - CS\", ylabel=\"PM2.5 - AirNow\")\n",
    "plt.axis(\"square\")\n",
    "plt.show()"
   ]
  },
  {
   "cell_type": "markdown",
   "id": "37f1667a",
   "metadata": {},
   "source": [
    "**What can we do with this plot?** <br>\n",
    "We can understand the relationship between our \"true\" PM2.5 values and the ones mesaured from our low-cost sensors\n"
   ]
  },
  {
   "cell_type": "markdown",
   "id": "5caca067",
   "metadata": {},
   "source": [
    "- The need for correction. A linear model is useful for this.\n",
    "- A linear model could find the line of best fit here. We might not even need data other confounding variables to have a good starting model."
   ]
  },
  {
   "cell_type": "markdown",
   "id": "bc4772ea",
   "metadata": {},
   "source": [
    "We can split our data by CS sensors to observe if there are any significant changes with respect to what has been observed over the whole data."
   ]
  },
  {
   "cell_type": "code",
   "execution_count": null,
   "id": "c35fd5bd",
   "metadata": {},
   "outputs": [],
   "source": [
    "njh_data = full_data[full_data[\"cs_sensor\"] == \"NJH\"]\n",
    "i25_glo1_data = full_data[full_data[\"cs_sensor\"] == \"i25_glo_1\"]\n",
    "i25_glo2_data = full_data[full_data[\"cs_sensor\"] == \"i25_glo_2\"]\n",
    "i25_glo3_data = full_data[full_data[\"cs_sensor\"] == \"i25_glo_3\"]\n",
    "lacasa_data = full_data[full_data[\"cs_sensor\"] == \"la_casa\"]\n",
    "camp_data = full_data[full_data[\"cs_sensor\"] == \"CAMP\"]\n",
    "i25_denver_data = full_data[full_data[\"cs_sensor\"] == \"i25_denver\"]"
   ]
  },
  {
   "cell_type": "code",
   "execution_count": null,
   "id": "30d0b569",
   "metadata": {},
   "outputs": [],
   "source": [
    "fig, [(ax1, ax2, ax3, ax4), (ax5, ax6, ax7, ax8)] = plt.subplots(\n",
    "    nrows=2, ncols=4, figsize=(20, 5), sharex=True, sharey=True\n",
    ")\n",
    "\n",
    "ax1.scatter(njh_data[\"pm_airnow\"], njh_data[\"pm_cs\"])\n",
    "ax1.set_title(\"NJH\")\n",
    "\n",
    "ax2.scatter(i25_glo1_data[\"pm_airnow\"], i25_glo1_data[\"pm_cs\"])\n",
    "ax2.set_title(\"i-25 Globeville 1\")\n",
    "ax3.scatter(i25_glo2_data[\"pm_airnow\"], i25_glo2_data[\"pm_cs\"])\n",
    "ax3.set_title(\"i-25 Globeville 2\")\n",
    "ax4.scatter(i25_glo3_data[\"pm_airnow\"], i25_glo3_data[\"pm_cs\"])\n",
    "ax4.set_title(\"i-25 Globeville 3\")\n",
    "ax5.scatter(lacasa_data[\"pm_airnow\"], lacasa_data[\"pm_cs\"])\n",
    "ax5.set_title(\"La Casa\")\n",
    "ax6.scatter(camp_data[\"pm_airnow\"], camp_data[\"pm_cs\"])\n",
    "ax6.set_title(\"CAMP\")\n",
    "\n",
    "ax7.scatter(i25_denver_data[\"pm_airnow\"], i25_denver_data[\"pm_cs\"])\n",
    "ax7.set_title(\"Denver\")\n",
    "\n",
    "ax8.axis(\"off\")\n",
    "\n",
    "ax1.set_ylabel(\"Monitor sensors\", size=15)\n",
    "fig.text(0.5, 0.04, \"Low cost (CS) sensors\", ha=\"center\", va=\"center\", size=15)\n",
    "\n",
    "plt.show()"
   ]
  },
  {
   "cell_type": "markdown",
   "id": "5b4dbfb5",
   "metadata": {},
   "source": [
    "What do we observe? Any differences across the different CS sensors\n",
    "\n",
    "- Some potential outlier measures at I-25 Globeville 1"
   ]
  },
  {
   "cell_type": "markdown",
   "id": "b16756ca",
   "metadata": {},
   "source": [
    "# 4.  Historgrams comparing AirNow and CS PM2.5 "
   ]
  },
  {
   "cell_type": "markdown",
   "id": "c2343fb3",
   "metadata": {},
   "source": [
    "What histograms can tell us about the ditribution of our data:\n",
    "\n",
    "- Is it unimodal, bimodal, or multimodal?\n",
    "- how widely is the distribution spread?\n",
    "- Do the distributions overlap for the different sensors?"
   ]
  },
  {
   "cell_type": "markdown",
   "id": "66c5d92a",
   "metadata": {},
   "source": [
    "###### Choosing bin size.\n",
    "\n",
    "One simple rule is [Sturge’s rule](https://www.researchgate.net/publication/230257056_Sturges'_rule)\n",
    "\n",
    "$K = 1 + 3.22 log(N)$\n",
    "\n",
    "where,\n",
    "\n",
    "K is the number of bins\n",
    "\n",
    "N is the number of observations"
   ]
  },
  {
   "cell_type": "code",
   "execution_count": null,
   "id": "815e4850",
   "metadata": {},
   "outputs": [],
   "source": [
    "def bin_size(n_observations):\n",
    "\n",
    "    return math.ceil(1 + (3.22 * math.log(n_observations)))"
   ]
  },
  {
   "cell_type": "code",
   "execution_count": null,
   "id": "1112d1f8",
   "metadata": {},
   "outputs": [],
   "source": [
    "plt.hist(\n",
    "    [full_data[\"pm_airnow\"], full_data[\"pm_cs\"]],\n",
    "    bins=bin_size(len(full_data)),\n",
    ")\n",
    "plt.xlabel(\"Value\", size=15)\n",
    "plt.ylabel(\"Frequency\", size=15)\n",
    "plt.legend()\n",
    "plt.show()"
   ]
  },
  {
   "cell_type": "code",
   "execution_count": null,
   "id": "b5a43ac4",
   "metadata": {},
   "outputs": [],
   "source": [
    "labels = [\"AirNow\", \"CS\"]\n",
    "fig, [(ax1, ax2, ax3, ax4), (ax5, ax6, ax7, ax8)] = plt.subplots(\n",
    "    nrows=2, ncols=4, figsize=(20, 9)\n",
    ")  # , sharex=True, sharey=True)\n",
    "\n",
    "ax1.hist(\n",
    "    [njh_data[\"pm_airnow\"], njh_data[\"pm_cs\"]],\n",
    "    bins=bin_size(len(njh_data)),\n",
    ")\n",
    "ax1.set_title(\"NJH\")\n",
    "\n",
    "\n",
    "ax2.hist(\n",
    "    [i25_glo1_data[\"pm_airnow\"], i25_glo1_data[\"pm_cs\"]],\n",
    "    bins=bin_size(len(i25_glo1_data)),\n",
    ")\n",
    "ax2.set_title(\"i-25 Globeville 1\")\n",
    "\n",
    "ax3.hist(\n",
    "    [i25_glo2_data[\"pm_airnow\"], i25_glo2_data[\"pm_cs\"]],\n",
    "    bins=bin_size(len(i25_glo2_data)),\n",
    ")\n",
    "ax3.set_title(\"i-25 Globeville 2\")\n",
    "\n",
    "ax4.hist(\n",
    "    [i25_glo3_data[\"pm_airnow\"], i25_glo3_data[\"pm_cs\"]],\n",
    "    bins=bin_size(len(i25_glo3_data)),\n",
    ")\n",
    "ax4.set_title(\"i-25 Globeville 3\")\n",
    "\n",
    "ax5.hist(\n",
    "    [lacasa_data[\"pm_airnow\"], lacasa_data[\"pm_cs\"]],\n",
    "    bins=bin_size(len(lacasa_data)),\n",
    ")\n",
    "ax5.set_title(\"La Casa\")\n",
    "\n",
    "\n",
    "ax6.hist(\n",
    "    [camp_data[\"pm_airnow\"], camp_data[\"pm_cs\"]],\n",
    "    bins=bin_size(len(lacasa_data)),\n",
    ")\n",
    "ax6.set_title(\"CAMP\")\n",
    "\n",
    "ax7.hist(\n",
    "    [i25_denver_data[\"pm_airnow\"], i25_denver_data[\"pm_cs\"]],\n",
    "    bins=bin_size(len(i25_denver_data)),\n",
    ")\n",
    "ax7.set_title(\"I-25 Denver\")\n",
    "\n",
    "ax8.axis(\"off\")\n",
    "\n",
    "ax1.set_ylabel(\"Probability\", size=15)\n",
    "fig.text(0.5, 0.04, \"Measured PM2.5 value\", ha=\"center\", va=\"center\", size=15)\n",
    "fig.legend(\n",
    "    labels,\n",
    "    loc=\"lower right\",\n",
    "    bbox_to_anchor=(0.5, -0.04),\n",
    "    ncol=len(labels),\n",
    "    bbox_transform=fig.transFigure,\n",
    ")\n",
    "plt.show()"
   ]
  },
  {
   "cell_type": "markdown",
   "id": "b11bd0f0",
   "metadata": {},
   "source": [
    "# What happens on weekends?"
   ]
  },
  {
   "cell_type": "code",
   "execution_count": null,
   "id": "5962f29f",
   "metadata": {},
   "outputs": [],
   "source": [
    "plt.plot(camp_data[\"pm_airnow\"], label=\"AirNow\")\n",
    "plt.plot(camp_data[\"pm_cs\"], label=\"CS\")\n",
    "plt.bar(\n",
    "    x=range(0, len(camp_data)),\n",
    "    height=[x * 30 for x in camp_data[\"weekend\"]],\n",
    "    alpha=0.2,\n",
    "    label=\"weekend\",\n",
    ")\n",
    "\n",
    "plt.title(\"CAMP data - CS, Airnow and Bar plot show weekend days\")\n",
    "plt.legend()\n",
    "plt.show()"
   ]
  },
  {
   "cell_type": "code",
   "execution_count": null,
   "id": "551e62d0",
   "metadata": {},
   "outputs": [],
   "source": [
    "weekend_median = full_data[full_data[\"weekend\"] == 1][\"pm_airnow\"].median()\n",
    "weekday_median = full_data[full_data[\"weekend\"] != 1][\"pm_airnow\"].median()"
   ]
  },
  {
   "cell_type": "code",
   "execution_count": null,
   "id": "9d0e61a4",
   "metadata": {},
   "outputs": [],
   "source": [
    "plt.bar(x=[\"week day\", \"weekend\"], height=[weekday_median, weekend_median])\n",
    "plt.show()"
   ]
  },
  {
   "cell_type": "markdown",
   "id": "c5023eb0",
   "metadata": {},
   "source": [
    "There is lower PM2.5 on weekends than on weekdays. This could be due to reduction in industrial activities, traffic on highways and other sources of pollution over the weekend"
   ]
  },
  {
   "cell_type": "code",
   "execution_count": null,
   "id": "f4e5e44f",
   "metadata": {},
   "outputs": [],
   "source": [
    "corr = full_data[[\"pm_airnow\", \"pm_cs\", \"temp\", \"humidity\"]].corr()\n",
    "corr.style.background_gradient(cmap=\"coolwarm\")"
   ]
  },
  {
   "cell_type": "markdown",
   "id": "2836f21e",
   "metadata": {},
   "source": [
    "`pm_cs` and `pm_airnow` show high linear correlation of 0.89. "
   ]
  },
  {
   "cell_type": "code",
   "execution_count": null,
   "id": "76f3f589",
   "metadata": {},
   "outputs": [],
   "source": [
    "pd.plotting.scatter_matrix(full_data[[\"pm_airnow\", \"pm_cs\", \"temp\", \"humidity\"]])\n",
    "plt.show()"
   ]
  },
  {
   "cell_type": "markdown",
   "id": "3eba4a7e",
   "metadata": {},
   "source": [
    "`pm_cs` and `pm_airnow` show high linear correlation. "
   ]
  }
 ],
 "metadata": {
  "kernelspec": {
   "display_name": "Python 3",
   "language": "python",
   "name": "python3"
  },
  "language_info": {
   "codemirror_mode": {
    "name": "ipython",
    "version": 3
   },
   "file_extension": ".py",
   "mimetype": "text/x-python",
   "name": "python",
   "nbconvert_exporter": "python",
   "pygments_lexer": "ipython3",
   "version": "3.8.5"
  }
 },
 "nbformat": 4,
 "nbformat_minor": 5
}

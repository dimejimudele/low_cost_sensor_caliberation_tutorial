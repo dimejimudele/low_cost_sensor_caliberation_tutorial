{
 "cells": [
  {
   "cell_type": "markdown",
   "id": "a20c259b",
   "metadata": {},
   "source": [
    "# Lab session taught by Oladimeji Mudele"
   ]
  },
  {
   "cell_type": "markdown",
   "id": "7429825b",
   "metadata": {},
   "source": [
    "Welcome to this lab session on Time series modeling for air pollution monitoring with a focus on the\n",
    "calibration of low-cost sensors.\n",
    "\n",
    "This lab session is based on the data and methods provided in the study by [Ellen M. Considine et al](https://www.sciencedirect.com/science/article/pii/S0269749120365222).\n",
    "\n",
    "Rather than focus on code efficiency, software engineering practices, or theory of machine learning models, this course focuses on the **thought processes** (as generalised as possible) that apply to tackling many data science problems. Don't worry if you don't understanding certain nuances around syntax or code implementations. These problems are always easier to tackle. My advice is that you focus on the \"WHY?\".\n",
    "\n",
    "The interesting part of this course module is that, rather than work with cleaned data and do our explorations and modeling from there, we will try to simulate the real-life scenario of merging data from multple sources (sensors) and time periods, and also engineer the features we need for our prediction task.\n",
    "\n",
    "In certain events in data science, you might be lucky to have your data stuctured and prepared for you. Most often, this is not the case.\n",
    "\n",
    "Welcome to the world of data science."
   ]
  },
  {
   "cell_type": "markdown",
   "id": "a579464c",
   "metadata": {},
   "source": [
    "In this notebook, we will prepare the training and test data. In ths process we will go through the following steps:\n",
    "\n",
    "- **Understading the problem**: This leads us to the question: \"**What data do I need?**\"\n",
    "- **Diving into the data**: This is simply looking at your data (each column), and asking yourself, what does it mean? Why do I need it? How would I use it for my task? What units are the data expressed in?\n",
    "- Aligning the different axis and features in the multi-source/multitemporal data\n",
    "- **Cleaning**: dealing with invalid and missing values. For example, in the case of our project, the low-cost Canary-S (CS) sensor readings register -1 as invalid values and the authors of our reference literature mentioned 1500 units of PM2.5 as the maximum threhold. We need to handle these cases. Also, we need to check for rows with missing values.\n",
    "- **Merging**: pull data from multiple sources into a single frame.\n",
    "- **Features crafting**: Based on our understanding of the problem we are trying to solve, it might be useful to take some of the information in th dsta and use them to craft features we believe will udeful for our model to learn what it needs to learn in other to produce the best results."
   ]
  },
  {
   "cell_type": "markdown",
   "id": "cb51f8b7",
   "metadata": {},
   "source": [
    "# WHAT IS OUR PROBLEM?"
   ]
  },
  {
   "cell_type": "markdown",
   "id": "c04ca2b0",
   "metadata": {},
   "source": [
    "We have PM2.5 readings from low cost sensors and we want to learn a model that maps them to \"true\" readings from reference FEM (AirNow) sensors . "
   ]
  },
  {
   "cell_type": "markdown",
   "id": "ec30b1af",
   "metadata": {},
   "source": [
    "# WHAT DATA DO WE NEED?"
   ]
  },
  {
   "cell_type": "markdown",
   "id": "c071c140",
   "metadata": {},
   "source": [
    "##### The obvious and basic ones:\n",
    "- PM2.5 readings from AirNow sensors\n",
    "- PM2.5 readings from CS sensors\n",
    "\n",
    "##### What other data or features might we need? (Our experiments will determine what is eventually useful\n",
    "- lenght of road with certain radius from sensing location.\n",
    "- Time variables\n",
    "- temperature  \n",
    "- humidity\n",
    "- day of the week (weekend or not)"
   ]
  },
  {
   "cell_type": "markdown",
   "id": "4cbbd971",
   "metadata": {},
   "source": [
    "# NOW LET US DIVE INTO CODE"
   ]
  },
  {
   "cell_type": "markdown",
   "id": "bd733bb6",
   "metadata": {},
   "source": [
    "First, I like to use `black`formatter. Makes my code more readable. Install it using `!pip install nb_black` in a cell below"
   ]
  },
  {
   "cell_type": "code",
   "execution_count": 1,
   "id": "ca43774e",
   "metadata": {},
   "outputs": [
    {
     "data": {
      "application/javascript": [
       "\n",
       "            setTimeout(function() {\n",
       "                var nbb_cell_id = 1;\n",
       "                var nbb_unformatted_code = \"%load_ext nb_black\";\n",
       "                var nbb_formatted_code = \"%load_ext nb_black\";\n",
       "                var nbb_cells = Jupyter.notebook.get_cells();\n",
       "                for (var i = 0; i < nbb_cells.length; ++i) {\n",
       "                    if (nbb_cells[i].input_prompt_number == nbb_cell_id) {\n",
       "                        if (nbb_cells[i].get_text() == nbb_unformatted_code) {\n",
       "                             nbb_cells[i].set_text(nbb_formatted_code);\n",
       "                        }\n",
       "                        break;\n",
       "                    }\n",
       "                }\n",
       "            }, 500);\n",
       "            "
      ],
      "text/plain": [
       "<IPython.core.display.Javascript object>"
      ]
     },
     "metadata": {},
     "output_type": "display_data"
    }
   ],
   "source": [
    "%load_ext nb_black"
   ]
  },
  {
   "cell_type": "markdown",
   "id": "9bc12005",
   "metadata": {},
   "source": [
    "We need some Python libraries to enable efficient implementations of computations. The libraries we need are `numpy`, `pandas`and the `math`module which is part of the python standard library. For now, please ensure to install both `numpy`and `pandas`."
   ]
  },
  {
   "cell_type": "markdown",
   "id": "892004fb",
   "metadata": {},
   "source": [
    "Now, let us import these libraries into our workspace."
   ]
  },
  {
   "cell_type": "code",
   "execution_count": 2,
   "id": "4731864b",
   "metadata": {},
   "outputs": [
    {
     "data": {
      "application/javascript": [
       "\n",
       "            setTimeout(function() {\n",
       "                var nbb_cell_id = 2;\n",
       "                var nbb_unformatted_code = \"import pandas as pd\\nimport numpy as np\\nimport math\\nimport matplotlib.pyplot as plt\";\n",
       "                var nbb_formatted_code = \"import pandas as pd\\nimport numpy as np\\nimport math\\nimport matplotlib.pyplot as plt\";\n",
       "                var nbb_cells = Jupyter.notebook.get_cells();\n",
       "                for (var i = 0; i < nbb_cells.length; ++i) {\n",
       "                    if (nbb_cells[i].input_prompt_number == nbb_cell_id) {\n",
       "                        if (nbb_cells[i].get_text() == nbb_unformatted_code) {\n",
       "                             nbb_cells[i].set_text(nbb_formatted_code);\n",
       "                        }\n",
       "                        break;\n",
       "                    }\n",
       "                }\n",
       "            }, 500);\n",
       "            "
      ],
      "text/plain": [
       "<IPython.core.display.Javascript object>"
      ]
     },
     "metadata": {},
     "output_type": "display_data"
    }
   ],
   "source": [
    "import pandas as pd\n",
    "import numpy as np\n",
    "import math\n",
    "import matplotlib.pyplot as plt"
   ]
  },
  {
   "cell_type": "markdown",
   "id": "8de5e1ef",
   "metadata": {},
   "source": [
    "Now, we are done with preparing ourselves for the data preparation phase. Here we go!"
   ]
  },
  {
   "cell_type": "markdown",
   "id": "5a98e65a",
   "metadata": {},
   "source": [
    "# TRAINING DATA"
   ]
  },
  {
   "cell_type": "markdown",
   "id": "6f6dd35e",
   "metadata": {},
   "source": [
    "### Load the data from disk and explain the details"
   ]
  },
  {
   "cell_type": "markdown",
   "id": "66177b0f",
   "metadata": {},
   "source": [
    "Let us specify the subfolder in our project folder where you have kept all the data. "
   ]
  },
  {
   "cell_type": "code",
   "execution_count": 3,
   "id": "1dd5b897",
   "metadata": {},
   "outputs": [
    {
     "data": {
      "application/javascript": [
       "\n",
       "            setTimeout(function() {\n",
       "                var nbb_cell_id = 3;\n",
       "                var nbb_unformatted_code = \"data_root = \\\"./data/\\\"  # change this to your own subfolder. Ideally, it should be the same as defined here.\";\n",
       "                var nbb_formatted_code = \"data_root = \\\"./data/\\\"  # change this to your own subfolder. Ideally, it should be the same as defined here.\";\n",
       "                var nbb_cells = Jupyter.notebook.get_cells();\n",
       "                for (var i = 0; i < nbb_cells.length; ++i) {\n",
       "                    if (nbb_cells[i].input_prompt_number == nbb_cell_id) {\n",
       "                        if (nbb_cells[i].get_text() == nbb_unformatted_code) {\n",
       "                             nbb_cells[i].set_text(nbb_formatted_code);\n",
       "                        }\n",
       "                        break;\n",
       "                    }\n",
       "                }\n",
       "            }, 500);\n",
       "            "
      ],
      "text/plain": [
       "<IPython.core.display.Javascript object>"
      ]
     },
     "metadata": {},
     "output_type": "display_data"
    }
   ],
   "source": [
    "data_root = \"./data/\"  # change this to your own subfolder. Ideally, it should be the same as defined here."
   ]
  },
  {
   "cell_type": "markdown",
   "id": "09d2cbcc",
   "metadata": {},
   "source": [
    "In the `data` subfolder, you will find a couple of csv files, the raw training data is in a file named `raw_collocated_data.csv`. Let us load that file."
   ]
  },
  {
   "cell_type": "code",
   "execution_count": 4,
   "id": "609bce48",
   "metadata": {},
   "outputs": [
    {
     "data": {
      "application/javascript": [
       "\n",
       "            setTimeout(function() {\n",
       "                var nbb_cell_id = 4;\n",
       "                var nbb_unformatted_code = \"training_data_path = (\\n    data_root + \\\"raw_collocated_data.csv\\\"\\n)  # first we define the file location using string concatenation\";\n",
       "                var nbb_formatted_code = \"training_data_path = (\\n    data_root + \\\"raw_collocated_data.csv\\\"\\n)  # first we define the file location using string concatenation\";\n",
       "                var nbb_cells = Jupyter.notebook.get_cells();\n",
       "                for (var i = 0; i < nbb_cells.length; ++i) {\n",
       "                    if (nbb_cells[i].input_prompt_number == nbb_cell_id) {\n",
       "                        if (nbb_cells[i].get_text() == nbb_unformatted_code) {\n",
       "                             nbb_cells[i].set_text(nbb_formatted_code);\n",
       "                        }\n",
       "                        break;\n",
       "                    }\n",
       "                }\n",
       "            }, 500);\n",
       "            "
      ],
      "text/plain": [
       "<IPython.core.display.Javascript object>"
      ]
     },
     "metadata": {},
     "output_type": "display_data"
    }
   ],
   "source": [
    "training_data_path = (\n",
    "    data_root + \"raw_collocated_data.csv\"\n",
    ")  # first we define the file location using string concatenation"
   ]
  },
  {
   "cell_type": "code",
   "execution_count": 5,
   "id": "fd9b57e9",
   "metadata": {},
   "outputs": [
    {
     "data": {
      "application/javascript": [
       "\n",
       "            setTimeout(function() {\n",
       "                var nbb_cell_id = 5;\n",
       "                var nbb_unformatted_code = \"raw_training_data = pd.read_csv(\\n    training_data_path\\n)  # Here we load the data as a dataframe\";\n",
       "                var nbb_formatted_code = \"raw_training_data = pd.read_csv(\\n    training_data_path\\n)  # Here we load the data as a dataframe\";\n",
       "                var nbb_cells = Jupyter.notebook.get_cells();\n",
       "                for (var i = 0; i < nbb_cells.length; ++i) {\n",
       "                    if (nbb_cells[i].input_prompt_number == nbb_cell_id) {\n",
       "                        if (nbb_cells[i].get_text() == nbb_unformatted_code) {\n",
       "                             nbb_cells[i].set_text(nbb_formatted_code);\n",
       "                        }\n",
       "                        break;\n",
       "                    }\n",
       "                }\n",
       "            }, 500);\n",
       "            "
      ],
      "text/plain": [
       "<IPython.core.display.Javascript object>"
      ]
     },
     "metadata": {},
     "output_type": "display_data"
    }
   ],
   "source": [
    "raw_training_data = pd.read_csv(\n",
    "    training_data_path\n",
    ")  # Here we load the data as a dataframe"
   ]
  },
  {
   "cell_type": "markdown",
   "id": "6256afaf",
   "metadata": {},
   "source": [
    "### So, what are the columns in our data and what do they mean?"
   ]
  },
  {
   "cell_type": "code",
   "execution_count": 6,
   "id": "8aa16a2a",
   "metadata": {},
   "outputs": [
    {
     "data": {
      "text/plain": [
       "Index(['DateTime', 'PM2_5(NJH CS Collo (CS1)/Canary-S)',\n",
       "       'tempf(NJH CS Collo (CS1)/Canary-S)',\n",
       "       'humidity(NJH CS Collo (CS1)/Canary-S)', 'PM2.5(NJH/AirNow)',\n",
       "       'PM2_5(I-25 Glo Collo (CS2)/Canary-S)',\n",
       "       'tempf(I-25 Glo Collo (CS2)/Canary-S)',\n",
       "       'humidity(I-25 Glo Collo (CS2)/Canary-S)',\n",
       "       'PM2_5(I-25 Glo Collo (CS3)/Canary-S)',\n",
       "       'tempf(I-25 Glo Collo (CS3)/Canary-S)',\n",
       "       'humidity(I-25 Glo Collo (CS3)/Canary-S)',\n",
       "       'PM2_5(I-25 Glo Collo (CS4)/Canary-S)',\n",
       "       'tempf(I-25 Glo Collo (CS4)/Canary-S)',\n",
       "       'humidity(I-25 Glo Collo (CS4)/Canary-S)',\n",
       "       'PM2.5(I-25 Globeville/AirNow)', 'PM2_5(La Casa Collo (CS5)/Canary-S)',\n",
       "       'tempf(La Casa Collo (CS5)/Canary-S)',\n",
       "       'humidity(La Casa Collo (CS5)/Canary-S)', 'PM2.5(La Casa/AirNow)',\n",
       "       'PM2_5(Swansea Elementary Collo (CS7)/Canary-S)',\n",
       "       'tempf(Swansea Elementary Collo (CS7)/Canary-S)',\n",
       "       'humidity(Swansea Elementary Collo (CS7)/Canary-S)',\n",
       "       'PM2.5(I-25 Denver/AirNow)'],\n",
       "      dtype='object')"
      ]
     },
     "execution_count": 6,
     "metadata": {},
     "output_type": "execute_result"
    },
    {
     "data": {
      "application/javascript": [
       "\n",
       "            setTimeout(function() {\n",
       "                var nbb_cell_id = 6;\n",
       "                var nbb_unformatted_code = \"raw_training_data.columns\";\n",
       "                var nbb_formatted_code = \"raw_training_data.columns\";\n",
       "                var nbb_cells = Jupyter.notebook.get_cells();\n",
       "                for (var i = 0; i < nbb_cells.length; ++i) {\n",
       "                    if (nbb_cells[i].input_prompt_number == nbb_cell_id) {\n",
       "                        if (nbb_cells[i].get_text() == nbb_unformatted_code) {\n",
       "                             nbb_cells[i].set_text(nbb_formatted_code);\n",
       "                        }\n",
       "                        break;\n",
       "                    }\n",
       "                }\n",
       "            }, 500);\n",
       "            "
      ],
      "text/plain": [
       "<IPython.core.display.Javascript object>"
      ]
     },
     "metadata": {},
     "output_type": "display_data"
    }
   ],
   "source": [
    "raw_training_data.columns"
   ]
  },
  {
   "cell_type": "markdown",
   "id": "e78cba21",
   "metadata": {},
   "source": [
    "It is important to ensure that you understandevery variable in the columns of your dataframe. In essense: \n",
    "\n",
    "Why do we need each of these variables (if at all)?\n",
    "\n",
    "In what way do we have to organise the data to make them most useful to us?"
   ]
  },
  {
   "cell_type": "markdown",
   "id": "6009b144",
   "metadata": {},
   "source": [
    "### Understanding the data content in our dataframe\n",
    "\n",
    "In summary, we need to look at each column and ask ourselves what information it contains, why and how we will need the information"
   ]
  },
  {
   "cell_type": "markdown",
   "id": "597113a4",
   "metadata": {},
   "source": [
    "CS#: Canary sensor number # <br>\n",
    "AirNow: FEM reference data source\n",
    "\n",
    "\n",
    "`DateTime`: Date and time that data was registered by sensor\n",
    "<hr style=\"border:2px solid gray\">\n",
    "\n",
    "`PM2_5(NJH CS Collo (CS1)/Canary-S)` : PM2.5 readings from CS1 located at NJH <br>\n",
    "`tempf(NJH CS Collo (CS1)/Canary-S)` : Temperature (Farenheit) readings from CS2 located at NJH <br>\n",
    "`humidity(NJH CS Collo (CS1)/Canary-S)` : Humidity readings from CS1 located at NJH <br>\n",
    "`PM2.5 (NJH/AirNow)`: PM2.5 readings from the reference FEM sensor located at NJH\n",
    "<hr style=\"border:2px solid gray\">\n",
    "\n",
    "`PM2_5(I-25 Glo Collo (CS2)/Canary-S)` : PM2.5 readings from CS2 sensor located at I-25 Globeville <br>\n",
    "`tempf(I-25 Glo Collo (CS2)/Canary-S)` : Temperature (Farenheit) readings from CS2 located at I-25 Globeville <br>\n",
    "`humidity(I-25 Glo Collo (CS2)/Canary-S)` : Humidity readings from CS2 located at I-25 Globeville <br>\n",
    "<hr style=\"border:2px solid gray\">\n",
    "\n",
    "`PM2_5(I-25 Glo Collo (CS3)/Canary-S)` : PM2.5 readings from CS3 sensor located at I-25 Globeville <br>\n",
    "`tempf(I-25 Glo Collo (CS3)/Canary-S)` : Temperature (Farenheit) readings from CS3 located at I-25 Globeville <br>\n",
    "`humidity(I-25 Glo Collo (CS3)/Canary-S)` : Humidity readings from CS3 located at I-25 Globeville <br>\n",
    "<hr style=\"border:2px solid gray\">\n",
    "\n",
    "`PM2_5(I-25 Glo Collo (CS4)/Canary-S)` : PM2.5 readings from CS4 sensor located at I-25 Globeville <br>\n",
    "`tempf(I-25 Glo Collo (CS4)/Canary-S)` : Temperature (Farenheit) readings from CS4 located at I-25 Globeville <br>\n",
    "`humidity(I-25 Glo Collo (CS4)/Canary-S)` : Humidity readings from CS4 located at I-25 Globeville <br>\n",
    "`PM2.5(I-25 Globeville/AirNow)`: PM2.5 readings from the reference FEM sensor located at I-25 Globeville\n",
    "<hr style=\"border:2px solid gray\">\n",
    "\n",
    "`PM2_5(La Casa Collo (CS5)/Canary-S)` : PM2.5 readings from CS5 sensor located at La Casa <br>\n",
    "`tempf(La Casa Collo (CS5)/Canary-S)` : Temperature (Farenheit) readings from CS5 located at La Casa <br>\n",
    "`humidity(La Casa Collo (CS5)/Canary-S)` : Humidity readings from CS5 located at La Casa <br>\n",
    "`'PM2.5(La Casa/AirNow)`: PM2.5 readings from the reference FEM sensor located at La Casa\n",
    "<hr style=\"border:2px solid gray\">\n",
    "\n",
    "`PM2_5(Swansea Elementary Collo (CS7)/Canary-S)` : PM2.5 readings from CS5 sensor located at Swansea Elementary<br>\n",
    "`tempf(Swansea Elementary Collo (CS7)/Canary-S)` : Temperature (Farenheit) readings from CS5 located at Swansea Elementary <br>\n",
    "`humidity(Swansea Elementary Collo (CS7)/Canary-S)` : Humidity readings from CS5 located at Swansea Elementary<br>\n",
    "`PM2.5(I-25 Denver/AirNow)`: PM2.5 readings from the reference FEM sensor located at I-25 Denver\n",
    "<hr style=\"border:2px solid gray\">"
   ]
  },
  {
   "cell_type": "markdown",
   "id": "26e8a102",
   "metadata": {},
   "source": [
    "### Units of our observations"
   ]
  },
  {
   "cell_type": "markdown",
   "id": "eebc12be",
   "metadata": {},
   "source": [
    "Temperature: Fahrenheit <br>\n",
    "Humidity: grams of water vapor per kilogram of air <br>\n",
    "PM2.5:  $µg/m^3$ <br>"
   ]
  },
  {
   "cell_type": "markdown",
   "id": "0225b519",
   "metadata": {},
   "source": [
    "### Checking for data types\n",
    "\n",
    "Similar vairables should be of the same type. E.g PM2.5 measures by all sensors, ideally, should come in the same datatypes. If not, we will have to cast them to a common datatype"
   ]
  },
  {
   "cell_type": "code",
   "execution_count": 7,
   "id": "c9107969",
   "metadata": {
    "scrolled": false
   },
   "outputs": [
    {
     "data": {
      "text/plain": [
       "DateTime                                              object\n",
       "PM2_5(NJH CS Collo (CS1)/Canary-S)                   float64\n",
       "tempf(NJH CS Collo (CS1)/Canary-S)                   float64\n",
       "humidity(NJH CS Collo (CS1)/Canary-S)                float64\n",
       "PM2.5(NJH/AirNow)                                    float64\n",
       "PM2_5(I-25 Glo Collo (CS2)/Canary-S)                 float64\n",
       "tempf(I-25 Glo Collo (CS2)/Canary-S)                 float64\n",
       "humidity(I-25 Glo Collo (CS2)/Canary-S)              float64\n",
       "PM2_5(I-25 Glo Collo (CS3)/Canary-S)                 float64\n",
       "tempf(I-25 Glo Collo (CS3)/Canary-S)                 float64\n",
       "humidity(I-25 Glo Collo (CS3)/Canary-S)              float64\n",
       "PM2_5(I-25 Glo Collo (CS4)/Canary-S)                 float64\n",
       "tempf(I-25 Glo Collo (CS4)/Canary-S)                 float64\n",
       "humidity(I-25 Glo Collo (CS4)/Canary-S)              float64\n",
       "PM2.5(I-25 Globeville/AirNow)                        float64\n",
       "PM2_5(La Casa Collo (CS5)/Canary-S)                  float64\n",
       "tempf(La Casa Collo (CS5)/Canary-S)                  float64\n",
       "humidity(La Casa Collo (CS5)/Canary-S)               float64\n",
       "PM2.5(La Casa/AirNow)                                float64\n",
       "PM2_5(Swansea Elementary Collo (CS7)/Canary-S)       float64\n",
       "tempf(Swansea Elementary Collo (CS7)/Canary-S)       float64\n",
       "humidity(Swansea Elementary Collo (CS7)/Canary-S)    float64\n",
       "PM2.5(I-25 Denver/AirNow)                            float64\n",
       "dtype: object"
      ]
     },
     "execution_count": 7,
     "metadata": {},
     "output_type": "execute_result"
    },
    {
     "data": {
      "application/javascript": [
       "\n",
       "            setTimeout(function() {\n",
       "                var nbb_cell_id = 7;\n",
       "                var nbb_unformatted_code = \"raw_training_data.dtypes\";\n",
       "                var nbb_formatted_code = \"raw_training_data.dtypes\";\n",
       "                var nbb_cells = Jupyter.notebook.get_cells();\n",
       "                for (var i = 0; i < nbb_cells.length; ++i) {\n",
       "                    if (nbb_cells[i].input_prompt_number == nbb_cell_id) {\n",
       "                        if (nbb_cells[i].get_text() == nbb_unformatted_code) {\n",
       "                             nbb_cells[i].set_text(nbb_formatted_code);\n",
       "                        }\n",
       "                        break;\n",
       "                    }\n",
       "                }\n",
       "            }, 500);\n",
       "            "
      ],
      "text/plain": [
       "<IPython.core.display.Javascript object>"
      ]
     },
     "metadata": {},
     "output_type": "display_data"
    }
   ],
   "source": [
    "raw_training_data.dtypes"
   ]
  },
  {
   "cell_type": "markdown",
   "id": "57544342",
   "metadata": {},
   "source": [
    "Since we have a Date/Time variable/column in our dataframe, it is important to ensure we let pandas know (explicitly) that this particular column column should be treated as a datetime column type.\n",
    "\n",
    "Let us cast the datetime column in our dataframe into a datetime type."
   ]
  },
  {
   "cell_type": "code",
   "execution_count": 8,
   "id": "260a08fe",
   "metadata": {},
   "outputs": [
    {
     "data": {
      "application/javascript": [
       "\n",
       "            setTimeout(function() {\n",
       "                var nbb_cell_id = 8;\n",
       "                var nbb_unformatted_code = \"raw_training_data[\\\"DateTime\\\"] = pd.to_datetime(raw_training_data[\\\"DateTime\\\"])\";\n",
       "                var nbb_formatted_code = \"raw_training_data[\\\"DateTime\\\"] = pd.to_datetime(raw_training_data[\\\"DateTime\\\"])\";\n",
       "                var nbb_cells = Jupyter.notebook.get_cells();\n",
       "                for (var i = 0; i < nbb_cells.length; ++i) {\n",
       "                    if (nbb_cells[i].input_prompt_number == nbb_cell_id) {\n",
       "                        if (nbb_cells[i].get_text() == nbb_unformatted_code) {\n",
       "                             nbb_cells[i].set_text(nbb_formatted_code);\n",
       "                        }\n",
       "                        break;\n",
       "                    }\n",
       "                }\n",
       "            }, 500);\n",
       "            "
      ],
      "text/plain": [
       "<IPython.core.display.Javascript object>"
      ]
     },
     "metadata": {},
     "output_type": "display_data"
    }
   ],
   "source": [
    "raw_training_data[\"DateTime\"] = pd.to_datetime(raw_training_data[\"DateTime\"])"
   ]
  },
  {
   "cell_type": "markdown",
   "id": "52aa6098",
   "metadata": {},
   "source": [
    "As shown below, our `DateTime`column is now of the `datetime64`type."
   ]
  },
  {
   "cell_type": "code",
   "execution_count": 9,
   "id": "8f502aa1",
   "metadata": {},
   "outputs": [
    {
     "data": {
      "text/plain": [
       "DateTime                                             datetime64[ns]\n",
       "PM2_5(NJH CS Collo (CS1)/Canary-S)                          float64\n",
       "tempf(NJH CS Collo (CS1)/Canary-S)                          float64\n",
       "humidity(NJH CS Collo (CS1)/Canary-S)                       float64\n",
       "PM2.5(NJH/AirNow)                                           float64\n",
       "PM2_5(I-25 Glo Collo (CS2)/Canary-S)                        float64\n",
       "tempf(I-25 Glo Collo (CS2)/Canary-S)                        float64\n",
       "humidity(I-25 Glo Collo (CS2)/Canary-S)                     float64\n",
       "PM2_5(I-25 Glo Collo (CS3)/Canary-S)                        float64\n",
       "tempf(I-25 Glo Collo (CS3)/Canary-S)                        float64\n",
       "humidity(I-25 Glo Collo (CS3)/Canary-S)                     float64\n",
       "PM2_5(I-25 Glo Collo (CS4)/Canary-S)                        float64\n",
       "tempf(I-25 Glo Collo (CS4)/Canary-S)                        float64\n",
       "humidity(I-25 Glo Collo (CS4)/Canary-S)                     float64\n",
       "PM2.5(I-25 Globeville/AirNow)                               float64\n",
       "PM2_5(La Casa Collo (CS5)/Canary-S)                         float64\n",
       "tempf(La Casa Collo (CS5)/Canary-S)                         float64\n",
       "humidity(La Casa Collo (CS5)/Canary-S)                      float64\n",
       "PM2.5(La Casa/AirNow)                                       float64\n",
       "PM2_5(Swansea Elementary Collo (CS7)/Canary-S)              float64\n",
       "tempf(Swansea Elementary Collo (CS7)/Canary-S)              float64\n",
       "humidity(Swansea Elementary Collo (CS7)/Canary-S)           float64\n",
       "PM2.5(I-25 Denver/AirNow)                                   float64\n",
       "dtype: object"
      ]
     },
     "execution_count": 9,
     "metadata": {},
     "output_type": "execute_result"
    },
    {
     "data": {
      "application/javascript": [
       "\n",
       "            setTimeout(function() {\n",
       "                var nbb_cell_id = 9;\n",
       "                var nbb_unformatted_code = \"raw_training_data.dtypes\";\n",
       "                var nbb_formatted_code = \"raw_training_data.dtypes\";\n",
       "                var nbb_cells = Jupyter.notebook.get_cells();\n",
       "                for (var i = 0; i < nbb_cells.length; ++i) {\n",
       "                    if (nbb_cells[i].input_prompt_number == nbb_cell_id) {\n",
       "                        if (nbb_cells[i].get_text() == nbb_unformatted_code) {\n",
       "                             nbb_cells[i].set_text(nbb_formatted_code);\n",
       "                        }\n",
       "                        break;\n",
       "                    }\n",
       "                }\n",
       "            }, 500);\n",
       "            "
      ],
      "text/plain": [
       "<IPython.core.display.Javascript object>"
      ]
     },
     "metadata": {},
     "output_type": "display_data"
    }
   ],
   "source": [
    "raw_training_data.dtypes"
   ]
  },
  {
   "cell_type": "markdown",
   "id": "259f7263",
   "metadata": {},
   "source": [
    "### Is this how our data should be organised/arranged?\n"
   ]
  },
  {
   "cell_type": "markdown",
   "id": "197dc5e6",
   "metadata": {},
   "source": [
    "The cell below helps us to acheive this need rearrangement of our data. In the cell, we create a vriable called `full_training_data` where we store our rearranged training data."
   ]
  },
  {
   "cell_type": "code",
   "execution_count": 10,
   "id": "6dc853c4",
   "metadata": {},
   "outputs": [
    {
     "data": {
      "application/javascript": [
       "\n",
       "            setTimeout(function() {\n",
       "                var nbb_cell_id = 10;\n",
       "                var nbb_unformatted_code = \"i15_reference_reading = \\\"PM2.5(I-25 Globeville/AirNow)\\\"\\n\\nfull_training_data = pd.DataFrame(\\n    np.vstack(\\n        [\\n            raw_training_data.iloc[:, 1:5],\\n            pd.concat(\\n                [\\n                    raw_training_data.iloc[:, 5:8],\\n                    raw_training_data[i15_reference_reading],\\n                ],\\n                axis=1,\\n            ),\\n            pd.concat(\\n                [\\n                    raw_training_data.iloc[:, 8:11],\\n                    raw_training_data[i15_reference_reading],\\n                ],\\n                axis=1,\\n            ),\\n            raw_training_data.iloc[:, 11:15],\\n            raw_training_data.iloc[:, 15:19],\\n        ]\\n    ),\\n    columns=[\\\"pm_cs\\\", \\\"temp\\\", \\\"humidity\\\", \\\"pm_airnow\\\"],\\n)\";\n",
       "                var nbb_formatted_code = \"i15_reference_reading = \\\"PM2.5(I-25 Globeville/AirNow)\\\"\\n\\nfull_training_data = pd.DataFrame(\\n    np.vstack(\\n        [\\n            raw_training_data.iloc[:, 1:5],\\n            pd.concat(\\n                [\\n                    raw_training_data.iloc[:, 5:8],\\n                    raw_training_data[i15_reference_reading],\\n                ],\\n                axis=1,\\n            ),\\n            pd.concat(\\n                [\\n                    raw_training_data.iloc[:, 8:11],\\n                    raw_training_data[i15_reference_reading],\\n                ],\\n                axis=1,\\n            ),\\n            raw_training_data.iloc[:, 11:15],\\n            raw_training_data.iloc[:, 15:19],\\n        ]\\n    ),\\n    columns=[\\\"pm_cs\\\", \\\"temp\\\", \\\"humidity\\\", \\\"pm_airnow\\\"],\\n)\";\n",
       "                var nbb_cells = Jupyter.notebook.get_cells();\n",
       "                for (var i = 0; i < nbb_cells.length; ++i) {\n",
       "                    if (nbb_cells[i].input_prompt_number == nbb_cell_id) {\n",
       "                        if (nbb_cells[i].get_text() == nbb_unformatted_code) {\n",
       "                             nbb_cells[i].set_text(nbb_formatted_code);\n",
       "                        }\n",
       "                        break;\n",
       "                    }\n",
       "                }\n",
       "            }, 500);\n",
       "            "
      ],
      "text/plain": [
       "<IPython.core.display.Javascript object>"
      ]
     },
     "metadata": {},
     "output_type": "display_data"
    }
   ],
   "source": [
    "i15_reference_reading = \"PM2.5(I-25 Globeville/AirNow)\"\n",
    "\n",
    "full_training_data = pd.DataFrame(\n",
    "    np.vstack(\n",
    "        [\n",
    "            raw_training_data.iloc[:, 1:5],\n",
    "            pd.concat(\n",
    "                [\n",
    "                    raw_training_data.iloc[:, 5:8],\n",
    "                    raw_training_data[i15_reference_reading],\n",
    "                ],\n",
    "                axis=1,\n",
    "            ),\n",
    "            pd.concat(\n",
    "                [\n",
    "                    raw_training_data.iloc[:, 8:11],\n",
    "                    raw_training_data[i15_reference_reading],\n",
    "                ],\n",
    "                axis=1,\n",
    "            ),\n",
    "            raw_training_data.iloc[:, 11:15],\n",
    "            raw_training_data.iloc[:, 15:19],\n",
    "        ]\n",
    "    ),\n",
    "    columns=[\"pm_cs\", \"temp\", \"humidity\", \"pm_airnow\"],\n",
    ")"
   ]
  },
  {
   "cell_type": "code",
   "execution_count": 11,
   "id": "f9bb5ef3",
   "metadata": {},
   "outputs": [
    {
     "data": {
      "application/javascript": [
       "\n",
       "            setTimeout(function() {\n",
       "                var nbb_cell_id = 11;\n",
       "                var nbb_unformatted_code = \"full_training_data[\\\"date_time\\\"] = pd.to_datetime(\\n    pd.concat([raw_training_data.iloc[:, 0]] * 5, ignore_index=True)\\n)\";\n",
       "                var nbb_formatted_code = \"full_training_data[\\\"date_time\\\"] = pd.to_datetime(\\n    pd.concat([raw_training_data.iloc[:, 0]] * 5, ignore_index=True)\\n)\";\n",
       "                var nbb_cells = Jupyter.notebook.get_cells();\n",
       "                for (var i = 0; i < nbb_cells.length; ++i) {\n",
       "                    if (nbb_cells[i].input_prompt_number == nbb_cell_id) {\n",
       "                        if (nbb_cells[i].get_text() == nbb_unformatted_code) {\n",
       "                             nbb_cells[i].set_text(nbb_formatted_code);\n",
       "                        }\n",
       "                        break;\n",
       "                    }\n",
       "                }\n",
       "            }, 500);\n",
       "            "
      ],
      "text/plain": [
       "<IPython.core.display.Javascript object>"
      ]
     },
     "metadata": {},
     "output_type": "display_data"
    }
   ],
   "source": [
    "full_training_data[\"date_time\"] = pd.to_datetime(\n",
    "    pd.concat([raw_training_data.iloc[:, 0]] * 5, ignore_index=True)\n",
    ")"
   ]
  },
  {
   "cell_type": "markdown",
   "id": "7b014567",
   "metadata": {},
   "source": [
    "Let is check the columns in our data"
   ]
  },
  {
   "cell_type": "code",
   "execution_count": 12,
   "id": "1b2b9a01",
   "metadata": {},
   "outputs": [
    {
     "data": {
      "text/plain": [
       "Index(['pm_cs', 'temp', 'humidity', 'pm_airnow', 'date_time'], dtype='object')"
      ]
     },
     "execution_count": 12,
     "metadata": {},
     "output_type": "execute_result"
    },
    {
     "data": {
      "application/javascript": [
       "\n",
       "            setTimeout(function() {\n",
       "                var nbb_cell_id = 12;\n",
       "                var nbb_unformatted_code = \"full_training_data.columns\";\n",
       "                var nbb_formatted_code = \"full_training_data.columns\";\n",
       "                var nbb_cells = Jupyter.notebook.get_cells();\n",
       "                for (var i = 0; i < nbb_cells.length; ++i) {\n",
       "                    if (nbb_cells[i].input_prompt_number == nbb_cell_id) {\n",
       "                        if (nbb_cells[i].get_text() == nbb_unformatted_code) {\n",
       "                             nbb_cells[i].set_text(nbb_formatted_code);\n",
       "                        }\n",
       "                        break;\n",
       "                    }\n",
       "                }\n",
       "            }, 500);\n",
       "            "
      ],
      "text/plain": [
       "<IPython.core.display.Javascript object>"
      ]
     },
     "metadata": {},
     "output_type": "display_data"
    }
   ],
   "source": [
    "full_training_data.columns"
   ]
  },
  {
   "cell_type": "markdown",
   "id": "2cca2d25",
   "metadata": {},
   "source": [
    "We now have a dataframe with columns defined as `[\"pm_cs\", \"temp\", \"humidity\", \"pm_airnow\", \"data_time\"]`.\n",
    "\n",
    "`pm_cs`: PM2.5 measured from tne CS sensors (low cost) <br>\n",
    "`pm_airnow`: PM2.5 measured from the AirNow sensors <br>\n",
    "`date_time`: Date and time information <br>\n",
    "`temp`: temperature readings <br>\n",
    "`humidity`: humidity readings from the CS sensors <br>"
   ]
  },
  {
   "cell_type": "markdown",
   "id": "ce1eda84",
   "metadata": {},
   "source": [
    "Now, let us check the number of rows in our data."
   ]
  },
  {
   "cell_type": "code",
   "execution_count": 13,
   "id": "f4b4fd8e",
   "metadata": {},
   "outputs": [
    {
     "name": "stdout",
     "output_type": "stream",
     "text": [
      "There are 34085 rows in our data\n"
     ]
    },
    {
     "data": {
      "application/javascript": [
       "\n",
       "            setTimeout(function() {\n",
       "                var nbb_cell_id = 13;\n",
       "                var nbb_unformatted_code = \"print(f\\\"There are {len(full_training_data)} rows in our data\\\")\";\n",
       "                var nbb_formatted_code = \"print(f\\\"There are {len(full_training_data)} rows in our data\\\")\";\n",
       "                var nbb_cells = Jupyter.notebook.get_cells();\n",
       "                for (var i = 0; i < nbb_cells.length; ++i) {\n",
       "                    if (nbb_cells[i].input_prompt_number == nbb_cell_id) {\n",
       "                        if (nbb_cells[i].get_text() == nbb_unformatted_code) {\n",
       "                             nbb_cells[i].set_text(nbb_formatted_code);\n",
       "                        }\n",
       "                        break;\n",
       "                    }\n",
       "                }\n",
       "            }, 500);\n",
       "            "
      ],
      "text/plain": [
       "<IPython.core.display.Javascript object>"
      ]
     },
     "metadata": {},
     "output_type": "display_data"
    }
   ],
   "source": [
    "print(f\"There are {len(full_training_data)} rows in our data\")"
   ]
  },
  {
   "cell_type": "code",
   "execution_count": 14,
   "id": "cbb667f4",
   "metadata": {},
   "outputs": [
    {
     "data": {
      "text/html": [
       "<div>\n",
       "<style scoped>\n",
       "    .dataframe tbody tr th:only-of-type {\n",
       "        vertical-align: middle;\n",
       "    }\n",
       "\n",
       "    .dataframe tbody tr th {\n",
       "        vertical-align: top;\n",
       "    }\n",
       "\n",
       "    .dataframe thead th {\n",
       "        text-align: right;\n",
       "    }\n",
       "</style>\n",
       "<table border=\"1\" class=\"dataframe\">\n",
       "  <thead>\n",
       "    <tr style=\"text-align: right;\">\n",
       "      <th></th>\n",
       "      <th>pm_cs</th>\n",
       "      <th>temp</th>\n",
       "      <th>humidity</th>\n",
       "      <th>pm_airnow</th>\n",
       "      <th>date_time</th>\n",
       "    </tr>\n",
       "  </thead>\n",
       "  <tbody>\n",
       "    <tr>\n",
       "      <th>0</th>\n",
       "      <td>33.6167</td>\n",
       "      <td>60.038</td>\n",
       "      <td>65.0850</td>\n",
       "      <td>22.10</td>\n",
       "      <td>2018-08-20 01:00:00</td>\n",
       "    </tr>\n",
       "    <tr>\n",
       "      <th>1</th>\n",
       "      <td>38.2333</td>\n",
       "      <td>58.517</td>\n",
       "      <td>67.1150</td>\n",
       "      <td>27.10</td>\n",
       "      <td>2018-08-20 02:00:00</td>\n",
       "    </tr>\n",
       "    <tr>\n",
       "      <th>2</th>\n",
       "      <td>43.3500</td>\n",
       "      <td>57.383</td>\n",
       "      <td>71.1717</td>\n",
       "      <td>28.85</td>\n",
       "      <td>2018-08-20 03:00:00</td>\n",
       "    </tr>\n",
       "    <tr>\n",
       "      <th>3</th>\n",
       "      <td>48.7000</td>\n",
       "      <td>56.546</td>\n",
       "      <td>74.7317</td>\n",
       "      <td>34.60</td>\n",
       "      <td>2018-08-20 04:00:00</td>\n",
       "    </tr>\n",
       "    <tr>\n",
       "      <th>4</th>\n",
       "      <td>39.2500</td>\n",
       "      <td>55.682</td>\n",
       "      <td>79.2033</td>\n",
       "      <td>31.50</td>\n",
       "      <td>2018-08-20 05:00:00</td>\n",
       "    </tr>\n",
       "  </tbody>\n",
       "</table>\n",
       "</div>"
      ],
      "text/plain": [
       "     pm_cs    temp  humidity  pm_airnow           date_time\n",
       "0  33.6167  60.038   65.0850      22.10 2018-08-20 01:00:00\n",
       "1  38.2333  58.517   67.1150      27.10 2018-08-20 02:00:00\n",
       "2  43.3500  57.383   71.1717      28.85 2018-08-20 03:00:00\n",
       "3  48.7000  56.546   74.7317      34.60 2018-08-20 04:00:00\n",
       "4  39.2500  55.682   79.2033      31.50 2018-08-20 05:00:00"
      ]
     },
     "execution_count": 14,
     "metadata": {},
     "output_type": "execute_result"
    },
    {
     "data": {
      "application/javascript": [
       "\n",
       "            setTimeout(function() {\n",
       "                var nbb_cell_id = 14;\n",
       "                var nbb_unformatted_code = \"full_training_data.head()\";\n",
       "                var nbb_formatted_code = \"full_training_data.head()\";\n",
       "                var nbb_cells = Jupyter.notebook.get_cells();\n",
       "                for (var i = 0; i < nbb_cells.length; ++i) {\n",
       "                    if (nbb_cells[i].input_prompt_number == nbb_cell_id) {\n",
       "                        if (nbb_cells[i].get_text() == nbb_unformatted_code) {\n",
       "                             nbb_cells[i].set_text(nbb_formatted_code);\n",
       "                        }\n",
       "                        break;\n",
       "                    }\n",
       "                }\n",
       "            }, 500);\n",
       "            "
      ],
      "text/plain": [
       "<IPython.core.display.Javascript object>"
      ]
     },
     "metadata": {},
     "output_type": "display_data"
    }
   ],
   "source": [
    "full_training_data.head()"
   ]
  },
  {
   "cell_type": "markdown",
   "id": "168851c2",
   "metadata": {},
   "source": [
    "Time to start adding new features that might be useful"
   ]
  },
  {
   "cell_type": "markdown",
   "id": "9599a3e5",
   "metadata": {},
   "source": [
    "### Adding sensor location label to our data (useful as tag)\n",
    "\n",
    "This helps to keep track of the different sensing locations durihg our data exploration and modeling. \n",
    "\n",
    "Because we have the same reference monitor for the three collocated sensors at i-25 Globeville, we will have to keep track of the `airnow_sensor` and `cs_sensor` differently. Below we create these 2 columns."
   ]
  },
  {
   "cell_type": "code",
   "execution_count": 15,
   "id": "bc73431a",
   "metadata": {},
   "outputs": [
    {
     "data": {
      "application/javascript": [
       "\n",
       "            setTimeout(function() {\n",
       "                var nbb_cell_id = 15;\n",
       "                var nbb_unformatted_code = \"cs_sensor = [\\\"NJH\\\", \\\"i25_glo_1\\\", \\\"i25_glo_2\\\", \\\"i25_glo_3\\\", \\\"la_casa\\\"]\\ncs_sensor_col = np.repeat(\\n    cs_sensor, len(raw_training_data)\\n)  # note that we repeat in accordance to the raw data size.\\n\\nfull_training_data[\\\"cs_sensor\\\"] = cs_sensor_col\";\n",
       "                var nbb_formatted_code = \"cs_sensor = [\\\"NJH\\\", \\\"i25_glo_1\\\", \\\"i25_glo_2\\\", \\\"i25_glo_3\\\", \\\"la_casa\\\"]\\ncs_sensor_col = np.repeat(\\n    cs_sensor, len(raw_training_data)\\n)  # note that we repeat in accordance to the raw data size.\\n\\nfull_training_data[\\\"cs_sensor\\\"] = cs_sensor_col\";\n",
       "                var nbb_cells = Jupyter.notebook.get_cells();\n",
       "                for (var i = 0; i < nbb_cells.length; ++i) {\n",
       "                    if (nbb_cells[i].input_prompt_number == nbb_cell_id) {\n",
       "                        if (nbb_cells[i].get_text() == nbb_unformatted_code) {\n",
       "                             nbb_cells[i].set_text(nbb_formatted_code);\n",
       "                        }\n",
       "                        break;\n",
       "                    }\n",
       "                }\n",
       "            }, 500);\n",
       "            "
      ],
      "text/plain": [
       "<IPython.core.display.Javascript object>"
      ]
     },
     "metadata": {},
     "output_type": "display_data"
    }
   ],
   "source": [
    "cs_sensor = [\"NJH\", \"i25_glo_1\", \"i25_glo_2\", \"i25_glo_3\", \"la_casa\"]\n",
    "cs_sensor_col = np.repeat(\n",
    "    cs_sensor, len(raw_training_data)\n",
    ")  # note that we repeat in accordance to the raw data size.\n",
    "\n",
    "full_training_data[\"cs_sensor\"] = cs_sensor_col"
   ]
  },
  {
   "cell_type": "code",
   "execution_count": 16,
   "id": "d91c3254",
   "metadata": {},
   "outputs": [
    {
     "data": {
      "application/javascript": [
       "\n",
       "            setTimeout(function() {\n",
       "                var nbb_cell_id = 16;\n",
       "                var nbb_unformatted_code = \"full_training_data[\\\"airnow_sensor\\\"] = full_training_data[\\\"cs_sensor\\\"].apply(\\n    lambda x: \\\"i25_glo\\\" if x in [\\\"i25_glo_1\\\", \\\"i25_glo_2\\\", \\\"i25_glo_3\\\"] else x\\n)\";\n",
       "                var nbb_formatted_code = \"full_training_data[\\\"airnow_sensor\\\"] = full_training_data[\\\"cs_sensor\\\"].apply(\\n    lambda x: \\\"i25_glo\\\" if x in [\\\"i25_glo_1\\\", \\\"i25_glo_2\\\", \\\"i25_glo_3\\\"] else x\\n)\";\n",
       "                var nbb_cells = Jupyter.notebook.get_cells();\n",
       "                for (var i = 0; i < nbb_cells.length; ++i) {\n",
       "                    if (nbb_cells[i].input_prompt_number == nbb_cell_id) {\n",
       "                        if (nbb_cells[i].get_text() == nbb_unformatted_code) {\n",
       "                             nbb_cells[i].set_text(nbb_formatted_code);\n",
       "                        }\n",
       "                        break;\n",
       "                    }\n",
       "                }\n",
       "            }, 500);\n",
       "            "
      ],
      "text/plain": [
       "<IPython.core.display.Javascript object>"
      ]
     },
     "metadata": {},
     "output_type": "display_data"
    }
   ],
   "source": [
    "full_training_data[\"airnow_sensor\"] = full_training_data[\"cs_sensor\"].apply(\n",
    "    lambda x: \"i25_glo\" if x in [\"i25_glo_1\", \"i25_glo_2\", \"i25_glo_3\"] else x\n",
    ")"
   ]
  },
  {
   "cell_type": "markdown",
   "id": "94834dd9",
   "metadata": {},
   "source": [
    "So far, we have now defined the following columns in our data: `[\"pm_cs\", \"temp\", \"humidity\", \"pm_airnow\", \"data_time\", \"cs_sensor\", \"airnow_sensor\"]`"
   ]
  },
  {
   "cell_type": "markdown",
   "id": "a61cf06c",
   "metadata": {},
   "source": [
    "### Accounting for seasonal and time effects through hour,  month, and weekend variables "
   ]
  },
  {
   "cell_type": "markdown",
   "id": "867bd753",
   "metadata": {},
   "source": [
    "Because of daily, weekly, and seasonal variation in atmospheric PM2.5 that may be due to factors beyond temperature and relative humidity, we will extract hour, weekend, and month variables and convert the `hour` and `month`variables into cyclic values by taking the `cosine` and `sine` of $hour*2π/24$  and $month*2π/12$."
   ]
  },
  {
   "cell_type": "markdown",
   "id": "62406f29",
   "metadata": {},
   "source": [
    "###### Why do we need sine and cosine encoding of time related features?\n",
    "\n",
    "Some data are inherently cyclical. Time is an enaple of such: minutes, hours, seconds, day of week, week of month, month, season, and so on all follow cycles. \n",
    "\n",
    "**How can we let our machine learning model know that a feature is cyclical?** <br>\n",
    "By using sine and cosine transformations\n",
    "\n",
    "In the cell below, I have created a dummy data for each hour in day and have showed how we can tranform the data from linear (1-demensional) to cyclical (2-dimensional using cosine and sine transformations\n",
    "\n",
    "This [reference](https://ianlondon.github.io/blog/encoding-cyclical-features-24hour-time/) gives a good explanation. \n",
    "\n"
   ]
  },
  {
   "cell_type": "code",
   "execution_count": 17,
   "id": "79dd2ec7",
   "metadata": {},
   "outputs": [
    {
     "data": {
      "image/png": "[encoded data removed]",
      "text/plain": [
       "<Figure size 792x396 with 2 Axes>"
      ]
     },
     "metadata": {
      "needs_background": "light"
     },
     "output_type": "display_data"
    },
    {
     "data": {
      "application/javascript": [
       "\n",
       "            setTimeout(function() {\n",
       "                var nbb_cell_id = 17;\n",
       "                var nbb_unformatted_code = \"# Example that explains cyclical encoding\\n\\ntime = [x for x in range(0, 24 + 1)]  # create a dummy list every hour in the data\\n\\ntime = time + time  # Concatenate copies of the same list to form 2 days\\n\\ncos_time = [(math.cos(x) * 2 * (math.pi / 24)) for x in time]\\nsin_time = [(math.sin(x) * 2 * (math.pi / 24)) for x in time]\\n\\nfig, [ax1, ax2] = plt.subplots(nrows=1, ncols=2, figsize=(11, 5.5))\\n\\nax1.plot(time)\\nax2.scatter(sin_time, cos_time)\\nax1.set_title(\\\"Linear\\\", size=15)\\nax2.set_title(\\\"2-D Cosine and Sine\\\", size=15)\\nax1.set_ylabel(\\\"Hour\\\", size=15)\\nax1.set_xlabel(\\\"Sample\\\", size=15)\\nax2.set_ylabel(\\\"Cosine\\\", size=15)\\nax2.set_xlabel(\\\"Sine\\\", size=15)\\nplt.suptitle(\\\"Comparing linear and cyclical encoding of time features\\\", size=15)\\nplt.show()\";\n",
       "                var nbb_formatted_code = \"# Example that explains cyclical encoding\\n\\ntime = [x for x in range(0, 24 + 1)]  # create a dummy list every hour in the data\\n\\ntime = time + time  # Concatenate copies of the same list to form 2 days\\n\\ncos_time = [(math.cos(x) * 2 * (math.pi / 24)) for x in time]\\nsin_time = [(math.sin(x) * 2 * (math.pi / 24)) for x in time]\\n\\nfig, [ax1, ax2] = plt.subplots(nrows=1, ncols=2, figsize=(11, 5.5))\\n\\nax1.plot(time)\\nax2.scatter(sin_time, cos_time)\\nax1.set_title(\\\"Linear\\\", size=15)\\nax2.set_title(\\\"2-D Cosine and Sine\\\", size=15)\\nax1.set_ylabel(\\\"Hour\\\", size=15)\\nax1.set_xlabel(\\\"Sample\\\", size=15)\\nax2.set_ylabel(\\\"Cosine\\\", size=15)\\nax2.set_xlabel(\\\"Sine\\\", size=15)\\nplt.suptitle(\\\"Comparing linear and cyclical encoding of time features\\\", size=15)\\nplt.show()\";\n",
       "                var nbb_cells = Jupyter.notebook.get_cells();\n",
       "                for (var i = 0; i < nbb_cells.length; ++i) {\n",
       "                    if (nbb_cells[i].input_prompt_number == nbb_cell_id) {\n",
       "                        if (nbb_cells[i].get_text() == nbb_unformatted_code) {\n",
       "                             nbb_cells[i].set_text(nbb_formatted_code);\n",
       "                        }\n",
       "                        break;\n",
       "                    }\n",
       "                }\n",
       "            }, 500);\n",
       "            "
      ],
      "text/plain": [
       "<IPython.core.display.Javascript object>"
      ]
     },
     "metadata": {},
     "output_type": "display_data"
    }
   ],
   "source": [
    "# Example that explains cyclical encoding\n",
    "\n",
    "time = [x for x in range(0, 24 + 1)]  # create a dummy list every hour in the data\n",
    "\n",
    "time = time + time  # Concatenate copies of the same list to form 2 days\n",
    "\n",
    "cos_time = [(math.cos(x) * 2 * (math.pi / 24)) for x in time]\n",
    "sin_time = [(math.sin(x) * 2 * (math.pi / 24)) for x in time]\n",
    "\n",
    "fig, [ax1, ax2] = plt.subplots(nrows=1, ncols=2, figsize=(11, 5.5))\n",
    "\n",
    "ax1.plot(time)\n",
    "ax2.scatter(sin_time, cos_time)\n",
    "ax1.set_title(\"Linear\", size=15)\n",
    "ax2.set_title(\"2-D Cosine and Sine\", size=15)\n",
    "ax1.set_ylabel(\"Hour\", size=15)\n",
    "ax1.set_xlabel(\"Sample\", size=15)\n",
    "ax2.set_ylabel(\"Cosine\", size=15)\n",
    "ax2.set_xlabel(\"Sine\", size=15)\n",
    "plt.suptitle(\"Comparing linear and cyclical encoding of time features\", size=15)\n",
    "plt.show()"
   ]
  },
  {
   "cell_type": "markdown",
   "id": "ed89776b",
   "metadata": {},
   "source": [
    "Notice the boundary between 24 and 0. In time, we know that 24 and 0 should be the same. Cyclical encoding helps us achieve this behaviour.\n",
    "\n",
    "This approach is one of the ways to handle time information in time series data."
   ]
  },
  {
   "cell_type": "code",
   "execution_count": 18,
   "id": "9aaaf49c",
   "metadata": {},
   "outputs": [
    {
     "data": {
      "application/javascript": [
       "\n",
       "            setTimeout(function() {\n",
       "                var nbb_cell_id = 18;\n",
       "                var nbb_unformatted_code = \"full_training_data[\\\"time\\\"] = full_training_data[\\\"date_time\\\"].dt.hour\\nfull_training_data[\\\"month\\\"] = full_training_data[\\\"date_time\\\"].dt.month\\n\\n\\nfull_training_data[\\\"weekend\\\"] = (\\n    full_training_data[\\\"date_time\\\"].dt.dayofweek >= 4\\n).astype(\\\"int\\\")\";\n",
       "                var nbb_formatted_code = \"full_training_data[\\\"time\\\"] = full_training_data[\\\"date_time\\\"].dt.hour\\nfull_training_data[\\\"month\\\"] = full_training_data[\\\"date_time\\\"].dt.month\\n\\n\\nfull_training_data[\\\"weekend\\\"] = (\\n    full_training_data[\\\"date_time\\\"].dt.dayofweek >= 4\\n).astype(\\\"int\\\")\";\n",
       "                var nbb_cells = Jupyter.notebook.get_cells();\n",
       "                for (var i = 0; i < nbb_cells.length; ++i) {\n",
       "                    if (nbb_cells[i].input_prompt_number == nbb_cell_id) {\n",
       "                        if (nbb_cells[i].get_text() == nbb_unformatted_code) {\n",
       "                             nbb_cells[i].set_text(nbb_formatted_code);\n",
       "                        }\n",
       "                        break;\n",
       "                    }\n",
       "                }\n",
       "            }, 500);\n",
       "            "
      ],
      "text/plain": [
       "<IPython.core.display.Javascript object>"
      ]
     },
     "metadata": {},
     "output_type": "display_data"
    }
   ],
   "source": [
    "full_training_data[\"time\"] = full_training_data[\"date_time\"].dt.hour\n",
    "full_training_data[\"month\"] = full_training_data[\"date_time\"].dt.month\n",
    "\n",
    "\n",
    "full_training_data[\"weekend\"] = (\n",
    "    full_training_data[\"date_time\"].dt.dayofweek >= 4\n",
    ").astype(\"int\")"
   ]
  },
  {
   "cell_type": "code",
   "execution_count": 19,
   "id": "81b08898",
   "metadata": {},
   "outputs": [
    {
     "data": {
      "application/javascript": [
       "\n",
       "            setTimeout(function() {\n",
       "                var nbb_cell_id = 19;\n",
       "                var nbb_unformatted_code = \"full_training_data[\\\"sin_time\\\"] = full_training_data[\\\"time\\\"].apply(\\n    lambda x: math.sin(x) * 2 * (math.pi / 24)\\n)\\nfull_training_data[\\\"cos_time\\\"] = full_training_data[\\\"time\\\"].apply(\\n    lambda x: math.cos(x) * 2 * (math.pi / 24)\\n)\\n\\nfull_training_data[\\\"sin_month\\\"] = full_training_data[\\\"month\\\"].apply(\\n    lambda x: math.sin(x) * 2 * (math.pi / 12)\\n)\\n\\nfull_training_data[\\\"cos_month\\\"] = full_training_data[\\\"month\\\"].apply(\\n    lambda x: math.cos(x) * 2 * (math.pi / 12)\\n)\";\n",
       "                var nbb_formatted_code = \"full_training_data[\\\"sin_time\\\"] = full_training_data[\\\"time\\\"].apply(\\n    lambda x: math.sin(x) * 2 * (math.pi / 24)\\n)\\nfull_training_data[\\\"cos_time\\\"] = full_training_data[\\\"time\\\"].apply(\\n    lambda x: math.cos(x) * 2 * (math.pi / 24)\\n)\\n\\nfull_training_data[\\\"sin_month\\\"] = full_training_data[\\\"month\\\"].apply(\\n    lambda x: math.sin(x) * 2 * (math.pi / 12)\\n)\\n\\nfull_training_data[\\\"cos_month\\\"] = full_training_data[\\\"month\\\"].apply(\\n    lambda x: math.cos(x) * 2 * (math.pi / 12)\\n)\";\n",
       "                var nbb_cells = Jupyter.notebook.get_cells();\n",
       "                for (var i = 0; i < nbb_cells.length; ++i) {\n",
       "                    if (nbb_cells[i].input_prompt_number == nbb_cell_id) {\n",
       "                        if (nbb_cells[i].get_text() == nbb_unformatted_code) {\n",
       "                             nbb_cells[i].set_text(nbb_formatted_code);\n",
       "                        }\n",
       "                        break;\n",
       "                    }\n",
       "                }\n",
       "            }, 500);\n",
       "            "
      ],
      "text/plain": [
       "<IPython.core.display.Javascript object>"
      ]
     },
     "metadata": {},
     "output_type": "display_data"
    }
   ],
   "source": [
    "full_training_data[\"sin_time\"] = full_training_data[\"time\"].apply(\n",
    "    lambda x: math.sin(x) * 2 * (math.pi / 24)\n",
    ")\n",
    "full_training_data[\"cos_time\"] = full_training_data[\"time\"].apply(\n",
    "    lambda x: math.cos(x) * 2 * (math.pi / 24)\n",
    ")\n",
    "\n",
    "full_training_data[\"sin_month\"] = full_training_data[\"month\"].apply(\n",
    "    lambda x: math.sin(x) * 2 * (math.pi / 12)\n",
    ")\n",
    "\n",
    "full_training_data[\"cos_month\"] = full_training_data[\"month\"].apply(\n",
    "    lambda x: math.cos(x) * 2 * (math.pi / 12)\n",
    ")"
   ]
  },
  {
   "cell_type": "markdown",
   "id": "209b4756",
   "metadata": {},
   "source": [
    "### Dealing with missing values (NaN) and invalid values.\n",
    "\n",
    "We need to rely on the literature or the data provider to undertstand how to filter the data and wghat to filter out and/or keep in the data."
   ]
  },
  {
   "cell_type": "code",
   "execution_count": 20,
   "id": "b35d6e68",
   "metadata": {},
   "outputs": [
    {
     "name": "stdout",
     "output_type": "stream",
     "text": [
      "We are starting with 34085 observations\n"
     ]
    },
    {
     "data": {
      "application/javascript": [
       "\n",
       "            setTimeout(function() {\n",
       "                var nbb_cell_id = 20;\n",
       "                var nbb_unformatted_code = \"print(f\\\"We are starting with {len(full_training_data)} observations\\\")\";\n",
       "                var nbb_formatted_code = \"print(f\\\"We are starting with {len(full_training_data)} observations\\\")\";\n",
       "                var nbb_cells = Jupyter.notebook.get_cells();\n",
       "                for (var i = 0; i < nbb_cells.length; ++i) {\n",
       "                    if (nbb_cells[i].input_prompt_number == nbb_cell_id) {\n",
       "                        if (nbb_cells[i].get_text() == nbb_unformatted_code) {\n",
       "                             nbb_cells[i].set_text(nbb_formatted_code);\n",
       "                        }\n",
       "                        break;\n",
       "                    }\n",
       "                }\n",
       "            }, 500);\n",
       "            "
      ],
      "text/plain": [
       "<IPython.core.display.Javascript object>"
      ]
     },
     "metadata": {},
     "output_type": "display_data"
    }
   ],
   "source": [
    "print(f\"We are starting with {len(full_training_data)} observations\")"
   ]
  },
  {
   "cell_type": "markdown",
   "id": "c4fd5194",
   "metadata": {},
   "source": [
    "#### Setting the threshold for invalid values"
   ]
  },
  {
   "cell_type": "code",
   "execution_count": 21,
   "id": "8ef7e24f",
   "metadata": {},
   "outputs": [
    {
     "data": {
      "application/javascript": [
       "\n",
       "            setTimeout(function() {\n",
       "                var nbb_cell_id = 21;\n",
       "                var nbb_unformatted_code = \"low = 0  # CS encodes invalid values as -1\\nhigh = 1500\";\n",
       "                var nbb_formatted_code = \"low = 0  # CS encodes invalid values as -1\\nhigh = 1500\";\n",
       "                var nbb_cells = Jupyter.notebook.get_cells();\n",
       "                for (var i = 0; i < nbb_cells.length; ++i) {\n",
       "                    if (nbb_cells[i].input_prompt_number == nbb_cell_id) {\n",
       "                        if (nbb_cells[i].get_text() == nbb_unformatted_code) {\n",
       "                             nbb_cells[i].set_text(nbb_formatted_code);\n",
       "                        }\n",
       "                        break;\n",
       "                    }\n",
       "                }\n",
       "            }, 500);\n",
       "            "
      ],
      "text/plain": [
       "<IPython.core.display.Javascript object>"
      ]
     },
     "metadata": {},
     "output_type": "display_data"
    }
   ],
   "source": [
    "low = 0  # CS encodes invalid values as -1\n",
    "high = 1500"
   ]
  },
  {
   "cell_type": "code",
   "execution_count": 22,
   "id": "ece6ae97",
   "metadata": {},
   "outputs": [
    {
     "data": {
      "application/javascript": [
       "\n",
       "            setTimeout(function() {\n",
       "                var nbb_cell_id = 22;\n",
       "                var nbb_unformatted_code = \"full_training_data = full_training_data[\\n    (full_training_data[\\\"pm_airnow\\\"] > low)\\n    & (full_training_data[\\\"pm_cs\\\"] > low)\\n    & (full_training_data[\\\"temp\\\"] > low)\\n    & (full_training_data[\\\"humidity\\\"] > low)\\n    & (full_training_data[\\\"pm_cs\\\"] < high)\\n]\";\n",
       "                var nbb_formatted_code = \"full_training_data = full_training_data[\\n    (full_training_data[\\\"pm_airnow\\\"] > low)\\n    & (full_training_data[\\\"pm_cs\\\"] > low)\\n    & (full_training_data[\\\"temp\\\"] > low)\\n    & (full_training_data[\\\"humidity\\\"] > low)\\n    & (full_training_data[\\\"pm_cs\\\"] < high)\\n]\";\n",
       "                var nbb_cells = Jupyter.notebook.get_cells();\n",
       "                for (var i = 0; i < nbb_cells.length; ++i) {\n",
       "                    if (nbb_cells[i].input_prompt_number == nbb_cell_id) {\n",
       "                        if (nbb_cells[i].get_text() == nbb_unformatted_code) {\n",
       "                             nbb_cells[i].set_text(nbb_formatted_code);\n",
       "                        }\n",
       "                        break;\n",
       "                    }\n",
       "                }\n",
       "            }, 500);\n",
       "            "
      ],
      "text/plain": [
       "<IPython.core.display.Javascript object>"
      ]
     },
     "metadata": {},
     "output_type": "display_data"
    }
   ],
   "source": [
    "full_training_data = full_training_data[\n",
    "    (full_training_data[\"pm_airnow\"] > low)\n",
    "    & (full_training_data[\"pm_cs\"] > low)\n",
    "    & (full_training_data[\"temp\"] > low)\n",
    "    & (full_training_data[\"humidity\"] > low)\n",
    "    & (full_training_data[\"pm_cs\"] < high)\n",
    "]\n"
   ]
  },
  {
   "cell_type": "code",
   "execution_count": 23,
   "id": "6160b5f2",
   "metadata": {},
   "outputs": [
    {
     "data": {
      "application/javascript": [
       "\n",
       "            setTimeout(function() {\n",
       "                var nbb_cell_id = 23;\n",
       "                var nbb_unformatted_code = \"# Drop NaN values\\n\\nfull_training_data = full_training_data.dropna(\\n    subset=[\\\"pm_cs\\\", \\\"temp\\\", \\\"humidity\\\", \\\"pm_airnow\\\"]\\n)\";\n",
       "                var nbb_formatted_code = \"# Drop NaN values\\n\\nfull_training_data = full_training_data.dropna(\\n    subset=[\\\"pm_cs\\\", \\\"temp\\\", \\\"humidity\\\", \\\"pm_airnow\\\"]\\n)\";\n",
       "                var nbb_cells = Jupyter.notebook.get_cells();\n",
       "                for (var i = 0; i < nbb_cells.length; ++i) {\n",
       "                    if (nbb_cells[i].input_prompt_number == nbb_cell_id) {\n",
       "                        if (nbb_cells[i].get_text() == nbb_unformatted_code) {\n",
       "                             nbb_cells[i].set_text(nbb_formatted_code);\n",
       "                        }\n",
       "                        break;\n",
       "                    }\n",
       "                }\n",
       "            }, 500);\n",
       "            "
      ],
      "text/plain": [
       "<IPython.core.display.Javascript object>"
      ]
     },
     "metadata": {},
     "output_type": "display_data"
    }
   ],
   "source": [
    "# Drop NaN values\n",
    "\n",
    "full_training_data = full_training_data.dropna(\n",
    "    subset=[\"pm_cs\", \"temp\", \"humidity\", \"pm_airnow\"]\n",
    ")"
   ]
  },
  {
   "cell_type": "code",
   "execution_count": 24,
   "id": "597db22e",
   "metadata": {},
   "outputs": [
    {
     "name": "stdout",
     "output_type": "stream",
     "text": [
      "Now we are left with 29729 hourly observation as our training data\n"
     ]
    },
    {
     "data": {
      "application/javascript": [
       "\n",
       "            setTimeout(function() {\n",
       "                var nbb_cell_id = 24;\n",
       "                var nbb_unformatted_code = \"print(\\n    f\\\"Now we are left with {len(full_training_data)} hourly observation as our training data\\\"\\n)\";\n",
       "                var nbb_formatted_code = \"print(\\n    f\\\"Now we are left with {len(full_training_data)} hourly observation as our training data\\\"\\n)\";\n",
       "                var nbb_cells = Jupyter.notebook.get_cells();\n",
       "                for (var i = 0; i < nbb_cells.length; ++i) {\n",
       "                    if (nbb_cells[i].input_prompt_number == nbb_cell_id) {\n",
       "                        if (nbb_cells[i].get_text() == nbb_unformatted_code) {\n",
       "                             nbb_cells[i].set_text(nbb_formatted_code);\n",
       "                        }\n",
       "                        break;\n",
       "                    }\n",
       "                }\n",
       "            }, 500);\n",
       "            "
      ],
      "text/plain": [
       "<IPython.core.display.Javascript object>"
      ]
     },
     "metadata": {},
     "output_type": "display_data"
    }
   ],
   "source": [
    "print(\n",
    "    f\"Now we are left with {len(full_training_data)} hourly observation as our training data\"\n",
    ")"
   ]
  },
  {
   "cell_type": "markdown",
   "id": "b4bd753f",
   "metadata": {},
   "source": [
    "### Add road length variables"
   ]
  },
  {
   "cell_type": "markdown",
   "id": "c638c900",
   "metadata": {},
   "source": [
    "Along with adjusting for variability in time, it is useful to investigate variability in space (location of reference sensors). The position of an air quality sensor within a city, especially relative to known sources of pollution such as highways, is likely to affect the characteristics of the air pollution in that area.\n",
    "\n",
    "In this regard, the authors of our reference study investigated the effects of lengths of different sizes of roads within a certain distance from a monitor. \n",
    "\n",
    "For this particular course, we will including the lenght of arterial (large) roads within 500m (to be tagged `aroad_500`).\n",
    "\n",
    "ALERT: The lengths here could have been measured in kilometers or Miles. What is most important is that they are all measured on the same unit, which we can believe is the case."
   ]
  },
  {
   "cell_type": "markdown",
   "id": "91a90a4e",
   "metadata": {},
   "source": [
    "The data  we load below provides us with data on lenght of arterial (large) roads within 500m of each monitor locations."
   ]
  },
  {
   "cell_type": "code",
   "execution_count": 25,
   "id": "43a020e0",
   "metadata": {},
   "outputs": [
    {
     "data": {
      "application/javascript": [
       "\n",
       "            setTimeout(function() {\n",
       "                var nbb_cell_id = 25;\n",
       "                var nbb_unformatted_code = \"road_data = pd.read_csv(data_root + \\\"road_lengths.csv\\\")\";\n",
       "                var nbb_formatted_code = \"road_data = pd.read_csv(data_root + \\\"road_lengths.csv\\\")\";\n",
       "                var nbb_cells = Jupyter.notebook.get_cells();\n",
       "                for (var i = 0; i < nbb_cells.length; ++i) {\n",
       "                    if (nbb_cells[i].input_prompt_number == nbb_cell_id) {\n",
       "                        if (nbb_cells[i].get_text() == nbb_unformatted_code) {\n",
       "                             nbb_cells[i].set_text(nbb_formatted_code);\n",
       "                        }\n",
       "                        break;\n",
       "                    }\n",
       "                }\n",
       "            }, 500);\n",
       "            "
      ],
      "text/plain": [
       "<IPython.core.display.Javascript object>"
      ]
     },
     "metadata": {},
     "output_type": "display_data"
    }
   ],
   "source": [
    "road_data = pd.read_csv(data_root + \"road_lengths.csv\")"
   ]
  },
  {
   "cell_type": "code",
   "execution_count": 26,
   "id": "583c687f",
   "metadata": {},
   "outputs": [
    {
     "data": {
      "text/html": [
       "<div>\n",
       "<style scoped>\n",
       "    .dataframe tbody tr th:only-of-type {\n",
       "        vertical-align: middle;\n",
       "    }\n",
       "\n",
       "    .dataframe tbody tr th {\n",
       "        vertical-align: top;\n",
       "    }\n",
       "\n",
       "    .dataframe thead th {\n",
       "        text-align: right;\n",
       "    }\n",
       "</style>\n",
       "<table border=\"1\" class=\"dataframe\">\n",
       "  <thead>\n",
       "    <tr style=\"text-align: right;\">\n",
       "      <th></th>\n",
       "      <th>airnow_sensor</th>\n",
       "      <th>longitude</th>\n",
       "      <th>latitude</th>\n",
       "      <th>a_road_500</th>\n",
       "    </tr>\n",
       "  </thead>\n",
       "  <tbody>\n",
       "    <tr>\n",
       "      <th>0</th>\n",
       "      <td>NJH</td>\n",
       "      <td>-104.939925</td>\n",
       "      <td>39.738578</td>\n",
       "      <td>1.995</td>\n",
       "    </tr>\n",
       "    <tr>\n",
       "      <th>1</th>\n",
       "      <td>i25_glo</td>\n",
       "      <td>-104.988878</td>\n",
       "      <td>39.785902</td>\n",
       "      <td>1.295</td>\n",
       "    </tr>\n",
       "    <tr>\n",
       "      <th>2</th>\n",
       "      <td>la_casa</td>\n",
       "      <td>-105.005191</td>\n",
       "      <td>39.779467</td>\n",
       "      <td>1.727</td>\n",
       "    </tr>\n",
       "    <tr>\n",
       "      <th>3</th>\n",
       "      <td>CAMP</td>\n",
       "      <td>-104.987625</td>\n",
       "      <td>39.751184</td>\n",
       "      <td>6.850</td>\n",
       "    </tr>\n",
       "    <tr>\n",
       "      <th>4</th>\n",
       "      <td>i25_denver</td>\n",
       "      <td>-105.015317</td>\n",
       "      <td>39.732146</td>\n",
       "      <td>2.195</td>\n",
       "    </tr>\n",
       "  </tbody>\n",
       "</table>\n",
       "</div>"
      ],
      "text/plain": [
       "  airnow_sensor   longitude   latitude  a_road_500\n",
       "0           NJH -104.939925  39.738578       1.995\n",
       "1       i25_glo -104.988878  39.785902       1.295\n",
       "2       la_casa -105.005191  39.779467       1.727\n",
       "3          CAMP -104.987625  39.751184       6.850\n",
       "4    i25_denver -105.015317  39.732146       2.195"
      ]
     },
     "execution_count": 26,
     "metadata": {},
     "output_type": "execute_result"
    },
    {
     "data": {
      "application/javascript": [
       "\n",
       "            setTimeout(function() {\n",
       "                var nbb_cell_id = 26;\n",
       "                var nbb_unformatted_code = \"road_data.head()\";\n",
       "                var nbb_formatted_code = \"road_data.head()\";\n",
       "                var nbb_cells = Jupyter.notebook.get_cells();\n",
       "                for (var i = 0; i < nbb_cells.length; ++i) {\n",
       "                    if (nbb_cells[i].input_prompt_number == nbb_cell_id) {\n",
       "                        if (nbb_cells[i].get_text() == nbb_unformatted_code) {\n",
       "                             nbb_cells[i].set_text(nbb_formatted_code);\n",
       "                        }\n",
       "                        break;\n",
       "                    }\n",
       "                }\n",
       "            }, 500);\n",
       "            "
      ],
      "text/plain": [
       "<IPython.core.display.Javascript object>"
      ]
     },
     "metadata": {},
     "output_type": "display_data"
    }
   ],
   "source": [
    "road_data.head()"
   ]
  },
  {
   "cell_type": "code",
   "execution_count": 27,
   "id": "9f98215d",
   "metadata": {},
   "outputs": [
    {
     "name": "stdout",
     "output_type": "stream",
     "text": [
      "Before merging road lenghts variables\n"
     ]
    },
    {
     "data": {
      "text/html": [
       "<div>\n",
       "<style scoped>\n",
       "    .dataframe tbody tr th:only-of-type {\n",
       "        vertical-align: middle;\n",
       "    }\n",
       "\n",
       "    .dataframe tbody tr th {\n",
       "        vertical-align: top;\n",
       "    }\n",
       "\n",
       "    .dataframe thead th {\n",
       "        text-align: right;\n",
       "    }\n",
       "</style>\n",
       "<table border=\"1\" class=\"dataframe\">\n",
       "  <thead>\n",
       "    <tr style=\"text-align: right;\">\n",
       "      <th></th>\n",
       "      <th>pm_cs</th>\n",
       "      <th>temp</th>\n",
       "      <th>humidity</th>\n",
       "      <th>pm_airnow</th>\n",
       "      <th>date_time</th>\n",
       "      <th>cs_sensor</th>\n",
       "      <th>airnow_sensor</th>\n",
       "      <th>time</th>\n",
       "      <th>month</th>\n",
       "      <th>weekend</th>\n",
       "      <th>sin_time</th>\n",
       "      <th>cos_time</th>\n",
       "      <th>sin_month</th>\n",
       "      <th>cos_month</th>\n",
       "    </tr>\n",
       "  </thead>\n",
       "  <tbody>\n",
       "    <tr>\n",
       "      <th>0</th>\n",
       "      <td>33.6167</td>\n",
       "      <td>60.038</td>\n",
       "      <td>65.0850</td>\n",
       "      <td>22.10</td>\n",
       "      <td>2018-08-20 01:00:00</td>\n",
       "      <td>NJH</td>\n",
       "      <td>NJH</td>\n",
       "      <td>1</td>\n",
       "      <td>8</td>\n",
       "      <td>0</td>\n",
       "      <td>0.220297</td>\n",
       "      <td>0.141451</td>\n",
       "      <td>0.518027</td>\n",
       "      <td>-0.076184</td>\n",
       "    </tr>\n",
       "    <tr>\n",
       "      <th>1</th>\n",
       "      <td>38.2333</td>\n",
       "      <td>58.517</td>\n",
       "      <td>67.1150</td>\n",
       "      <td>27.10</td>\n",
       "      <td>2018-08-20 02:00:00</td>\n",
       "      <td>NJH</td>\n",
       "      <td>NJH</td>\n",
       "      <td>2</td>\n",
       "      <td>8</td>\n",
       "      <td>0</td>\n",
       "      <td>0.238054</td>\n",
       "      <td>-0.108947</td>\n",
       "      <td>0.518027</td>\n",
       "      <td>-0.076184</td>\n",
       "    </tr>\n",
       "    <tr>\n",
       "      <th>2</th>\n",
       "      <td>43.3500</td>\n",
       "      <td>57.383</td>\n",
       "      <td>71.1717</td>\n",
       "      <td>28.85</td>\n",
       "      <td>2018-08-20 03:00:00</td>\n",
       "      <td>NJH</td>\n",
       "      <td>NJH</td>\n",
       "      <td>3</td>\n",
       "      <td>8</td>\n",
       "      <td>0</td>\n",
       "      <td>0.036945</td>\n",
       "      <td>-0.259179</td>\n",
       "      <td>0.518027</td>\n",
       "      <td>-0.076184</td>\n",
       "    </tr>\n",
       "    <tr>\n",
       "      <th>3</th>\n",
       "      <td>48.7000</td>\n",
       "      <td>56.546</td>\n",
       "      <td>74.7317</td>\n",
       "      <td>34.60</td>\n",
       "      <td>2018-08-20 04:00:00</td>\n",
       "      <td>NJH</td>\n",
       "      <td>NJH</td>\n",
       "      <td>4</td>\n",
       "      <td>8</td>\n",
       "      <td>0</td>\n",
       "      <td>-0.198130</td>\n",
       "      <td>-0.171123</td>\n",
       "      <td>0.518027</td>\n",
       "      <td>-0.076184</td>\n",
       "    </tr>\n",
       "    <tr>\n",
       "      <th>4</th>\n",
       "      <td>39.2500</td>\n",
       "      <td>55.682</td>\n",
       "      <td>79.2033</td>\n",
       "      <td>31.50</td>\n",
       "      <td>2018-08-20 05:00:00</td>\n",
       "      <td>NJH</td>\n",
       "      <td>NJH</td>\n",
       "      <td>5</td>\n",
       "      <td>8</td>\n",
       "      <td>0</td>\n",
       "      <td>-0.251046</td>\n",
       "      <td>0.074263</td>\n",
       "      <td>0.518027</td>\n",
       "      <td>-0.076184</td>\n",
       "    </tr>\n",
       "  </tbody>\n",
       "</table>\n",
       "</div>"
      ],
      "text/plain": [
       "     pm_cs    temp  humidity  pm_airnow           date_time cs_sensor  \\\n",
       "0  33.6167  60.038   65.0850      22.10 2018-08-20 01:00:00       NJH   \n",
       "1  38.2333  58.517   67.1150      27.10 2018-08-20 02:00:00       NJH   \n",
       "2  43.3500  57.383   71.1717      28.85 2018-08-20 03:00:00       NJH   \n",
       "3  48.7000  56.546   74.7317      34.60 2018-08-20 04:00:00       NJH   \n",
       "4  39.2500  55.682   79.2033      31.50 2018-08-20 05:00:00       NJH   \n",
       "\n",
       "  airnow_sensor  time  month  weekend  sin_time  cos_time  sin_month  \\\n",
       "0           NJH     1      8        0  0.220297  0.141451   0.518027   \n",
       "1           NJH     2      8        0  0.238054 -0.108947   0.518027   \n",
       "2           NJH     3      8        0  0.036945 -0.259179   0.518027   \n",
       "3           NJH     4      8        0 -0.198130 -0.171123   0.518027   \n",
       "4           NJH     5      8        0 -0.251046  0.074263   0.518027   \n",
       "\n",
       "   cos_month  \n",
       "0  -0.076184  \n",
       "1  -0.076184  \n",
       "2  -0.076184  \n",
       "3  -0.076184  \n",
       "4  -0.076184  "
      ]
     },
     "execution_count": 27,
     "metadata": {},
     "output_type": "execute_result"
    },
    {
     "data": {
      "application/javascript": [
       "\n",
       "            setTimeout(function() {\n",
       "                var nbb_cell_id = 27;\n",
       "                var nbb_unformatted_code = \"print(\\\"Before merging road lenghts variables\\\")\\nfull_training_data.head()\";\n",
       "                var nbb_formatted_code = \"print(\\\"Before merging road lenghts variables\\\")\\nfull_training_data.head()\";\n",
       "                var nbb_cells = Jupyter.notebook.get_cells();\n",
       "                for (var i = 0; i < nbb_cells.length; ++i) {\n",
       "                    if (nbb_cells[i].input_prompt_number == nbb_cell_id) {\n",
       "                        if (nbb_cells[i].get_text() == nbb_unformatted_code) {\n",
       "                             nbb_cells[i].set_text(nbb_formatted_code);\n",
       "                        }\n",
       "                        break;\n",
       "                    }\n",
       "                }\n",
       "            }, 500);\n",
       "            "
      ],
      "text/plain": [
       "<IPython.core.display.Javascript object>"
      ]
     },
     "metadata": {},
     "output_type": "display_data"
    }
   ],
   "source": [
    "print(\"Before merging road lenghts variables\")\n",
    "full_training_data.head()"
   ]
  },
  {
   "cell_type": "code",
   "execution_count": 28,
   "id": "0a8e9f67",
   "metadata": {},
   "outputs": [
    {
     "data": {
      "application/javascript": [
       "\n",
       "            setTimeout(function() {\n",
       "                var nbb_cell_id = 28;\n",
       "                var nbb_unformatted_code = \"full_training_data = road_data.merge(full_training_data, on=\\\"airnow_sensor\\\")\";\n",
       "                var nbb_formatted_code = \"full_training_data = road_data.merge(full_training_data, on=\\\"airnow_sensor\\\")\";\n",
       "                var nbb_cells = Jupyter.notebook.get_cells();\n",
       "                for (var i = 0; i < nbb_cells.length; ++i) {\n",
       "                    if (nbb_cells[i].input_prompt_number == nbb_cell_id) {\n",
       "                        if (nbb_cells[i].get_text() == nbb_unformatted_code) {\n",
       "                             nbb_cells[i].set_text(nbb_formatted_code);\n",
       "                        }\n",
       "                        break;\n",
       "                    }\n",
       "                }\n",
       "            }, 500);\n",
       "            "
      ],
      "text/plain": [
       "<IPython.core.display.Javascript object>"
      ]
     },
     "metadata": {},
     "output_type": "display_data"
    }
   ],
   "source": [
    "full_training_data = road_data.merge(full_training_data, on=\"airnow_sensor\")"
   ]
  },
  {
   "cell_type": "code",
   "execution_count": 29,
   "id": "4cb1a9a5",
   "metadata": {},
   "outputs": [
    {
     "name": "stdout",
     "output_type": "stream",
     "text": [
      "After merging road lenghts variables. Longitude and latitude information are also added\n"
     ]
    },
    {
     "data": {
      "text/html": [
       "<div>\n",
       "<style scoped>\n",
       "    .dataframe tbody tr th:only-of-type {\n",
       "        vertical-align: middle;\n",
       "    }\n",
       "\n",
       "    .dataframe tbody tr th {\n",
       "        vertical-align: top;\n",
       "    }\n",
       "\n",
       "    .dataframe thead th {\n",
       "        text-align: right;\n",
       "    }\n",
       "</style>\n",
       "<table border=\"1\" class=\"dataframe\">\n",
       "  <thead>\n",
       "    <tr style=\"text-align: right;\">\n",
       "      <th></th>\n",
       "      <th>airnow_sensor</th>\n",
       "      <th>longitude</th>\n",
       "      <th>latitude</th>\n",
       "      <th>a_road_500</th>\n",
       "      <th>pm_cs</th>\n",
       "      <th>temp</th>\n",
       "      <th>humidity</th>\n",
       "      <th>pm_airnow</th>\n",
       "      <th>date_time</th>\n",
       "      <th>cs_sensor</th>\n",
       "      <th>time</th>\n",
       "      <th>month</th>\n",
       "      <th>weekend</th>\n",
       "      <th>sin_time</th>\n",
       "      <th>cos_time</th>\n",
       "      <th>sin_month</th>\n",
       "      <th>cos_month</th>\n",
       "    </tr>\n",
       "  </thead>\n",
       "  <tbody>\n",
       "    <tr>\n",
       "      <th>0</th>\n",
       "      <td>NJH</td>\n",
       "      <td>-104.939925</td>\n",
       "      <td>39.738578</td>\n",
       "      <td>1.995</td>\n",
       "      <td>33.6167</td>\n",
       "      <td>60.038</td>\n",
       "      <td>65.0850</td>\n",
       "      <td>22.10</td>\n",
       "      <td>2018-08-20 01:00:00</td>\n",
       "      <td>NJH</td>\n",
       "      <td>1</td>\n",
       "      <td>8</td>\n",
       "      <td>0</td>\n",
       "      <td>0.220297</td>\n",
       "      <td>0.141451</td>\n",
       "      <td>0.518027</td>\n",
       "      <td>-0.076184</td>\n",
       "    </tr>\n",
       "    <tr>\n",
       "      <th>1</th>\n",
       "      <td>NJH</td>\n",
       "      <td>-104.939925</td>\n",
       "      <td>39.738578</td>\n",
       "      <td>1.995</td>\n",
       "      <td>38.2333</td>\n",
       "      <td>58.517</td>\n",
       "      <td>67.1150</td>\n",
       "      <td>27.10</td>\n",
       "      <td>2018-08-20 02:00:00</td>\n",
       "      <td>NJH</td>\n",
       "      <td>2</td>\n",
       "      <td>8</td>\n",
       "      <td>0</td>\n",
       "      <td>0.238054</td>\n",
       "      <td>-0.108947</td>\n",
       "      <td>0.518027</td>\n",
       "      <td>-0.076184</td>\n",
       "    </tr>\n",
       "    <tr>\n",
       "      <th>2</th>\n",
       "      <td>NJH</td>\n",
       "      <td>-104.939925</td>\n",
       "      <td>39.738578</td>\n",
       "      <td>1.995</td>\n",
       "      <td>43.3500</td>\n",
       "      <td>57.383</td>\n",
       "      <td>71.1717</td>\n",
       "      <td>28.85</td>\n",
       "      <td>2018-08-20 03:00:00</td>\n",
       "      <td>NJH</td>\n",
       "      <td>3</td>\n",
       "      <td>8</td>\n",
       "      <td>0</td>\n",
       "      <td>0.036945</td>\n",
       "      <td>-0.259179</td>\n",
       "      <td>0.518027</td>\n",
       "      <td>-0.076184</td>\n",
       "    </tr>\n",
       "    <tr>\n",
       "      <th>3</th>\n",
       "      <td>NJH</td>\n",
       "      <td>-104.939925</td>\n",
       "      <td>39.738578</td>\n",
       "      <td>1.995</td>\n",
       "      <td>48.7000</td>\n",
       "      <td>56.546</td>\n",
       "      <td>74.7317</td>\n",
       "      <td>34.60</td>\n",
       "      <td>2018-08-20 04:00:00</td>\n",
       "      <td>NJH</td>\n",
       "      <td>4</td>\n",
       "      <td>8</td>\n",
       "      <td>0</td>\n",
       "      <td>-0.198130</td>\n",
       "      <td>-0.171123</td>\n",
       "      <td>0.518027</td>\n",
       "      <td>-0.076184</td>\n",
       "    </tr>\n",
       "    <tr>\n",
       "      <th>4</th>\n",
       "      <td>NJH</td>\n",
       "      <td>-104.939925</td>\n",
       "      <td>39.738578</td>\n",
       "      <td>1.995</td>\n",
       "      <td>39.2500</td>\n",
       "      <td>55.682</td>\n",
       "      <td>79.2033</td>\n",
       "      <td>31.50</td>\n",
       "      <td>2018-08-20 05:00:00</td>\n",
       "      <td>NJH</td>\n",
       "      <td>5</td>\n",
       "      <td>8</td>\n",
       "      <td>0</td>\n",
       "      <td>-0.251046</td>\n",
       "      <td>0.074263</td>\n",
       "      <td>0.518027</td>\n",
       "      <td>-0.076184</td>\n",
       "    </tr>\n",
       "  </tbody>\n",
       "</table>\n",
       "</div>"
      ],
      "text/plain": [
       "  airnow_sensor   longitude   latitude  a_road_500    pm_cs    temp  humidity  \\\n",
       "0           NJH -104.939925  39.738578       1.995  33.6167  60.038   65.0850   \n",
       "1           NJH -104.939925  39.738578       1.995  38.2333  58.517   67.1150   \n",
       "2           NJH -104.939925  39.738578       1.995  43.3500  57.383   71.1717   \n",
       "3           NJH -104.939925  39.738578       1.995  48.7000  56.546   74.7317   \n",
       "4           NJH -104.939925  39.738578       1.995  39.2500  55.682   79.2033   \n",
       "\n",
       "   pm_airnow           date_time cs_sensor  time  month  weekend  sin_time  \\\n",
       "0      22.10 2018-08-20 01:00:00       NJH     1      8        0  0.220297   \n",
       "1      27.10 2018-08-20 02:00:00       NJH     2      8        0  0.238054   \n",
       "2      28.85 2018-08-20 03:00:00       NJH     3      8        0  0.036945   \n",
       "3      34.60 2018-08-20 04:00:00       NJH     4      8        0 -0.198130   \n",
       "4      31.50 2018-08-20 05:00:00       NJH     5      8        0 -0.251046   \n",
       "\n",
       "   cos_time  sin_month  cos_month  \n",
       "0  0.141451   0.518027  -0.076184  \n",
       "1 -0.108947   0.518027  -0.076184  \n",
       "2 -0.259179   0.518027  -0.076184  \n",
       "3 -0.171123   0.518027  -0.076184  \n",
       "4  0.074263   0.518027  -0.076184  "
      ]
     },
     "execution_count": 29,
     "metadata": {},
     "output_type": "execute_result"
    },
    {
     "data": {
      "application/javascript": [
       "\n",
       "            setTimeout(function() {\n",
       "                var nbb_cell_id = 29;\n",
       "                var nbb_unformatted_code = \"print(\\n    \\\"After merging road lenghts variables. Longitude and latitude information are also added\\\"\\n)\\nfull_training_data.head()\";\n",
       "                var nbb_formatted_code = \"print(\\n    \\\"After merging road lenghts variables. Longitude and latitude information are also added\\\"\\n)\\nfull_training_data.head()\";\n",
       "                var nbb_cells = Jupyter.notebook.get_cells();\n",
       "                for (var i = 0; i < nbb_cells.length; ++i) {\n",
       "                    if (nbb_cells[i].input_prompt_number == nbb_cell_id) {\n",
       "                        if (nbb_cells[i].get_text() == nbb_unformatted_code) {\n",
       "                             nbb_cells[i].set_text(nbb_formatted_code);\n",
       "                        }\n",
       "                        break;\n",
       "                    }\n",
       "                }\n",
       "            }, 500);\n",
       "            "
      ],
      "text/plain": [
       "<IPython.core.display.Javascript object>"
      ]
     },
     "metadata": {},
     "output_type": "display_data"
    }
   ],
   "source": [
    "print(\n",
    "    \"After merging road lenghts variables. Longitude and latitude information are also added\"\n",
    ")\n",
    "full_training_data.head()"
   ]
  },
  {
   "cell_type": "markdown",
   "id": "cfbfb8a7",
   "metadata": {},
   "source": [
    "Now, let look below to ensure that all the columns we need in our data have been added. "
   ]
  },
  {
   "cell_type": "code",
   "execution_count": 30,
   "id": "1a50a908",
   "metadata": {},
   "outputs": [
    {
     "data": {
      "text/plain": [
       "Index(['airnow_sensor', 'longitude', 'latitude', 'a_road_500', 'pm_cs', 'temp',\n",
       "       'humidity', 'pm_airnow', 'date_time', 'cs_sensor', 'time', 'month',\n",
       "       'weekend', 'sin_time', 'cos_time', 'sin_month', 'cos_month'],\n",
       "      dtype='object')"
      ]
     },
     "execution_count": 30,
     "metadata": {},
     "output_type": "execute_result"
    },
    {
     "data": {
      "application/javascript": [
       "\n",
       "            setTimeout(function() {\n",
       "                var nbb_cell_id = 30;\n",
       "                var nbb_unformatted_code = \"full_training_data.columns\";\n",
       "                var nbb_formatted_code = \"full_training_data.columns\";\n",
       "                var nbb_cells = Jupyter.notebook.get_cells();\n",
       "                for (var i = 0; i < nbb_cells.length; ++i) {\n",
       "                    if (nbb_cells[i].input_prompt_number == nbb_cell_id) {\n",
       "                        if (nbb_cells[i].get_text() == nbb_unformatted_code) {\n",
       "                             nbb_cells[i].set_text(nbb_formatted_code);\n",
       "                        }\n",
       "                        break;\n",
       "                    }\n",
       "                }\n",
       "            }, 500);\n",
       "            "
      ],
      "text/plain": [
       "<IPython.core.display.Javascript object>"
      ]
     },
     "metadata": {},
     "output_type": "display_data"
    }
   ],
   "source": [
    "full_training_data.columns"
   ]
  },
  {
   "cell_type": "markdown",
   "id": "46fae2e3",
   "metadata": {},
   "source": [
    "### Note about training data preparation\n",
    "\n",
    "This is our training data preparation. Take note that most real life data science objectives require **rigourous data preparation and feature engineeering**. This lesson has shown you a bit of what that looks like. Now we want to save our cleaned data in a `.csv`file."
   ]
  },
  {
   "cell_type": "markdown",
   "id": "10e59df7",
   "metadata": {},
   "source": [
    "### Finally, save the new version of your training data as a `.csv` file\n",
    "\n",
    "We will use this file in the remaining notebooks (for exploratory data analysis and modeling)"
   ]
  },
  {
   "cell_type": "code",
   "execution_count": 31,
   "id": "6bcecad7",
   "metadata": {},
   "outputs": [
    {
     "data": {
      "application/javascript": [
       "\n",
       "            setTimeout(function() {\n",
       "                var nbb_cell_id = 31;\n",
       "                var nbb_unformatted_code = \"full_training_data.to_csv(data_root + \\\"cleaned_training.csv\\\", index=False)\";\n",
       "                var nbb_formatted_code = \"full_training_data.to_csv(data_root + \\\"cleaned_training.csv\\\", index=False)\";\n",
       "                var nbb_cells = Jupyter.notebook.get_cells();\n",
       "                for (var i = 0; i < nbb_cells.length; ++i) {\n",
       "                    if (nbb_cells[i].input_prompt_number == nbb_cell_id) {\n",
       "                        if (nbb_cells[i].get_text() == nbb_unformatted_code) {\n",
       "                             nbb_cells[i].set_text(nbb_formatted_code);\n",
       "                        }\n",
       "                        break;\n",
       "                    }\n",
       "                }\n",
       "            }, 500);\n",
       "            "
      ],
      "text/plain": [
       "<IPython.core.display.Javascript object>"
      ]
     },
     "metadata": {},
     "output_type": "display_data"
    }
   ],
   "source": [
    "full_training_data.to_csv(data_root + \"cleaned_training.csv\", index=False)"
   ]
  },
  {
   "cell_type": "markdown",
   "id": "769ad506",
   "metadata": {},
   "source": [
    "### Now, let us recall have has been done so far.\n",
    "\n",
    "We have taken our training data from its raw state to a cleaned state. Now, it is ready to be used for further tasks. \n",
    "\n",
    "What exactly did we do so far:\n",
    "\n",
    "1. Checked the columns in the data and interpret them.\n",
    "2. Checked the datatypes and cast to the right datatype where necessary.\n",
    "3. Reorganised our data. We collected data for each CS sensor and from the columns that contain them and stacked all these data on top of one another.\n",
    "4. Dealt with missing or invalid data. In our own case we dropped them, in other cases you can input them using heuristics or interpolation.\n",
    "5. Created features to account for seasonal/time effects  (`weekend`, `cos_hour`, `sin_hour`,`cos_month`, `sin_month`).\n",
    "6. merged road lenghts information into our data\n"
   ]
  },
  {
   "cell_type": "markdown",
   "id": "01dcc883",
   "metadata": {},
   "source": [
    "# TEST DATA "
   ]
  },
  {
   "cell_type": "markdown",
   "id": "f1df0964",
   "metadata": {},
   "source": [
    "We need to repeat the process we have implemented above for the test set. In certain cases, we might be lucky enough to have test data that is formatted exactly like our training data (thus needing the same set of cleaning operations as the training data). In other cases, we might not be so lucky. Our  project is one of the latter. This gives us the opportunity to adapt and craft the appropiate set and sequence of operations needed to clean the test data and align it (in features) to the training data."
   ]
  },
  {
   "cell_type": "markdown",
   "id": "1f768e5a",
   "metadata": {},
   "source": [
    "**What is the man difference between our test data and our training data**\n",
    "\n",
    "Our test set comes in two `.csv` dataframes covering **September - October** and **November - December**, respectively. We need to **merge** these data together and restructure them for our own use."
   ]
  },
  {
   "cell_type": "markdown",
   "id": "43833721",
   "metadata": {},
   "source": [
    "First, we should load these two dataframes."
   ]
  },
  {
   "cell_type": "code",
   "execution_count": 32,
   "id": "11f35d2a",
   "metadata": {},
   "outputs": [
    {
     "data": {
      "application/javascript": [
       "\n",
       "            setTimeout(function() {\n",
       "                var nbb_cell_id = 32;\n",
       "                var nbb_unformatted_code = \"test_path_1 = data_root + \\\"test-set_Sept-Oct.csv\\\"\\ntest_path_2 = data_root + \\\"test-set_Nov-Dec.csv\\\"\";\n",
       "                var nbb_formatted_code = \"test_path_1 = data_root + \\\"test-set_Sept-Oct.csv\\\"\\ntest_path_2 = data_root + \\\"test-set_Nov-Dec.csv\\\"\";\n",
       "                var nbb_cells = Jupyter.notebook.get_cells();\n",
       "                for (var i = 0; i < nbb_cells.length; ++i) {\n",
       "                    if (nbb_cells[i].input_prompt_number == nbb_cell_id) {\n",
       "                        if (nbb_cells[i].get_text() == nbb_unformatted_code) {\n",
       "                             nbb_cells[i].set_text(nbb_formatted_code);\n",
       "                        }\n",
       "                        break;\n",
       "                    }\n",
       "                }\n",
       "            }, 500);\n",
       "            "
      ],
      "text/plain": [
       "<IPython.core.display.Javascript object>"
      ]
     },
     "metadata": {},
     "output_type": "display_data"
    }
   ],
   "source": [
    "test_path_1 = data_root + \"test-set_Sept-Oct.csv\"\n",
    "test_path_2 = data_root + \"test-set_Nov-Dec.csv\""
   ]
  },
  {
   "cell_type": "code",
   "execution_count": 33,
   "id": "6c38e21d",
   "metadata": {},
   "outputs": [
    {
     "data": {
      "application/javascript": [
       "\n",
       "            setTimeout(function() {\n",
       "                var nbb_cell_id = 33;\n",
       "                var nbb_unformatted_code = \"test_data_1 = pd.read_csv(test_path_1)\\ntest_data_2 = pd.read_csv(test_path_2)\";\n",
       "                var nbb_formatted_code = \"test_data_1 = pd.read_csv(test_path_1)\\ntest_data_2 = pd.read_csv(test_path_2)\";\n",
       "                var nbb_cells = Jupyter.notebook.get_cells();\n",
       "                for (var i = 0; i < nbb_cells.length; ++i) {\n",
       "                    if (nbb_cells[i].input_prompt_number == nbb_cell_id) {\n",
       "                        if (nbb_cells[i].get_text() == nbb_unformatted_code) {\n",
       "                             nbb_cells[i].set_text(nbb_formatted_code);\n",
       "                        }\n",
       "                        break;\n",
       "                    }\n",
       "                }\n",
       "            }, 500);\n",
       "            "
      ],
      "text/plain": [
       "<IPython.core.display.Javascript object>"
      ]
     },
     "metadata": {},
     "output_type": "display_data"
    }
   ],
   "source": [
    "test_data_1 = pd.read_csv(test_path_1)\n",
    "test_data_2 = pd.read_csv(test_path_2)"
   ]
  },
  {
   "cell_type": "code",
   "execution_count": 34,
   "id": "193a3181",
   "metadata": {},
   "outputs": [
    {
     "data": {
      "application/javascript": [
       "\n",
       "            setTimeout(function() {\n",
       "                var nbb_cell_id = 34;\n",
       "                var nbb_unformatted_code = \"test_data_1[\\\"DateTime\\\"] = pd.to_datetime(test_data_1[\\\"DateTime\\\"])\\ntest_data_2[\\\"DateTime\\\"] = pd.to_datetime(test_data_2[\\\"DateTime\\\"])\";\n",
       "                var nbb_formatted_code = \"test_data_1[\\\"DateTime\\\"] = pd.to_datetime(test_data_1[\\\"DateTime\\\"])\\ntest_data_2[\\\"DateTime\\\"] = pd.to_datetime(test_data_2[\\\"DateTime\\\"])\";\n",
       "                var nbb_cells = Jupyter.notebook.get_cells();\n",
       "                for (var i = 0; i < nbb_cells.length; ++i) {\n",
       "                    if (nbb_cells[i].input_prompt_number == nbb_cell_id) {\n",
       "                        if (nbb_cells[i].get_text() == nbb_unformatted_code) {\n",
       "                             nbb_cells[i].set_text(nbb_formatted_code);\n",
       "                        }\n",
       "                        break;\n",
       "                    }\n",
       "                }\n",
       "            }, 500);\n",
       "            "
      ],
      "text/plain": [
       "<IPython.core.display.Javascript object>"
      ]
     },
     "metadata": {},
     "output_type": "display_data"
    }
   ],
   "source": [
    "test_data_1[\"DateTime\"] = pd.to_datetime(test_data_1[\"DateTime\"])\n",
    "test_data_2[\"DateTime\"] = pd.to_datetime(test_data_2[\"DateTime\"])"
   ]
  },
  {
   "cell_type": "code",
   "execution_count": 35,
   "id": "d8f832b7",
   "metadata": {},
   "outputs": [
    {
     "data": {
      "text/html": [
       "<div>\n",
       "<style scoped>\n",
       "    .dataframe tbody tr th:only-of-type {\n",
       "        vertical-align: middle;\n",
       "    }\n",
       "\n",
       "    .dataframe tbody tr th {\n",
       "        vertical-align: top;\n",
       "    }\n",
       "\n",
       "    .dataframe thead th {\n",
       "        text-align: right;\n",
       "    }\n",
       "</style>\n",
       "<table border=\"1\" class=\"dataframe\">\n",
       "  <thead>\n",
       "    <tr style=\"text-align: right;\">\n",
       "      <th></th>\n",
       "      <th>DateTime</th>\n",
       "      <th>PM2_5(CAMP Collo (CS13)/Canary-S)</th>\n",
       "      <th>PM2_52(CAMP Collo (CS13)/Canary-S)</th>\n",
       "      <th>Temp(CAMP Collo (CS13)/Canary-S)</th>\n",
       "      <th>Hmdty(CAMP Collo (CS13)/Canary-S)</th>\n",
       "      <th>PM2_5(I-25 Denver Collo (CS16)/Canary-S)</th>\n",
       "      <th>PM2_52(I-25 Denver Collo (CS16)/Canary-S)</th>\n",
       "      <th>Temp(I-25 Denver Collo (CS16)/Canary-S)</th>\n",
       "      <th>Hmdty(I-25 Denver Collo (CS16)/Canary-S)</th>\n",
       "      <th>PM2.5(CAMP/AirNow)</th>\n",
       "      <th>PM2.5(I-25 Denver/AirNow)</th>\n",
       "    </tr>\n",
       "  </thead>\n",
       "  <tbody>\n",
       "    <tr>\n",
       "      <th>0</th>\n",
       "      <td>2019-09-03 01:00:00</td>\n",
       "      <td>NaN</td>\n",
       "      <td>NaN</td>\n",
       "      <td>NaN</td>\n",
       "      <td>NaN</td>\n",
       "      <td>16.6236</td>\n",
       "      <td>15.8221</td>\n",
       "      <td>82.1851</td>\n",
       "      <td>20.0231</td>\n",
       "      <td>7.50</td>\n",
       "      <td>NaN</td>\n",
       "    </tr>\n",
       "    <tr>\n",
       "      <th>1</th>\n",
       "      <td>2019-09-03 02:00:00</td>\n",
       "      <td>NaN</td>\n",
       "      <td>NaN</td>\n",
       "      <td>NaN</td>\n",
       "      <td>NaN</td>\n",
       "      <td>10.8216</td>\n",
       "      <td>10.1926</td>\n",
       "      <td>79.5585</td>\n",
       "      <td>19.4477</td>\n",
       "      <td>6.95</td>\n",
       "      <td>NaN</td>\n",
       "    </tr>\n",
       "    <tr>\n",
       "      <th>2</th>\n",
       "      <td>2019-09-03 03:00:00</td>\n",
       "      <td>NaN</td>\n",
       "      <td>NaN</td>\n",
       "      <td>NaN</td>\n",
       "      <td>NaN</td>\n",
       "      <td>11.9641</td>\n",
       "      <td>11.2841</td>\n",
       "      <td>76.9530</td>\n",
       "      <td>23.0715</td>\n",
       "      <td>6.30</td>\n",
       "      <td>NaN</td>\n",
       "    </tr>\n",
       "    <tr>\n",
       "      <th>3</th>\n",
       "      <td>2019-09-03 04:00:00</td>\n",
       "      <td>NaN</td>\n",
       "      <td>NaN</td>\n",
       "      <td>NaN</td>\n",
       "      <td>NaN</td>\n",
       "      <td>8.3010</td>\n",
       "      <td>8.1568</td>\n",
       "      <td>74.6737</td>\n",
       "      <td>24.3077</td>\n",
       "      <td>6.30</td>\n",
       "      <td>NaN</td>\n",
       "    </tr>\n",
       "    <tr>\n",
       "      <th>4</th>\n",
       "      <td>2019-09-03 05:00:00</td>\n",
       "      <td>NaN</td>\n",
       "      <td>NaN</td>\n",
       "      <td>NaN</td>\n",
       "      <td>NaN</td>\n",
       "      <td>6.6653</td>\n",
       "      <td>6.3072</td>\n",
       "      <td>72.3845</td>\n",
       "      <td>27.5498</td>\n",
       "      <td>5.20</td>\n",
       "      <td>NaN</td>\n",
       "    </tr>\n",
       "  </tbody>\n",
       "</table>\n",
       "</div>"
      ],
      "text/plain": [
       "             DateTime  PM2_5(CAMP Collo (CS13)/Canary-S)  \\\n",
       "0 2019-09-03 01:00:00                                NaN   \n",
       "1 2019-09-03 02:00:00                                NaN   \n",
       "2 2019-09-03 03:00:00                                NaN   \n",
       "3 2019-09-03 04:00:00                                NaN   \n",
       "4 2019-09-03 05:00:00                                NaN   \n",
       "\n",
       "   PM2_52(CAMP Collo (CS13)/Canary-S)  Temp(CAMP Collo (CS13)/Canary-S)  \\\n",
       "0                                 NaN                               NaN   \n",
       "1                                 NaN                               NaN   \n",
       "2                                 NaN                               NaN   \n",
       "3                                 NaN                               NaN   \n",
       "4                                 NaN                               NaN   \n",
       "\n",
       "   Hmdty(CAMP Collo (CS13)/Canary-S)  \\\n",
       "0                                NaN   \n",
       "1                                NaN   \n",
       "2                                NaN   \n",
       "3                                NaN   \n",
       "4                                NaN   \n",
       "\n",
       "   PM2_5(I-25 Denver Collo (CS16)/Canary-S)  \\\n",
       "0                                   16.6236   \n",
       "1                                   10.8216   \n",
       "2                                   11.9641   \n",
       "3                                    8.3010   \n",
       "4                                    6.6653   \n",
       "\n",
       "   PM2_52(I-25 Denver Collo (CS16)/Canary-S)  \\\n",
       "0                                    15.8221   \n",
       "1                                    10.1926   \n",
       "2                                    11.2841   \n",
       "3                                     8.1568   \n",
       "4                                     6.3072   \n",
       "\n",
       "   Temp(I-25 Denver Collo (CS16)/Canary-S)  \\\n",
       "0                                  82.1851   \n",
       "1                                  79.5585   \n",
       "2                                  76.9530   \n",
       "3                                  74.6737   \n",
       "4                                  72.3845   \n",
       "\n",
       "   Hmdty(I-25 Denver Collo (CS16)/Canary-S)  PM2.5(CAMP/AirNow)  \\\n",
       "0                                   20.0231                7.50   \n",
       "1                                   19.4477                6.95   \n",
       "2                                   23.0715                6.30   \n",
       "3                                   24.3077                6.30   \n",
       "4                                   27.5498                5.20   \n",
       "\n",
       "   PM2.5(I-25 Denver/AirNow)  \n",
       "0                        NaN  \n",
       "1                        NaN  \n",
       "2                        NaN  \n",
       "3                        NaN  \n",
       "4                        NaN  "
      ]
     },
     "execution_count": 35,
     "metadata": {},
     "output_type": "execute_result"
    },
    {
     "data": {
      "application/javascript": [
       "\n",
       "            setTimeout(function() {\n",
       "                var nbb_cell_id = 35;\n",
       "                var nbb_unformatted_code = \"test_data_1.head()\";\n",
       "                var nbb_formatted_code = \"test_data_1.head()\";\n",
       "                var nbb_cells = Jupyter.notebook.get_cells();\n",
       "                for (var i = 0; i < nbb_cells.length; ++i) {\n",
       "                    if (nbb_cells[i].input_prompt_number == nbb_cell_id) {\n",
       "                        if (nbb_cells[i].get_text() == nbb_unformatted_code) {\n",
       "                             nbb_cells[i].set_text(nbb_formatted_code);\n",
       "                        }\n",
       "                        break;\n",
       "                    }\n",
       "                }\n",
       "            }, 500);\n",
       "            "
      ],
      "text/plain": [
       "<IPython.core.display.Javascript object>"
      ]
     },
     "metadata": {},
     "output_type": "display_data"
    }
   ],
   "source": [
    "test_data_1.head()"
   ]
  },
  {
   "cell_type": "code",
   "execution_count": 36,
   "id": "4c54ec92",
   "metadata": {},
   "outputs": [
    {
     "data": {
      "text/html": [
       "<div>\n",
       "<style scoped>\n",
       "    .dataframe tbody tr th:only-of-type {\n",
       "        vertical-align: middle;\n",
       "    }\n",
       "\n",
       "    .dataframe tbody tr th {\n",
       "        vertical-align: top;\n",
       "    }\n",
       "\n",
       "    .dataframe thead th {\n",
       "        text-align: right;\n",
       "    }\n",
       "</style>\n",
       "<table border=\"1\" class=\"dataframe\">\n",
       "  <thead>\n",
       "    <tr style=\"text-align: right;\">\n",
       "      <th></th>\n",
       "      <th>DateTime</th>\n",
       "      <th>PM2_5(CAMP Collo (CS13)/Canary-S)</th>\n",
       "      <th>PM2_52(CAMP Collo (CS13)/Canary-S)</th>\n",
       "      <th>Temp(CAMP Collo (CS13)/Canary-S)</th>\n",
       "      <th>Hmdty(CAMP Collo (CS13)/Canary-S)</th>\n",
       "      <th>PM2_5(I-25 Denver Collo (CS16)/Canary-S)</th>\n",
       "      <th>PM2_52(I-25 Denver Collo (CS16)/Canary-S)</th>\n",
       "      <th>Temp(I-25 Denver Collo (CS16)/Canary-S)</th>\n",
       "      <th>Hmdty(I-25 Denver Collo (CS16)/Canary-S)</th>\n",
       "      <th>PM2.5(CAMP/AirNow)</th>\n",
       "      <th>PM2.5(I-25 Denver/AirNow)</th>\n",
       "    </tr>\n",
       "  </thead>\n",
       "  <tbody>\n",
       "    <tr>\n",
       "      <th>0</th>\n",
       "      <td>2019-11-01 01:00:00</td>\n",
       "      <td>41.7772</td>\n",
       "      <td>39.6055</td>\n",
       "      <td>31.9566</td>\n",
       "      <td>80.6328</td>\n",
       "      <td>47.9812</td>\n",
       "      <td>49.1725</td>\n",
       "      <td>34.5328</td>\n",
       "      <td>54.2232</td>\n",
       "      <td>NaN</td>\n",
       "      <td>20.4</td>\n",
       "    </tr>\n",
       "    <tr>\n",
       "      <th>1</th>\n",
       "      <td>2019-11-01 02:00:00</td>\n",
       "      <td>44.9492</td>\n",
       "      <td>42.4250</td>\n",
       "      <td>31.1570</td>\n",
       "      <td>87.8583</td>\n",
       "      <td>51.4340</td>\n",
       "      <td>53.1133</td>\n",
       "      <td>33.4683</td>\n",
       "      <td>58.0150</td>\n",
       "      <td>NaN</td>\n",
       "      <td>22.0</td>\n",
       "    </tr>\n",
       "    <tr>\n",
       "      <th>2</th>\n",
       "      <td>2019-11-01 03:00:00</td>\n",
       "      <td>45.6350</td>\n",
       "      <td>43.2730</td>\n",
       "      <td>29.1430</td>\n",
       "      <td>89.7467</td>\n",
       "      <td>53.3320</td>\n",
       "      <td>55.1397</td>\n",
       "      <td>32.3287</td>\n",
       "      <td>61.0565</td>\n",
       "      <td>NaN</td>\n",
       "      <td>23.3</td>\n",
       "    </tr>\n",
       "    <tr>\n",
       "      <th>3</th>\n",
       "      <td>2019-11-01 04:00:00</td>\n",
       "      <td>46.5482</td>\n",
       "      <td>44.2198</td>\n",
       "      <td>28.7460</td>\n",
       "      <td>89.5550</td>\n",
       "      <td>55.9592</td>\n",
       "      <td>57.7683</td>\n",
       "      <td>32.0738</td>\n",
       "      <td>63.3500</td>\n",
       "      <td>NaN</td>\n",
       "      <td>24.9</td>\n",
       "    </tr>\n",
       "    <tr>\n",
       "      <th>4</th>\n",
       "      <td>2019-11-01 05:00:00</td>\n",
       "      <td>43.7972</td>\n",
       "      <td>41.3442</td>\n",
       "      <td>29.2220</td>\n",
       "      <td>89.3917</td>\n",
       "      <td>52.6052</td>\n",
       "      <td>54.6040</td>\n",
       "      <td>31.9597</td>\n",
       "      <td>61.0929</td>\n",
       "      <td>NaN</td>\n",
       "      <td>22.8</td>\n",
       "    </tr>\n",
       "  </tbody>\n",
       "</table>\n",
       "</div>"
      ],
      "text/plain": [
       "             DateTime  PM2_5(CAMP Collo (CS13)/Canary-S)  \\\n",
       "0 2019-11-01 01:00:00                            41.7772   \n",
       "1 2019-11-01 02:00:00                            44.9492   \n",
       "2 2019-11-01 03:00:00                            45.6350   \n",
       "3 2019-11-01 04:00:00                            46.5482   \n",
       "4 2019-11-01 05:00:00                            43.7972   \n",
       "\n",
       "   PM2_52(CAMP Collo (CS13)/Canary-S)  Temp(CAMP Collo (CS13)/Canary-S)  \\\n",
       "0                             39.6055                           31.9566   \n",
       "1                             42.4250                           31.1570   \n",
       "2                             43.2730                           29.1430   \n",
       "3                             44.2198                           28.7460   \n",
       "4                             41.3442                           29.2220   \n",
       "\n",
       "   Hmdty(CAMP Collo (CS13)/Canary-S)  \\\n",
       "0                            80.6328   \n",
       "1                            87.8583   \n",
       "2                            89.7467   \n",
       "3                            89.5550   \n",
       "4                            89.3917   \n",
       "\n",
       "   PM2_5(I-25 Denver Collo (CS16)/Canary-S)  \\\n",
       "0                                   47.9812   \n",
       "1                                   51.4340   \n",
       "2                                   53.3320   \n",
       "3                                   55.9592   \n",
       "4                                   52.6052   \n",
       "\n",
       "   PM2_52(I-25 Denver Collo (CS16)/Canary-S)  \\\n",
       "0                                    49.1725   \n",
       "1                                    53.1133   \n",
       "2                                    55.1397   \n",
       "3                                    57.7683   \n",
       "4                                    54.6040   \n",
       "\n",
       "   Temp(I-25 Denver Collo (CS16)/Canary-S)  \\\n",
       "0                                  34.5328   \n",
       "1                                  33.4683   \n",
       "2                                  32.3287   \n",
       "3                                  32.0738   \n",
       "4                                  31.9597   \n",
       "\n",
       "   Hmdty(I-25 Denver Collo (CS16)/Canary-S)  PM2.5(CAMP/AirNow)  \\\n",
       "0                                   54.2232                 NaN   \n",
       "1                                   58.0150                 NaN   \n",
       "2                                   61.0565                 NaN   \n",
       "3                                   63.3500                 NaN   \n",
       "4                                   61.0929                 NaN   \n",
       "\n",
       "   PM2.5(I-25 Denver/AirNow)  \n",
       "0                       20.4  \n",
       "1                       22.0  \n",
       "2                       23.3  \n",
       "3                       24.9  \n",
       "4                       22.8  "
      ]
     },
     "execution_count": 36,
     "metadata": {},
     "output_type": "execute_result"
    },
    {
     "data": {
      "application/javascript": [
       "\n",
       "            setTimeout(function() {\n",
       "                var nbb_cell_id = 36;\n",
       "                var nbb_unformatted_code = \"test_data_2.head()\";\n",
       "                var nbb_formatted_code = \"test_data_2.head()\";\n",
       "                var nbb_cells = Jupyter.notebook.get_cells();\n",
       "                for (var i = 0; i < nbb_cells.length; ++i) {\n",
       "                    if (nbb_cells[i].input_prompt_number == nbb_cell_id) {\n",
       "                        if (nbb_cells[i].get_text() == nbb_unformatted_code) {\n",
       "                             nbb_cells[i].set_text(nbb_formatted_code);\n",
       "                        }\n",
       "                        break;\n",
       "                    }\n",
       "                }\n",
       "            }, 500);\n",
       "            "
      ],
      "text/plain": [
       "<IPython.core.display.Javascript object>"
      ]
     },
     "metadata": {},
     "output_type": "display_data"
    }
   ],
   "source": [
    "test_data_2.head()"
   ]
  },
  {
   "cell_type": "code",
   "execution_count": 37,
   "id": "4d0cd990",
   "metadata": {},
   "outputs": [
    {
     "data": {
      "text/plain": [
       "DateTime                                     datetime64[ns]\n",
       "PM2_5(CAMP Collo (CS13)/Canary-S)                   float64\n",
       "PM2_52(CAMP Collo (CS13)/Canary-S)                  float64\n",
       "Temp(CAMP Collo (CS13)/Canary-S)                    float64\n",
       "Hmdty(CAMP Collo (CS13)/Canary-S)                   float64\n",
       "PM2_5(I-25 Denver Collo (CS16)/Canary-S)            float64\n",
       "PM2_52(I-25 Denver Collo (CS16)/Canary-S)           float64\n",
       "Temp(I-25 Denver Collo (CS16)/Canary-S)             float64\n",
       "Hmdty(I-25 Denver Collo (CS16)/Canary-S)            float64\n",
       "PM2.5(CAMP/AirNow)                                  float64\n",
       "PM2.5(I-25 Denver/AirNow)                           float64\n",
       "dtype: object"
      ]
     },
     "execution_count": 37,
     "metadata": {},
     "output_type": "execute_result"
    },
    {
     "data": {
      "application/javascript": [
       "\n",
       "            setTimeout(function() {\n",
       "                var nbb_cell_id = 37;\n",
       "                var nbb_unformatted_code = \"test_data_1.dtypes\";\n",
       "                var nbb_formatted_code = \"test_data_1.dtypes\";\n",
       "                var nbb_cells = Jupyter.notebook.get_cells();\n",
       "                for (var i = 0; i < nbb_cells.length; ++i) {\n",
       "                    if (nbb_cells[i].input_prompt_number == nbb_cell_id) {\n",
       "                        if (nbb_cells[i].get_text() == nbb_unformatted_code) {\n",
       "                             nbb_cells[i].set_text(nbb_formatted_code);\n",
       "                        }\n",
       "                        break;\n",
       "                    }\n",
       "                }\n",
       "            }, 500);\n",
       "            "
      ],
      "text/plain": [
       "<IPython.core.display.Javascript object>"
      ]
     },
     "metadata": {},
     "output_type": "display_data"
    }
   ],
   "source": [
    "test_data_1.dtypes"
   ]
  },
  {
   "cell_type": "code",
   "execution_count": 38,
   "id": "bd979711",
   "metadata": {},
   "outputs": [
    {
     "data": {
      "text/plain": [
       "DateTime                                     datetime64[ns]\n",
       "PM2_5(CAMP Collo (CS13)/Canary-S)                   float64\n",
       "PM2_52(CAMP Collo (CS13)/Canary-S)                  float64\n",
       "Temp(CAMP Collo (CS13)/Canary-S)                    float64\n",
       "Hmdty(CAMP Collo (CS13)/Canary-S)                   float64\n",
       "PM2_5(I-25 Denver Collo (CS16)/Canary-S)            float64\n",
       "PM2_52(I-25 Denver Collo (CS16)/Canary-S)           float64\n",
       "Temp(I-25 Denver Collo (CS16)/Canary-S)             float64\n",
       "Hmdty(I-25 Denver Collo (CS16)/Canary-S)            float64\n",
       "PM2.5(CAMP/AirNow)                                  float64\n",
       "PM2.5(I-25 Denver/AirNow)                           float64\n",
       "dtype: object"
      ]
     },
     "execution_count": 38,
     "metadata": {},
     "output_type": "execute_result"
    },
    {
     "data": {
      "application/javascript": [
       "\n",
       "            setTimeout(function() {\n",
       "                var nbb_cell_id = 38;\n",
       "                var nbb_unformatted_code = \"test_data_2.dtypes\";\n",
       "                var nbb_formatted_code = \"test_data_2.dtypes\";\n",
       "                var nbb_cells = Jupyter.notebook.get_cells();\n",
       "                for (var i = 0; i < nbb_cells.length; ++i) {\n",
       "                    if (nbb_cells[i].input_prompt_number == nbb_cell_id) {\n",
       "                        if (nbb_cells[i].get_text() == nbb_unformatted_code) {\n",
       "                             nbb_cells[i].set_text(nbb_formatted_code);\n",
       "                        }\n",
       "                        break;\n",
       "                    }\n",
       "                }\n",
       "            }, 500);\n",
       "            "
      ],
      "text/plain": [
       "<IPython.core.display.Javascript object>"
      ]
     },
     "metadata": {},
     "output_type": "display_data"
    }
   ],
   "source": [
    "test_data_2.dtypes"
   ]
  },
  {
   "cell_type": "markdown",
   "id": "54439f05",
   "metadata": {},
   "source": [
    "The first column (Index 0) has the date/time. Columns  1- 4 has the data from CAMP sensor, 5 - 8 has the data from i-25 Denver sensor. Columns 9 and 10 contain the reference PM2.5 for CAMP and i-25 Denver, respectively"
   ]
  },
  {
   "cell_type": "markdown",
   "id": "4a250e3a",
   "metadata": {},
   "source": [
    "Below, I have created a function to help us reorganise our test data\n"
   ]
  },
  {
   "cell_type": "code",
   "execution_count": 39,
   "id": "b9be8fe7",
   "metadata": {},
   "outputs": [
    {
     "data": {
      "application/javascript": [
       "\n",
       "            setTimeout(function() {\n",
       "                var nbb_cell_id = 39;\n",
       "                var nbb_unformatted_code = \"def organise_test_data(df):\\n\\n    \\\"\\\"\\\"\\n    Utility function to organise our test data\\n\\n    \\\"\\\"\\\"\\n\\n    new_data = pd.DataFrame(\\n        np.vstack(\\n            [\\n                pd.concat(\\n                    [df.iloc[:, 0], df.iloc[:, 1], df.iloc[:, 3:5], df.iloc[:, 9]],\\n                    axis=1,\\n                ),\\n                pd.concat(\\n                    [df.iloc[:, 0], df.iloc[:, 5], df.iloc[:, 7:9], df.iloc[:, 10]],\\n                    axis=1,\\n                ),\\n            ]\\n        ),\\n        columns=[\\\"date_time\\\", \\\"pm_cs\\\", \\\"temp\\\", \\\"humidity\\\", \\\"pm_airnow\\\"],\\n    )\\n\\n    camp_sensor_column = [\\\"CAMP\\\"] * len(df)\\n    denvor_sensor_column = [\\\"i25_denver\\\"] * len(df)\\n    new_data[\\\"airnow_sensor\\\"] = camp_sensor_column + denvor_sensor_column\\n\\n    return new_data\";\n",
       "                var nbb_formatted_code = \"def organise_test_data(df):\\n\\n    \\\"\\\"\\\"\\n    Utility function to organise our test data\\n\\n    \\\"\\\"\\\"\\n\\n    new_data = pd.DataFrame(\\n        np.vstack(\\n            [\\n                pd.concat(\\n                    [df.iloc[:, 0], df.iloc[:, 1], df.iloc[:, 3:5], df.iloc[:, 9]],\\n                    axis=1,\\n                ),\\n                pd.concat(\\n                    [df.iloc[:, 0], df.iloc[:, 5], df.iloc[:, 7:9], df.iloc[:, 10]],\\n                    axis=1,\\n                ),\\n            ]\\n        ),\\n        columns=[\\\"date_time\\\", \\\"pm_cs\\\", \\\"temp\\\", \\\"humidity\\\", \\\"pm_airnow\\\"],\\n    )\\n\\n    camp_sensor_column = [\\\"CAMP\\\"] * len(df)\\n    denvor_sensor_column = [\\\"i25_denver\\\"] * len(df)\\n    new_data[\\\"airnow_sensor\\\"] = camp_sensor_column + denvor_sensor_column\\n\\n    return new_data\";\n",
       "                var nbb_cells = Jupyter.notebook.get_cells();\n",
       "                for (var i = 0; i < nbb_cells.length; ++i) {\n",
       "                    if (nbb_cells[i].input_prompt_number == nbb_cell_id) {\n",
       "                        if (nbb_cells[i].get_text() == nbb_unformatted_code) {\n",
       "                             nbb_cells[i].set_text(nbb_formatted_code);\n",
       "                        }\n",
       "                        break;\n",
       "                    }\n",
       "                }\n",
       "            }, 500);\n",
       "            "
      ],
      "text/plain": [
       "<IPython.core.display.Javascript object>"
      ]
     },
     "metadata": {},
     "output_type": "display_data"
    }
   ],
   "source": [
    "def organise_test_data(df):\n",
    "\n",
    "    \"\"\"\n",
    "    Utility function to organise our test data\n",
    "\n",
    "    \"\"\"\n",
    "\n",
    "    new_data = pd.DataFrame(\n",
    "        np.vstack(\n",
    "            [\n",
    "                pd.concat(\n",
    "                    [df.iloc[:, 0], df.iloc[:, 1], df.iloc[:, 3:5], df.iloc[:, 9]],\n",
    "                    axis=1,\n",
    "                ),\n",
    "                pd.concat(\n",
    "                    [df.iloc[:, 0], df.iloc[:, 5], df.iloc[:, 7:9], df.iloc[:, 10]],\n",
    "                    axis=1,\n",
    "                ),\n",
    "            ]\n",
    "        ),\n",
    "        columns=[\"date_time\", \"pm_cs\", \"temp\", \"humidity\", \"pm_airnow\"],\n",
    "    )\n",
    "\n",
    "    camp_sensor_column = [\"CAMP\"] * len(df)\n",
    "    denvor_sensor_column = [\"i25_denver\"] * len(df)\n",
    "    new_data[\"airnow_sensor\"] = camp_sensor_column + denvor_sensor_column\n",
    "\n",
    "    return new_data"
   ]
  },
  {
   "cell_type": "code",
   "execution_count": 40,
   "id": "b19be151",
   "metadata": {},
   "outputs": [
    {
     "data": {
      "application/javascript": [
       "\n",
       "            setTimeout(function() {\n",
       "                var nbb_cell_id = 40;\n",
       "                var nbb_unformatted_code = \"test_data_stacked_1 = organise_test_data(test_data_1)\\ntest_data_stacked_2 = organise_test_data(test_data_2)\";\n",
       "                var nbb_formatted_code = \"test_data_stacked_1 = organise_test_data(test_data_1)\\ntest_data_stacked_2 = organise_test_data(test_data_2)\";\n",
       "                var nbb_cells = Jupyter.notebook.get_cells();\n",
       "                for (var i = 0; i < nbb_cells.length; ++i) {\n",
       "                    if (nbb_cells[i].input_prompt_number == nbb_cell_id) {\n",
       "                        if (nbb_cells[i].get_text() == nbb_unformatted_code) {\n",
       "                             nbb_cells[i].set_text(nbb_formatted_code);\n",
       "                        }\n",
       "                        break;\n",
       "                    }\n",
       "                }\n",
       "            }, 500);\n",
       "            "
      ],
      "text/plain": [
       "<IPython.core.display.Javascript object>"
      ]
     },
     "metadata": {},
     "output_type": "display_data"
    }
   ],
   "source": [
    "test_data_stacked_1 = organise_test_data(test_data_1)\n",
    "test_data_stacked_2 = organise_test_data(test_data_2)"
   ]
  },
  {
   "cell_type": "code",
   "execution_count": 41,
   "id": "7bc8523e",
   "metadata": {},
   "outputs": [
    {
     "data": {
      "application/javascript": [
       "\n",
       "            setTimeout(function() {\n",
       "                var nbb_cell_id = 41;\n",
       "                var nbb_unformatted_code = \"full_test_data = pd.concat([test_data_stacked_1, test_data_stacked_2], axis=0)\";\n",
       "                var nbb_formatted_code = \"full_test_data = pd.concat([test_data_stacked_1, test_data_stacked_2], axis=0)\";\n",
       "                var nbb_cells = Jupyter.notebook.get_cells();\n",
       "                for (var i = 0; i < nbb_cells.length; ++i) {\n",
       "                    if (nbb_cells[i].input_prompt_number == nbb_cell_id) {\n",
       "                        if (nbb_cells[i].get_text() == nbb_unformatted_code) {\n",
       "                             nbb_cells[i].set_text(nbb_formatted_code);\n",
       "                        }\n",
       "                        break;\n",
       "                    }\n",
       "                }\n",
       "            }, 500);\n",
       "            "
      ],
      "text/plain": [
       "<IPython.core.display.Javascript object>"
      ]
     },
     "metadata": {},
     "output_type": "display_data"
    }
   ],
   "source": [
    "full_test_data = pd.concat([test_data_stacked_1, test_data_stacked_2], axis=0)"
   ]
  },
  {
   "cell_type": "code",
   "execution_count": 42,
   "id": "4a288a97",
   "metadata": {},
   "outputs": [
    {
     "data": {
      "application/javascript": [
       "\n",
       "            setTimeout(function() {\n",
       "                var nbb_cell_id = 42;\n",
       "                var nbb_unformatted_code = \"full_test_data[\\\"cs_sensor\\\"] = full_test_data[\\\"airnow_sensor\\\"]\";\n",
       "                var nbb_formatted_code = \"full_test_data[\\\"cs_sensor\\\"] = full_test_data[\\\"airnow_sensor\\\"]\";\n",
       "                var nbb_cells = Jupyter.notebook.get_cells();\n",
       "                for (var i = 0; i < nbb_cells.length; ++i) {\n",
       "                    if (nbb_cells[i].input_prompt_number == nbb_cell_id) {\n",
       "                        if (nbb_cells[i].get_text() == nbb_unformatted_code) {\n",
       "                             nbb_cells[i].set_text(nbb_formatted_code);\n",
       "                        }\n",
       "                        break;\n",
       "                    }\n",
       "                }\n",
       "            }, 500);\n",
       "            "
      ],
      "text/plain": [
       "<IPython.core.display.Javascript object>"
      ]
     },
     "metadata": {},
     "output_type": "display_data"
    }
   ],
   "source": [
    "full_test_data[\"cs_sensor\"] = full_test_data[\"airnow_sensor\"]"
   ]
  },
  {
   "cell_type": "markdown",
   "id": "c46085ff",
   "metadata": {},
   "source": [
    "## Now can we filter the NaNs and invalid values from this column"
   ]
  },
  {
   "cell_type": "code",
   "execution_count": 43,
   "id": "659c22c3",
   "metadata": {},
   "outputs": [
    {
     "name": "stdout",
     "output_type": "stream",
     "text": [
      "We are starting with 4946 observations\n"
     ]
    },
    {
     "data": {
      "application/javascript": [
       "\n",
       "            setTimeout(function() {\n",
       "                var nbb_cell_id = 43;\n",
       "                var nbb_unformatted_code = \"print(f\\\"We are starting with {len(full_test_data)} observations\\\")\";\n",
       "                var nbb_formatted_code = \"print(f\\\"We are starting with {len(full_test_data)} observations\\\")\";\n",
       "                var nbb_cells = Jupyter.notebook.get_cells();\n",
       "                for (var i = 0; i < nbb_cells.length; ++i) {\n",
       "                    if (nbb_cells[i].input_prompt_number == nbb_cell_id) {\n",
       "                        if (nbb_cells[i].get_text() == nbb_unformatted_code) {\n",
       "                             nbb_cells[i].set_text(nbb_formatted_code);\n",
       "                        }\n",
       "                        break;\n",
       "                    }\n",
       "                }\n",
       "            }, 500);\n",
       "            "
      ],
      "text/plain": [
       "<IPython.core.display.Javascript object>"
      ]
     },
     "metadata": {},
     "output_type": "display_data"
    }
   ],
   "source": [
    "print(f\"We are starting with {len(full_test_data)} observations\")"
   ]
  },
  {
   "cell_type": "code",
   "execution_count": 44,
   "id": "006d91e9",
   "metadata": {},
   "outputs": [
    {
     "data": {
      "application/javascript": [
       "\n",
       "            setTimeout(function() {\n",
       "                var nbb_cell_id = 44;\n",
       "                var nbb_unformatted_code = \"full_test_data = full_test_data[\\n    (full_test_data[\\\"pm_airnow\\\"] > low)\\n    & (full_test_data[\\\"pm_cs\\\"] > low)\\n    & (full_test_data[\\\"temp\\\"] > low)\\n    & (full_test_data[\\\"humidity\\\"] > low)\\n    & (full_test_data[\\\"pm_cs\\\"] < high)\\n]\\n\\nfull_test_data = full_test_data.dropna(\\n    subset=[\\\"pm_cs\\\", \\\"temp\\\", \\\"humidity\\\", \\\"pm_airnow\\\"]\\n)\";\n",
       "                var nbb_formatted_code = \"full_test_data = full_test_data[\\n    (full_test_data[\\\"pm_airnow\\\"] > low)\\n    & (full_test_data[\\\"pm_cs\\\"] > low)\\n    & (full_test_data[\\\"temp\\\"] > low)\\n    & (full_test_data[\\\"humidity\\\"] > low)\\n    & (full_test_data[\\\"pm_cs\\\"] < high)\\n]\\n\\nfull_test_data = full_test_data.dropna(\\n    subset=[\\\"pm_cs\\\", \\\"temp\\\", \\\"humidity\\\", \\\"pm_airnow\\\"]\\n)\";\n",
       "                var nbb_cells = Jupyter.notebook.get_cells();\n",
       "                for (var i = 0; i < nbb_cells.length; ++i) {\n",
       "                    if (nbb_cells[i].input_prompt_number == nbb_cell_id) {\n",
       "                        if (nbb_cells[i].get_text() == nbb_unformatted_code) {\n",
       "                             nbb_cells[i].set_text(nbb_formatted_code);\n",
       "                        }\n",
       "                        break;\n",
       "                    }\n",
       "                }\n",
       "            }, 500);\n",
       "            "
      ],
      "text/plain": [
       "<IPython.core.display.Javascript object>"
      ]
     },
     "metadata": {},
     "output_type": "display_data"
    }
   ],
   "source": [
    "full_test_data = full_test_data[\n",
    "    (full_test_data[\"pm_airnow\"] > low)\n",
    "    & (full_test_data[\"pm_cs\"] > low)\n",
    "    & (full_test_data[\"temp\"] > low)\n",
    "    & (full_test_data[\"humidity\"] > low)\n",
    "    & (full_test_data[\"pm_cs\"] < high)\n",
    "]\n",
    "\n",
    "full_test_data = full_test_data.dropna(\n",
    "    subset=[\"pm_cs\", \"temp\", \"humidity\", \"pm_airnow\"]\n",
    ")"
   ]
  },
  {
   "cell_type": "code",
   "execution_count": 45,
   "id": "6ed4ceb6",
   "metadata": {},
   "outputs": [
    {
     "name": "stdout",
     "output_type": "stream",
     "text": [
      "Now we are left with 3006 hourly observation as our training data\n"
     ]
    },
    {
     "data": {
      "application/javascript": [
       "\n",
       "            setTimeout(function() {\n",
       "                var nbb_cell_id = 45;\n",
       "                var nbb_unformatted_code = \"print(\\n    f\\\"Now we are left with {len(full_test_data)} hourly observation as our training data\\\"\\n)\";\n",
       "                var nbb_formatted_code = \"print(\\n    f\\\"Now we are left with {len(full_test_data)} hourly observation as our training data\\\"\\n)\";\n",
       "                var nbb_cells = Jupyter.notebook.get_cells();\n",
       "                for (var i = 0; i < nbb_cells.length; ++i) {\n",
       "                    if (nbb_cells[i].input_prompt_number == nbb_cell_id) {\n",
       "                        if (nbb_cells[i].get_text() == nbb_unformatted_code) {\n",
       "                             nbb_cells[i].set_text(nbb_formatted_code);\n",
       "                        }\n",
       "                        break;\n",
       "                    }\n",
       "                }\n",
       "            }, 500);\n",
       "            "
      ],
      "text/plain": [
       "<IPython.core.display.Javascript object>"
      ]
     },
     "metadata": {},
     "output_type": "display_data"
    }
   ],
   "source": [
    "print(\n",
    "    f\"Now we are left with {len(full_test_data)} hourly observation as our training data\"\n",
    ")"
   ]
  },
  {
   "cell_type": "markdown",
   "id": "444b8897",
   "metadata": {},
   "source": [
    "## Add time  and month variables to dataframe"
   ]
  },
  {
   "cell_type": "code",
   "execution_count": 46,
   "id": "1e1f2c5c",
   "metadata": {},
   "outputs": [
    {
     "data": {
      "application/javascript": [
       "\n",
       "            setTimeout(function() {\n",
       "                var nbb_cell_id = 46;\n",
       "                var nbb_unformatted_code = \"full_test_data[\\\"time\\\"] = full_test_data[\\\"date_time\\\"].dt.hour\\nfull_test_data[\\\"month\\\"] = full_test_data[\\\"date_time\\\"].dt.month\\nfull_test_data[\\\"weekend\\\"] = (full_test_data[\\\"date_time\\\"].dt.dayofweek >= 4).astype(\\n    \\\"int\\\"\\n)\";\n",
       "                var nbb_formatted_code = \"full_test_data[\\\"time\\\"] = full_test_data[\\\"date_time\\\"].dt.hour\\nfull_test_data[\\\"month\\\"] = full_test_data[\\\"date_time\\\"].dt.month\\nfull_test_data[\\\"weekend\\\"] = (full_test_data[\\\"date_time\\\"].dt.dayofweek >= 4).astype(\\n    \\\"int\\\"\\n)\";\n",
       "                var nbb_cells = Jupyter.notebook.get_cells();\n",
       "                for (var i = 0; i < nbb_cells.length; ++i) {\n",
       "                    if (nbb_cells[i].input_prompt_number == nbb_cell_id) {\n",
       "                        if (nbb_cells[i].get_text() == nbb_unformatted_code) {\n",
       "                             nbb_cells[i].set_text(nbb_formatted_code);\n",
       "                        }\n",
       "                        break;\n",
       "                    }\n",
       "                }\n",
       "            }, 500);\n",
       "            "
      ],
      "text/plain": [
       "<IPython.core.display.Javascript object>"
      ]
     },
     "metadata": {},
     "output_type": "display_data"
    }
   ],
   "source": [
    "full_test_data[\"time\"] = full_test_data[\"date_time\"].dt.hour\n",
    "full_test_data[\"month\"] = full_test_data[\"date_time\"].dt.month\n",
    "full_test_data[\"weekend\"] = (full_test_data[\"date_time\"].dt.dayofweek >= 4).astype(\n",
    "    \"int\"\n",
    ")"
   ]
  },
  {
   "cell_type": "markdown",
   "id": "cc443610",
   "metadata": {},
   "source": [
    "##### Cyclical encoding of time and month columns"
   ]
  },
  {
   "cell_type": "code",
   "execution_count": 47,
   "id": "bb965585",
   "metadata": {},
   "outputs": [
    {
     "data": {
      "application/javascript": [
       "\n",
       "            setTimeout(function() {\n",
       "                var nbb_cell_id = 47;\n",
       "                var nbb_unformatted_code = \"full_test_data[\\\"sin_time\\\"] = full_test_data[\\\"time\\\"].apply(\\n    lambda x: math.sin(x) * 2 * (math.pi / 24)\\n)\\nfull_test_data[\\\"cos_time\\\"] = full_test_data[\\\"time\\\"].apply(\\n    lambda x: math.cos(x) * 2 * (math.pi / 24)\\n)\\nfull_test_data[\\\"cos_month\\\"] = full_test_data[\\\"month\\\"].apply(\\n    lambda x: math.sin(x) * 2 * (math.pi / 12)\\n)\\nfull_test_data[\\\"sin_month\\\"] = full_test_data[\\\"month\\\"].apply(\\n    lambda x: math.cos(x) * 2 * (math.pi / 12)\\n)\";\n",
       "                var nbb_formatted_code = \"full_test_data[\\\"sin_time\\\"] = full_test_data[\\\"time\\\"].apply(\\n    lambda x: math.sin(x) * 2 * (math.pi / 24)\\n)\\nfull_test_data[\\\"cos_time\\\"] = full_test_data[\\\"time\\\"].apply(\\n    lambda x: math.cos(x) * 2 * (math.pi / 24)\\n)\\nfull_test_data[\\\"cos_month\\\"] = full_test_data[\\\"month\\\"].apply(\\n    lambda x: math.sin(x) * 2 * (math.pi / 12)\\n)\\nfull_test_data[\\\"sin_month\\\"] = full_test_data[\\\"month\\\"].apply(\\n    lambda x: math.cos(x) * 2 * (math.pi / 12)\\n)\";\n",
       "                var nbb_cells = Jupyter.notebook.get_cells();\n",
       "                for (var i = 0; i < nbb_cells.length; ++i) {\n",
       "                    if (nbb_cells[i].input_prompt_number == nbb_cell_id) {\n",
       "                        if (nbb_cells[i].get_text() == nbb_unformatted_code) {\n",
       "                             nbb_cells[i].set_text(nbb_formatted_code);\n",
       "                        }\n",
       "                        break;\n",
       "                    }\n",
       "                }\n",
       "            }, 500);\n",
       "            "
      ],
      "text/plain": [
       "<IPython.core.display.Javascript object>"
      ]
     },
     "metadata": {},
     "output_type": "display_data"
    }
   ],
   "source": [
    "full_test_data[\"sin_time\"] = full_test_data[\"time\"].apply(\n",
    "    lambda x: math.sin(x) * 2 * (math.pi / 24)\n",
    ")\n",
    "full_test_data[\"cos_time\"] = full_test_data[\"time\"].apply(\n",
    "    lambda x: math.cos(x) * 2 * (math.pi / 24)\n",
    ")\n",
    "full_test_data[\"cos_month\"] = full_test_data[\"month\"].apply(\n",
    "    lambda x: math.sin(x) * 2 * (math.pi / 12)\n",
    ")\n",
    "full_test_data[\"sin_month\"] = full_test_data[\"month\"].apply(\n",
    "    lambda x: math.cos(x) * 2 * (math.pi / 12)\n",
    ")"
   ]
  },
  {
   "cell_type": "code",
   "execution_count": 48,
   "id": "f9aa7e10",
   "metadata": {},
   "outputs": [
    {
     "data": {
      "application/javascript": [
       "\n",
       "            setTimeout(function() {\n",
       "                var nbb_cell_id = 48;\n",
       "                var nbb_unformatted_code = \"full_test_data = road_data.merge(full_test_data, on=\\\"airnow_sensor\\\")\";\n",
       "                var nbb_formatted_code = \"full_test_data = road_data.merge(full_test_data, on=\\\"airnow_sensor\\\")\";\n",
       "                var nbb_cells = Jupyter.notebook.get_cells();\n",
       "                for (var i = 0; i < nbb_cells.length; ++i) {\n",
       "                    if (nbb_cells[i].input_prompt_number == nbb_cell_id) {\n",
       "                        if (nbb_cells[i].get_text() == nbb_unformatted_code) {\n",
       "                             nbb_cells[i].set_text(nbb_formatted_code);\n",
       "                        }\n",
       "                        break;\n",
       "                    }\n",
       "                }\n",
       "            }, 500);\n",
       "            "
      ],
      "text/plain": [
       "<IPython.core.display.Javascript object>"
      ]
     },
     "metadata": {},
     "output_type": "display_data"
    }
   ],
   "source": [
    "full_test_data = road_data.merge(full_test_data, on=\"airnow_sensor\")"
   ]
  },
  {
   "cell_type": "code",
   "execution_count": 49,
   "id": "382c2b9f",
   "metadata": {},
   "outputs": [
    {
     "data": {
      "text/html": [
       "<div>\n",
       "<style scoped>\n",
       "    .dataframe tbody tr th:only-of-type {\n",
       "        vertical-align: middle;\n",
       "    }\n",
       "\n",
       "    .dataframe tbody tr th {\n",
       "        vertical-align: top;\n",
       "    }\n",
       "\n",
       "    .dataframe thead th {\n",
       "        text-align: right;\n",
       "    }\n",
       "</style>\n",
       "<table border=\"1\" class=\"dataframe\">\n",
       "  <thead>\n",
       "    <tr style=\"text-align: right;\">\n",
       "      <th></th>\n",
       "      <th>airnow_sensor</th>\n",
       "      <th>longitude</th>\n",
       "      <th>latitude</th>\n",
       "      <th>a_road_500</th>\n",
       "      <th>date_time</th>\n",
       "      <th>pm_cs</th>\n",
       "      <th>temp</th>\n",
       "      <th>humidity</th>\n",
       "      <th>pm_airnow</th>\n",
       "      <th>cs_sensor</th>\n",
       "      <th>time</th>\n",
       "      <th>month</th>\n",
       "      <th>weekend</th>\n",
       "      <th>sin_time</th>\n",
       "      <th>cos_time</th>\n",
       "      <th>cos_month</th>\n",
       "      <th>sin_month</th>\n",
       "    </tr>\n",
       "  </thead>\n",
       "  <tbody>\n",
       "    <tr>\n",
       "      <th>0</th>\n",
       "      <td>CAMP</td>\n",
       "      <td>-104.987625</td>\n",
       "      <td>39.751184</td>\n",
       "      <td>6.85</td>\n",
       "      <td>2019-09-03 12:00:00</td>\n",
       "      <td>6.8325</td>\n",
       "      <td>74.075</td>\n",
       "      <td>40.375</td>\n",
       "      <td>8.5</td>\n",
       "      <td>CAMP</td>\n",
       "      <td>12</td>\n",
       "      <td>9</td>\n",
       "      <td>0</td>\n",
       "      <td>-0.140474</td>\n",
       "      <td>0.220920</td>\n",
       "      <td>0.215785</td>\n",
       "      <td>-0.477067</td>\n",
       "    </tr>\n",
       "    <tr>\n",
       "      <th>1</th>\n",
       "      <td>CAMP</td>\n",
       "      <td>-104.987625</td>\n",
       "      <td>39.751184</td>\n",
       "      <td>6.85</td>\n",
       "      <td>2019-09-03 14:00:00</td>\n",
       "      <td>14.3646</td>\n",
       "      <td>92.7212</td>\n",
       "      <td>35.494</td>\n",
       "      <td>9.9</td>\n",
       "      <td>CAMP</td>\n",
       "      <td>14</td>\n",
       "      <td>9</td>\n",
       "      <td>0</td>\n",
       "      <td>0.259340</td>\n",
       "      <td>0.035798</td>\n",
       "      <td>0.215785</td>\n",
       "      <td>-0.477067</td>\n",
       "    </tr>\n",
       "    <tr>\n",
       "      <th>2</th>\n",
       "      <td>CAMP</td>\n",
       "      <td>-104.987625</td>\n",
       "      <td>39.751184</td>\n",
       "      <td>6.85</td>\n",
       "      <td>2019-09-03 15:00:00</td>\n",
       "      <td>15.157</td>\n",
       "      <td>96.1796</td>\n",
       "      <td>33.6375</td>\n",
       "      <td>10.1</td>\n",
       "      <td>CAMP</td>\n",
       "      <td>15</td>\n",
       "      <td>9</td>\n",
       "      <td>0</td>\n",
       "      <td>0.170245</td>\n",
       "      <td>-0.198886</td>\n",
       "      <td>0.215785</td>\n",
       "      <td>-0.477067</td>\n",
       "    </tr>\n",
       "    <tr>\n",
       "      <th>3</th>\n",
       "      <td>CAMP</td>\n",
       "      <td>-104.987625</td>\n",
       "      <td>39.751184</td>\n",
       "      <td>6.85</td>\n",
       "      <td>2019-09-03 16:00:00</td>\n",
       "      <td>12.853</td>\n",
       "      <td>97.2634</td>\n",
       "      <td>32.7064</td>\n",
       "      <td>9.6</td>\n",
       "      <td>CAMP</td>\n",
       "      <td>16</td>\n",
       "      <td>9</td>\n",
       "      <td>0</td>\n",
       "      <td>-0.075373</td>\n",
       "      <td>-0.250715</td>\n",
       "      <td>0.215785</td>\n",
       "      <td>-0.477067</td>\n",
       "    </tr>\n",
       "    <tr>\n",
       "      <th>4</th>\n",
       "      <td>CAMP</td>\n",
       "      <td>-104.987625</td>\n",
       "      <td>39.751184</td>\n",
       "      <td>6.85</td>\n",
       "      <td>2019-09-03 17:00:00</td>\n",
       "      <td>10.8004</td>\n",
       "      <td>98.5676</td>\n",
       "      <td>30.504</td>\n",
       "      <td>8.6</td>\n",
       "      <td>CAMP</td>\n",
       "      <td>17</td>\n",
       "      <td>9</td>\n",
       "      <td>0</td>\n",
       "      <td>-0.251693</td>\n",
       "      <td>-0.072038</td>\n",
       "      <td>0.215785</td>\n",
       "      <td>-0.477067</td>\n",
       "    </tr>\n",
       "  </tbody>\n",
       "</table>\n",
       "</div>"
      ],
      "text/plain": [
       "  airnow_sensor   longitude   latitude  a_road_500           date_time  \\\n",
       "0          CAMP -104.987625  39.751184        6.85 2019-09-03 12:00:00   \n",
       "1          CAMP -104.987625  39.751184        6.85 2019-09-03 14:00:00   \n",
       "2          CAMP -104.987625  39.751184        6.85 2019-09-03 15:00:00   \n",
       "3          CAMP -104.987625  39.751184        6.85 2019-09-03 16:00:00   \n",
       "4          CAMP -104.987625  39.751184        6.85 2019-09-03 17:00:00   \n",
       "\n",
       "     pm_cs     temp humidity pm_airnow cs_sensor  time  month  weekend  \\\n",
       "0   6.8325   74.075   40.375       8.5      CAMP    12      9        0   \n",
       "1  14.3646  92.7212   35.494       9.9      CAMP    14      9        0   \n",
       "2   15.157  96.1796  33.6375      10.1      CAMP    15      9        0   \n",
       "3   12.853  97.2634  32.7064       9.6      CAMP    16      9        0   \n",
       "4  10.8004  98.5676   30.504       8.6      CAMP    17      9        0   \n",
       "\n",
       "   sin_time  cos_time  cos_month  sin_month  \n",
       "0 -0.140474  0.220920   0.215785  -0.477067  \n",
       "1  0.259340  0.035798   0.215785  -0.477067  \n",
       "2  0.170245 -0.198886   0.215785  -0.477067  \n",
       "3 -0.075373 -0.250715   0.215785  -0.477067  \n",
       "4 -0.251693 -0.072038   0.215785  -0.477067  "
      ]
     },
     "execution_count": 49,
     "metadata": {},
     "output_type": "execute_result"
    },
    {
     "data": {
      "application/javascript": [
       "\n",
       "            setTimeout(function() {\n",
       "                var nbb_cell_id = 49;\n",
       "                var nbb_unformatted_code = \"full_test_data.head()\";\n",
       "                var nbb_formatted_code = \"full_test_data.head()\";\n",
       "                var nbb_cells = Jupyter.notebook.get_cells();\n",
       "                for (var i = 0; i < nbb_cells.length; ++i) {\n",
       "                    if (nbb_cells[i].input_prompt_number == nbb_cell_id) {\n",
       "                        if (nbb_cells[i].get_text() == nbb_unformatted_code) {\n",
       "                             nbb_cells[i].set_text(nbb_formatted_code);\n",
       "                        }\n",
       "                        break;\n",
       "                    }\n",
       "                }\n",
       "            }, 500);\n",
       "            "
      ],
      "text/plain": [
       "<IPython.core.display.Javascript object>"
      ]
     },
     "metadata": {},
     "output_type": "display_data"
    }
   ],
   "source": [
    "full_test_data.head()"
   ]
  },
  {
   "cell_type": "code",
   "execution_count": 50,
   "id": "feb3f3f3",
   "metadata": {},
   "outputs": [
    {
     "data": {
      "application/javascript": [
       "\n",
       "            setTimeout(function() {\n",
       "                var nbb_cell_id = 50;\n",
       "                var nbb_unformatted_code = \"full_test_data.to_csv(data_root + \\\"cleaned_test.csv\\\", index=False)\";\n",
       "                var nbb_formatted_code = \"full_test_data.to_csv(data_root + \\\"cleaned_test.csv\\\", index=False)\";\n",
       "                var nbb_cells = Jupyter.notebook.get_cells();\n",
       "                for (var i = 0; i < nbb_cells.length; ++i) {\n",
       "                    if (nbb_cells[i].input_prompt_number == nbb_cell_id) {\n",
       "                        if (nbb_cells[i].get_text() == nbb_unformatted_code) {\n",
       "                             nbb_cells[i].set_text(nbb_formatted_code);\n",
       "                        }\n",
       "                        break;\n",
       "                    }\n",
       "                }\n",
       "            }, 500);\n",
       "            "
      ],
      "text/plain": [
       "<IPython.core.display.Javascript object>"
      ]
     },
     "metadata": {},
     "output_type": "display_data"
    }
   ],
   "source": [
    "full_test_data.to_csv(data_root + \"cleaned_test.csv\", index=False)"
   ]
  },
  {
   "cell_type": "markdown",
   "id": "ec34fb48",
   "metadata": {},
   "source": [
    "Now, we are done with the data cleaning phase"
   ]
  }
 ],
 "metadata": {
  "kernelspec": {
   "display_name": "Python 3",
   "language": "python",
   "name": "python3"
  },
  "language_info": {
   "codemirror_mode": {
    "name": "ipython",
    "version": 3
   },
   "file_extension": ".py",
   "mimetype": "text/x-python",
   "name": "python",
   "nbconvert_exporter": "python",
   "pygments_lexer": "ipython3",
   "version": "3.8.5"
  }
 },
 "nbformat": 4,
 "nbformat_minor": 5
}
